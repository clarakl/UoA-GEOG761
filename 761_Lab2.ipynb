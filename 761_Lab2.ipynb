{
  "nbformat": 4,
  "nbformat_minor": 0,
  "metadata": {
    "colab": {
      "provenance": [],
      "include_colab_link": true
    },
    "kernelspec": {
      "name": "python3",
      "display_name": "Python 3"
    },
    "language_info": {
      "name": "python"
    }
  },
  "cells": [
    {
      "cell_type": "markdown",
      "metadata": {
        "id": "view-in-github",
        "colab_type": "text"
      },
      "source": [
        "<a href=\"https://colab.research.google.com/github/clarakl/UoA-GEOG761/blob/main/761_Lab2.ipynb\" target=\"_parent\"><img src=\"https://colab.research.google.com/assets/colab-badge.svg\" alt=\"Open In Colab\"/></a>"
      ]
    },
    {
      "cell_type": "markdown",
      "source": [
        "# Introduction\n",
        "Welcome to Lab 2, in this lab we will take our first steps into applying ML to satellite data, using landcover analysis as our primary goal.\n",
        "\n",
        "As covered in Lecture 2, landcover classification is the quintessential remote sensing task in the civil sector. The LandSat programme was originally developed in large part to enable the USA to monitor landcover more easily for a range of agricultral, govermental and finacial problemsets. It remains a primary task for governments and companies around the world.\n",
        "\n",
        "This is a pixel-wise ML task. We will apply two methods, both of which are available in GEE as ready-to-go algorithms. In this instance we are happy to go with built-in as it allows us to become familiar with an end-to-end GEE ML workflow without getting bogged down in technical detail. No need to re-invent the wheel unless you are going to the [moon](https://www.nasa.gov/feature/ames/artemis-moon-rover-s-wheels-are-ready-to-roll/).\n",
        "\n",
        "Remember that this is a set of exercises and tutorials that escalate in difficulty. Always show your working and do not neccesarily expect to get full marks on everything.\n",
        "\n",
        "Use the resources available to you outside of this material. I expect you to search for concepts or terms you do not understand and to look at the documentation of the code packages that we are using in the first instance of getting stuck.\n",
        "_______________________________________________________________________________"
      ],
      "metadata": {
        "id": "AbZaU_XVH7Zc"
      }
    },
    {
      "cell_type": "code",
      "source": [
        "from google.colab import drive\n",
        "drive.mount('/content/drive')"
      ],
      "metadata": {
        "colab": {
          "base_uri": "https://localhost:8080/"
        },
        "id": "cHeglwdZikpd",
        "outputId": "c651b5c1-ce05-4188-ff2b-c287233d1c53"
      },
      "execution_count": null,
      "outputs": [
        {
          "output_type": "stream",
          "name": "stdout",
          "text": [
            "Mounted at /content/drive\n"
          ]
        }
      ]
    },
    {
      "cell_type": "markdown",
      "source": [
        "# Set up"
      ],
      "metadata": {
        "id": "7LjIQAw2OM6N"
      }
    },
    {
      "cell_type": "code",
      "execution_count": null,
      "metadata": {
        "id": "VJI6OPweHOLP"
      },
      "outputs": [],
      "source": [
        "# Install libs if needed, note the --quiet option means a lot less annoying info than as Lab 1 when we did the same!\n",
        "# !pip install geemap --quiet"
      ]
    },
    {
      "cell_type": "code",
      "source": [
        "# Set up GEE API\n",
        "import ee\n",
        "ee.Authenticate()\n",
        "ee.Initialize(project='clara-geog761-tryout-1') #<- Remember to change this to your own project's name!"
      ],
      "metadata": {
        "id": "oTVEkaWvOjHL",
        "colab": {
          "base_uri": "https://localhost:8080/",
          "height": 17
        },
        "outputId": "de80984a-f3e5-4986-e433-3a2196ad1fa0"
      },
      "execution_count": null,
      "outputs": [
        {
          "output_type": "display_data",
          "data": {
            "text/plain": [
              "<IPython.core.display.HTML object>"
            ],
            "text/html": [
              "\n",
              "            <style>\n",
              "                .geemap-dark {\n",
              "                    --jp-widgets-color: white;\n",
              "                    --jp-widgets-label-color: white;\n",
              "                    --jp-ui-font-color1: white;\n",
              "                    --jp-layout-color2: #454545;\n",
              "                    background-color: #383838;\n",
              "                }\n",
              "\n",
              "                .geemap-dark .jupyter-button {\n",
              "                    --jp-layout-color3: #383838;\n",
              "                }\n",
              "\n",
              "                .geemap-colab {\n",
              "                    background-color: var(--colab-primary-surface-color, white);\n",
              "                }\n",
              "\n",
              "                .geemap-colab .jupyter-button {\n",
              "                    --jp-layout-color3: var(--colab-primary-surface-color, white);\n",
              "                }\n",
              "            </style>\n",
              "            "
            ]
          },
          "metadata": {}
        }
      ]
    },
    {
      "cell_type": "code",
      "source": [
        "# Import other libs\n",
        "import geemap\n",
        "import geopandas as gpd\n",
        "import pandas as pd"
      ],
      "metadata": {
        "id": "YIR6jwwAOs_v"
      },
      "execution_count": null,
      "outputs": []
    },
    {
      "cell_type": "markdown",
      "source": [
        "# Define Area of Interest (AOI)"
      ],
      "metadata": {
        "id": "OxOt8gypOypv"
      }
    },
    {
      "cell_type": "code",
      "source": [
        "# Define area of interest (e.g., Wellington, NZ)\n",
        "aoi = ee.Geometry.Rectangle([174.6, -41.4, 174.9, -41.2])\n",
        "Map = geemap.Map(center=[-41.3, 174.75], zoom=10)\n",
        "Map.addLayer(aoi, {}, 'AOI')\n",
        "\n",
        "# Visualize on the map to check got it right... (always a good idea)\n",
        "Map"
      ],
      "metadata": {
        "id": "609ruafINvXo"
      },
      "execution_count": null,
      "outputs": []
    },
    {
      "cell_type": "markdown",
      "source": [
        "# Load and Cloud Mask Imagery from Earth Engine"
      ],
      "metadata": {
        "id": "HEV99nmEPUbQ"
      }
    },
    {
      "cell_type": "code",
      "source": [
        "# Set up your filter Sentinel-2 imagery\n",
        "# A function that masks clouds in your S2 images via QA band\n",
        "def mask_s2_clouds(image):\n",
        "    qa = image.select('QA60')\n",
        "    cloudBitMask = 1 << 10\n",
        "    cirrusBitMask = 1 << 11\n",
        "    mask = qa.bitwiseAnd(cloudBitMask).eq(0).And(\n",
        "           qa.bitwiseAnd(cirrusBitMask).eq(0))\n",
        "    return image.updateMask(mask).divide(10000).select(['B2', 'B3', 'B4', 'B8'])\n",
        "\n",
        "# Now build the clean collection with selected bands\n",
        "s2 = (ee.ImageCollection('COPERNICUS/S2_SR_HARMONIZED')\n",
        "      .filterBounds(aoi) #This filters out all available images that overlap with my aoi\n",
        "      .filterDate('2020-01-01', '2020-12-31')\n",
        "      .filter(ee.Filter.lt('CLOUDY_PIXEL_PERCENTAGE', 10))\n",
        "      .map(mask_s2_clouds)\n",
        "      .median() #<- think about this step and what it is doing to your image when you build your single composite from the image collection\n",
        "      .clip(aoi)) #This takes the final composite image that is an overlap of diferent images with different boundarie, all somehow inlcuding my aoi, and cutting it to only have my aoi"
      ],
      "metadata": {
        "id": "mkYl36KRNyRd"
      },
      "execution_count": null,
      "outputs": []
    },
    {
      "cell_type": "markdown",
      "source": [
        "(1) What other mathematical [compositing](https://developers.google.com/earth-engine/guides/ic_composite_mosaic) approaches could you take when building your single image from the filtered image collection you create in the cell above? Hint: you currently are doing a 'median-composite'. (3 pts)"
      ],
      "metadata": {
        "id": "koEefrEza8t3"
      }
    },
    {
      "cell_type": "code",
      "source": [
        "# Set up the visualisation and then once again check it has worked, stacking layers in a sensible order\n",
        "Map = geemap.Map(center=[-41.3, 174.75], zoom=11) #<- reset the map object to clear out other layers from earlier cells\n",
        "Map.addLayer(s2, {'bands': ['B4', 'B3', 'B2'], 'min': 0, 'max': 0.3}, 'S2 RGB')\n",
        "Map.addLayer(aoi, {'color': 'red'}, 'AOI')\n",
        "Map"
      ],
      "metadata": {
        "id": "UZ1hfnD3PZSX"
      },
      "execution_count": null,
      "outputs": []
    },
    {
      "cell_type": "markdown",
      "source": [
        "________________________________________________________________________________"
      ],
      "metadata": {
        "id": "FEDOPqbwiPmp"
      }
    },
    {
      "cell_type": "markdown",
      "source": [
        "# Training data\n",
        "\n",
        "We are going to train our data using the European Space Agency (ESA) world landcover map. Given that this is derived from satellite data our logic is at risk of becoming a little circular here. But as a training exercise it is a good way to have easy to access training data of the right size and type to apply to our image.\n",
        "\n",
        "There are a wide range of landcover datasets in the GEE catalogue that you can use for this purpose:\n",
        "*   https://developers.google.com/earth-engine/datasets/tags/landuse-landcover\n",
        "\n",
        "First, we will load in the landcover map we will use to create our training dataset (https://developers.google.com/earth-engine/datasets/catalog/ESA_WorldCover_v100):\n",
        "\n"
      ],
      "metadata": {
        "id": "eFV2IN6WVD-3"
      }
    },
    {
      "cell_type": "markdown",
      "source": [
        "Next we need to use our landcover map to [sample](https://developers.google.com/earth-engine/apidocs/ee-image-sample) the Sentinel 2 image, associating each pixel of a given landcover with the spectral band values 'beneath' it."
      ],
      "metadata": {
        "id": "PC49HraHWOih"
      }
    },
    {
      "cell_type": "code",
      "source": [
        "# Define valid WorldCover classes (10 to 100, spaced by 10)\n",
        "valid_classes = ee.List.sequence(10, 100, 10)\n",
        "\n",
        "# Need to change this to sequential list to avoid the algorithms thinking there are 99 classes rather than 9\n",
        "remap_to = ee.List.sequence(1, 10)\n",
        "\n",
        "# Load and mask WorldCover map to valid classes only\n",
        "landcover = ee.Image('ESA/WorldCover/v100/2020').select('Map').clip(aoi)\n",
        "landcover_masked = landcover.updateMask(landcover.remap(valid_classes, ee.List.repeat(1, 10))) #The professor told me that this line is probably obsolete ebacsue we can just skip the masking and remap the class values immediately\n",
        "\n",
        "# Remap labels: create a new band with remapped values (10 → 1, ..., 100 → 10)\n",
        "landcover_remapped = landcover.remap(valid_classes, remap_to).rename('Map_remapped')"
      ],
      "metadata": {
        "id": "Qxq3kumyWG0U"
      },
      "execution_count": null,
      "outputs": []
    },
    {
      "cell_type": "markdown",
      "source": [
        "(2) What year of data was this landcover map (accessed in the cell above) created on? (1 pt)"
      ],
      "metadata": {
        "id": "7v770SAWbsBg"
      }
    },
    {
      "cell_type": "code",
      "source": [
        "# Add landcover original and remapped as bands to Sentinel-2 image\n",
        "training_data = s2.addBands(landcover_masked.rename('Map')).addBands(landcover_remapped)"
      ],
      "metadata": {
        "id": "5dulg_UTkpkR"
      },
      "execution_count": null,
      "outputs": []
    },
    {
      "cell_type": "markdown",
      "source": [
        "Let's inspect the resulting training dataset and make sure that you understand what you have built here.\n",
        "\n",
        "We are going to:\n",
        "- Print the first few rows (client-side).\n",
        "- Check the number of samples per class (server-side with reduceColumns).\n",
        "\n",
        "This may take a little time to run as we request data both client and server side."
      ],
      "metadata": {
        "id": "n8vEEI8cYfAI"
      }
    },
    {
      "cell_type": "code",
      "source": [
        "# Sample the image\n",
        "bands = ['B2', 'B3', 'B4', 'B8']\n",
        "sample = training_data.select(bands + ['Map_remapped']).sample(\n",
        "    region=aoi,\n",
        "    scale=10,\n",
        "    numPixels=5000,\n",
        "    seed=2,\n",
        "    geometries=True)\n",
        "\n",
        "# Print first 10 sample points (client-side)\n",
        "first_10 = sample.limit(10).getInfo()\n",
        "\n",
        "print('\\nFirst 10 training samples:')\n",
        "for i, feature in enumerate(first_10['features']):\n",
        "    props = feature['properties']\n",
        "    print(f\"Sample {i+1}: Class={props['Map_remapped']}, B2={props['B2']}, B3={props['B3']}, B4={props['B4']}, B8={props['B8']}\")\n",
        "\n",
        "# Count number of samples per class (server-side)\n",
        "class_counts = sample.reduceColumns(\n",
        "    reducer=ee.Reducer.frequencyHistogram(),\n",
        "    selectors=['Map_remapped'])\n",
        "\n",
        "print('\\nClass distribution in sample:')\n",
        "print(class_counts.getInfo())\n"
      ],
      "metadata": {
        "id": "9N4ONGxYX077"
      },
      "execution_count": null,
      "outputs": []
    },
    {
      "cell_type": "markdown",
      "source": [
        "(3) What type of landcover is being sampled in sample number 2 of the dataset? Make sure your random seed is set to 2 in the sampling code so that you get the same answer as me. (1 pt)"
      ],
      "metadata": {
        "id": "B1gJiAKVcvIN"
      }
    },
    {
      "cell_type": "markdown",
      "source": [
        "We are now ready to start machine learning on classifying the landcover of Wellington!\n",
        "________________________________________________________________________________"
      ],
      "metadata": {
        "id": "QiJOePZ3XKeI"
      }
    },
    {
      "cell_type": "markdown",
      "source": [
        "# Random Forest Classification for Landcover\n",
        "Let us do machine learning properly and first apply a 70/20/10 split that allows us to produce some accuracy statistics."
      ],
      "metadata": {
        "id": "rartTYCVSQvv"
      }
    },
    {
      "cell_type": "code",
      "source": [
        "# Add random column to my sample dataframe that assigns a random number between 0.0 and 1.0 to each sample\n",
        "sample = sample.randomColumn('random')\n",
        "\n",
        "# Split\n",
        "train = sample.filter(ee.Filter.lt('random', 0.7)) # .lt means less than (<)\n",
        "valid = sample.filter(ee.Filter.And(ee.Filter.gte('random', 0.7), ee.Filter.lt('random', 0.9))) # .gte means greater than or equal (>=)\n",
        "test = sample.filter(ee.Filter.gte('random', 0.9))"
      ],
      "metadata": {
        "id": "okP_9BkwSZF_"
      },
      "execution_count": null,
      "outputs": []
    },
    {
      "cell_type": "markdown",
      "source": [
        "Our next task is to set up a classifier object, followed by applying it to the image using the .classify operator. This operator hides a LOT of behind the scenes plumbing from Google.\n",
        "\n",
        "We use the [GEE Random Forest](https://developers.google.com/earth-engine/apidocs/ee-classifier-smilerandomforest) model that they have pre-built for us. Specifying the number of trees to use is the only variable we must set. Othe variables are available, read the docs!"
      ],
      "metadata": {
        "id": "GXatbmouXTcF"
      }
    },
    {
      "cell_type": "code",
      "source": [
        "# Train the RF model\n",
        "classifier = ee.Classifier.smileRandomForest(numberOfTrees=100).train(\n",
        "    features=train,\n",
        "    classProperty='Map_remapped',\n",
        "    inputProperties=bands)"
      ],
      "metadata": {
        "id": "xCL4Cw7ON30v"
      },
      "execution_count": null,
      "outputs": []
    },
    {
      "cell_type": "markdown",
      "source": [
        "With the model trained, we just apply it simply using the '.classify' operator."
      ],
      "metadata": {
        "id": "foNf7Wg6Zx0k"
      }
    },
    {
      "cell_type": "code",
      "source": [
        "# Classify image\n",
        "classified = s2.select(bands).classify(classifier)"
      ],
      "metadata": {
        "id": "Xcb1MkUiZuhU"
      },
      "execution_count": null,
      "outputs": []
    },
    {
      "cell_type": "markdown",
      "source": [
        "Let's visualize what we have just made!"
      ],
      "metadata": {
        "id": "68RI1Y8dSr7s"
      }
    },
    {
      "cell_type": "code",
      "source": [
        "# Classified image viz, fresh set up again to make sure we have exactly what we want displayed.\n",
        "Map = geemap.Map()\n",
        "Map.centerObject(aoi, 10)\n",
        "Map.addLayer(classified.randomVisualizer(), {}, 'Classified')\n",
        "Map.addLayer(landcover_remapped.randomVisualizer(), {} ,'ESA Landcover')\n",
        "Map"
      ],
      "metadata": {
        "id": "3MrnPtEMStuT"
      },
      "execution_count": null,
      "outputs": []
    },
    {
      "cell_type": "code",
      "source": [
        "\n",
        "palette = [\n",
        "    '#006400',  # 1: Tree cover (dark green)\n",
        "    '#ffbb22',  # 2: Shrubland (orange)\n",
        "    '#ffff4c',  # 3: Grassland (yellow)\n",
        "    '#f096ff',  # 4: Cropland (pink)\n",
        "    '#fa0000',  # 5: Built-up (red)\n",
        "    '#b4b4b4',  # 6: Bare / sparse vegetation (grey)\n",
        "    '#f0f0f0',  # 7: Snow and ice (white)\n",
        "    '#0064c8',  # 8: Permanent water bodies (blue)\n",
        "    '#0096a0',  # 9: Herbaceous wetland (cyan)\n",
        "    '#00cf75',  # 10: Mangroves (light green)\n",
        "]\n",
        "\n",
        "# Define the visualization parameters using your palette\n",
        "vis_params = {'min': 1, 'max': 10, 'palette': palette}\n",
        "\n",
        "# 2. Add layers to the map using the SAME visualization parameters\n",
        "Map = geemap.Map()\n",
        "Map.centerObject(aoi, 10)\n",
        "\n",
        "# Use .visualize(vis_params) instead of .randomVisualizer()\n",
        "Map.addLayer(classified, vis_params, 'Classified')\n",
        "Map.addLayer(landcover_remapped, vis_params, 'ESA Landcover')\n",
        "\n",
        "Map"
      ],
      "metadata": {
        "id": "gxE8foLE8P0I"
      },
      "execution_count": null,
      "outputs": []
    },
    {
      "cell_type": "markdown",
      "source": [
        "(4) Look at the ESA landcover map and our resulting random forest classified Sentinel 2 image map. How are they different and what might be some causes of this difference? (5 pts)"
      ],
      "metadata": {
        "id": "iPXMRuwAdjT0"
      }
    },
    {
      "cell_type": "markdown",
      "source": [
        "Finally, we will apply our test data split and produce the summary statistics that we need to make smart choices about our training approach."
      ],
      "metadata": {
        "id": "2m1V4yX2UKrz"
      }
    },
    {
      "cell_type": "code",
      "source": [
        "from sklearn.metrics import confusion_matrix, classification_report\n",
        "import pandas as pd\n",
        "\n",
        "\n",
        "# Validate\n",
        "validated = valid.classify(classifier, 'predicted')\n",
        "\n",
        "# Function to export data for confusion matrix\n",
        "def fc_to_lists(fc, classProp, predProp):\n",
        "    values = fc.aggregate_array(classProp).getInfo()\n",
        "    preds = fc.aggregate_array(predProp).getInfo()\n",
        "    return values, preds\n",
        "\n",
        "# Get predicted vs actual from validation set\n",
        "y_true, y_pred = fc_to_lists(validated, 'Map_remapped', 'predicted')\n",
        "\n",
        "# Labels for original classes\n",
        "label_map = {i + 1: valid_classes.get(i).getInfo() for i in range(10)}\n",
        "label_names = [label_map[i + 1] for i in range(10)]\n",
        "\n",
        "# Confusion matrix\n",
        "cm = confusion_matrix(y_true, y_pred, labels=list(range(1, 11)))\n",
        "report = classification_report(y_true, y_pred, labels=list(range(1, 11)), target_names=[str(l) for l in label_names])\n",
        "\n",
        "# Pretty-print\n",
        "print(\"Confusion Matrix:\")\n",
        "print(pd.DataFrame(cm, index=[f\"Actual {l}\" for l in label_names],\n",
        "                       columns=[f\"Pred {l}\" for l in label_names]))\n",
        "print(\"\\nClassification Report:\")\n",
        "print(report)"
      ],
      "metadata": {
        "id": "Zsjs-kDeeRMz"
      },
      "execution_count": null,
      "outputs": []
    },
    {
      "cell_type": "markdown",
      "source": [
        "(5) Exercise: modify the code so that you feed into your random forest classifier that has been trained on 2020 data, on other years of Sentinel 2 data than 2020. Produce a publication quality figure that presents the following:\n",
        "*   Landcover maps of Wellington for 2018, 2022 and 2024\n",
        "*   The Test accuracy averages of the RF classifier for 2020.\n",
        "*   Include a sentence in your figure caption that explains why you cannot state the accuracy of the classifier for years other than 2020.\n",
        "(15 pts)\n",
        "_______________________________________________________________________________\n"
      ],
      "metadata": {
        "id": "bF4ehsu6eiOg"
      }
    },
    {
      "cell_type": "code",
      "source": [
        "import matplotlib.pyplot as plt\n",
        "import matplotlib.image as mpimg\n",
        "import matplotlib.patches as patches\n",
        "import urllib.request\n",
        "import tempfile\n",
        "\n",
        "\n",
        "# Creating training data fro the 3 years\n",
        "\n",
        "s2_2018 = (ee.ImageCollection('COPERNICUS/S2_SR_HARMONIZED')\n",
        "      .filterBounds(aoi) #This filters out all available images that overlap with my aoi\n",
        "      .filterDate('2018-01-01', '2018-12-31')\n",
        "      .filter(ee.Filter.lt('CLOUDY_PIXEL_PERCENTAGE', 10))\n",
        "      .map(mask_s2_clouds)\n",
        "      .median() #<- think about this step and what it is doing to your image when you build your single composite from the image collection\n",
        "      .clip(aoi))\n",
        "\n",
        "s2_2022 = (ee.ImageCollection('COPERNICUS/S2_SR_HARMONIZED')\n",
        "      .filterBounds(aoi) #This filters out all available images that overlap with my aoi\n",
        "      .filterDate('2022-01-01', '2022-12-31')\n",
        "      .filter(ee.Filter.lt('CLOUDY_PIXEL_PERCENTAGE', 10))\n",
        "      .map(mask_s2_clouds)\n",
        "      .median() #<- think about this step and what it is doing to your image when you build your single composite from the image collection\n",
        "      .clip(aoi))\n",
        "\n",
        "s2_2024 = (ee.ImageCollection('COPERNICUS/S2_SR_HARMONIZED')\n",
        "      .filterBounds(aoi) #This filters out all available images that overlap with my aoi\n",
        "      .filterDate('2024-01-01', '2024-12-31')\n",
        "      .filter(ee.Filter.lt('CLOUDY_PIXEL_PERCENTAGE', 10))\n",
        "      .map(mask_s2_clouds)\n",
        "      .median() #<- think about this step and what it is doing to your image when you build your single composite from the image collection\n",
        "      .clip(aoi))\n",
        "\n",
        "# Here, I apply the classifier (trained on 2020 data!) to the otehr years\n",
        "classified_2018 = s2_2018.select(bands).classify(classifier)\n",
        "classified_2022 = s2_2022.select(bands).classify(classifier)\n",
        "classified_2024 = s2_2024.select(bands).classify(classifier)\n",
        "\n",
        "test_classified = test.classify(classifier)\n",
        "error_matrix = test_classified.errorMatrix('Map_remapped', 'classification')\n",
        "test_accuracy = error_matrix.accuracy().getInfo()\n",
        "print(f\"Overall test accuracy for 2020: {test_accuracy}\")\n",
        "\n",
        "# Creating the publication figure\n",
        "\n",
        "\n",
        "# Set up a figure with 3 subplots\n",
        "fig, axes = plt.subplots(1, 3, figsize=(20, 7), dpi=150)\n",
        "plt.rcParams.update({'font.size': 12, 'font.family': 'sans-serif'})\n",
        "\n",
        "maps_to_plot = {\n",
        "    '2018': classified_2018,\n",
        "    '2022': classified_2022,\n",
        "    '2024': classified_2024\n",
        "}\n",
        "\n",
        "# Loop through each map to create the subplots\n",
        "for ax, (year, classified_image) in zip(axes, maps_to_plot.items()):\n",
        "    url = classified_image.getThumbURL({'min': 1, 'max': 10, 'palette': palette, 'dimensions': 512})\n",
        "    with tempfile.NamedTemporaryFile(suffix=\".png\") as f:\n",
        "        urllib.request.urlretrieve(url, f.name)\n",
        "        img = mpimg.imread(f.name)\n",
        "        ax.imshow(img)\n",
        "    ax.set_title(f\"Wellington Land Cover ({year})\", fontsize=18, weight='bold')\n",
        "    ax.set_xticks([])\n",
        "    ax.set_yticks([])\n",
        "\n",
        "\n",
        "class_names = [\n",
        "    'Tree cover', 'Shrubland', 'Grassland', 'Cropland', 'Built-up',\n",
        "    'Bare / sparse vegetation', 'Snow and ice', 'Permanent water bodies',\n",
        "    'Herbaceous wetland', 'Mangroves'\n",
        "]\n",
        "# Source: https://worldcover2020.esa.int/\n",
        "\n",
        "# Creating the legend\n",
        "legend_patches = [patches.Patch(color=color, label=name) for color, name in zip(palette, class_names)]\n",
        "\n",
        "fig.legend(handles=legend_patches,\n",
        "           bbox_to_anchor=(0.5, 0.2),\n",
        "           loc='upper center',\n",
        "           ncol=5, # Arranging legend in 5 columns\n",
        "           fontsize=10,\n",
        "           title=\"Land Cover Legend\",\n",
        "           title_fontsize=15)\n",
        "\n",
        "# Creating caption\n",
        "caption = (\n",
        "    f\"Figure 1. Land cover classifications for Wellington, NZ, for the years 2018, 2022, and 2024. The classifier achieved a test\\n\"\n",
        "    f\"accuracy of {test_accuracy:.2%} on the held-out 2020 test data. The accuracy of the classifications for 2018, 2022, and 2024 cannot be stated,\\n\"\n",
        "    f\"as no corresponding ground truth data was used for validation in those years.\"\n",
        ")\n",
        "\n",
        "fig.text(0.5, -0.05, caption, ha='center', fontsize=15, wrap=True)\n",
        "plt.tight_layout(rect=[0, 0.05, 1, 1])\n",
        "plt.show()"
      ],
      "metadata": {
        "id": "WpXYLNlsKxSM"
      },
      "execution_count": null,
      "outputs": []
    },
    {
      "cell_type": "markdown",
      "source": [
        "# SVMs Applied to Satellite Data"
      ],
      "metadata": {
        "id": "c0yjMM0QVEE1"
      }
    },
    {
      "cell_type": "code",
      "source": [
        "# Define and train the SVM classifier\n",
        "class_property = 'Map_remapped'\n",
        "svm = ee.Classifier.libsvm(kernelType='RBF', gamma=0.5, cost=10).train(\n",
        "    features=train,\n",
        "    classProperty=class_property,\n",
        "    inputProperties=bands\n",
        ")\n",
        "\n",
        "# Classify validation and test sets\n",
        "val_classified = valid.classify(svm)\n",
        "test_classified = test.classify(svm)\n",
        "\n",
        "# Evaluate test performance\n",
        "test_matrix = test_classified.errorMatrix(class_property, 'classification')\n",
        "print(\"Confusion Matrix:\")\n",
        "print(pd.DataFrame(cm, index=[f\"Actual {l}\" for l in label_names],\n",
        "                       columns=[f\"Pred {l}\" for l in label_names]))\n",
        "print(\"\\nClassification Report:\")\n",
        "print(report)"
      ],
      "metadata": {
        "id": "nBAPJkRbV0Y9"
      },
      "execution_count": null,
      "outputs": []
    },
    {
      "cell_type": "markdown",
      "source": [
        "(6) Exercise: using an SVM model and the Landcare NZ 2024 landcover database, produce a landcover map of Great Barrier (Aotea) Island for 2025 (based off the Austral summer of 24/25).\n",
        "\n",
        "Your map should be presented at a publication quality level with all the usual map components (scale, legend, north arrow, data attribution).\n",
        "\n",
        "You will need to provide performance statistics of the model within your figure.\n",
        "\n",
        "*   Here you can access the landcover database: https://lris.scinfo.org.nz/layer/104400-lcdb-v50-land-cover-database-version-50-mainland-new-zealand/. You will need to explore for yourself how to extract this data and then upload it to colab, then how to plug it into the SVM algorithim. I have provided some starter code below.\n",
        "\n",
        "An intial workflow to get the data into the state you need it in to then use it as training data might look like:\n",
        "- Download the ZIP manually from their browser, having set your area of interest and used the 'Export' tool top right.\n",
        "- Upload it to Colab.\n",
        "- Unzip it and load with GeoPandas.\n",
        "(25 pts)\n",
        "\n"
      ],
      "metadata": {
        "id": "MnE3-ryXw891"
      }
    },
    {
      "cell_type": "code",
      "source": [
        "# Code to get you started\n",
        "import zipfile\n",
        "import geopandas as gpd\n",
        "\n",
        "# Upload the ZIP manually using the Colab UI\n",
        "from google.colab import files\n",
        "uploaded = files.upload()  # <- Expects a ZIP\n",
        "\n",
        "# Unzip\n",
        "with zipfile.ZipFile(\"lris-lcdb-v50-land-cover-database-version-50-mainland-new-zealand-SHP.zip\", 'r') as zip_ref: #<- Check file names\n",
        "    zip_ref.extractall(\"lcdb\")\n",
        "\n",
        "# Read shapefile\n",
        "gdf = gpd.read_file(\"lcdb/lcdb-v50-land-cover-database-version-50-mainland-new-zealand.shp\") #<- Check file names\n",
        "print(gdf.head())\n"
      ],
      "metadata": {
        "id": "GJnG3aWQ0J90",
        "colab": {
          "base_uri": "https://localhost:8080/",
          "height": 718
        },
        "outputId": "5b5d74bc-4cf7-4ea5-f1ee-052d1e58c4ac"
      },
      "execution_count": null,
      "outputs": [
        {
          "output_type": "display_data",
          "data": {
            "text/plain": [
              "<IPython.core.display.HTML object>"
            ],
            "text/html": [
              "\n",
              "            <style>\n",
              "                .geemap-dark {\n",
              "                    --jp-widgets-color: white;\n",
              "                    --jp-widgets-label-color: white;\n",
              "                    --jp-ui-font-color1: white;\n",
              "                    --jp-layout-color2: #454545;\n",
              "                    background-color: #383838;\n",
              "                }\n",
              "\n",
              "                .geemap-dark .jupyter-button {\n",
              "                    --jp-layout-color3: #383838;\n",
              "                }\n",
              "\n",
              "                .geemap-colab {\n",
              "                    background-color: var(--colab-primary-surface-color, white);\n",
              "                }\n",
              "\n",
              "                .geemap-colab .jupyter-button {\n",
              "                    --jp-layout-color3: var(--colab-primary-surface-color, white);\n",
              "                }\n",
              "            </style>\n",
              "            "
            ]
          },
          "metadata": {}
        },
        {
          "output_type": "display_data",
          "data": {
            "text/plain": [
              "<IPython.core.display.HTML object>"
            ],
            "text/html": [
              "\n",
              "     <input type=\"file\" id=\"files-09df851e-72cf-4f8e-b802-a6e165efa12a\" name=\"files[]\" multiple disabled\n",
              "        style=\"border:none\" />\n",
              "     <output id=\"result-09df851e-72cf-4f8e-b802-a6e165efa12a\">\n",
              "      Upload widget is only available when the cell has been executed in the\n",
              "      current browser session. Please rerun this cell to enable.\n",
              "      </output>\n",
              "      <script>// Copyright 2017 Google LLC\n",
              "//\n",
              "// Licensed under the Apache License, Version 2.0 (the \"License\");\n",
              "// you may not use this file except in compliance with the License.\n",
              "// You may obtain a copy of the License at\n",
              "//\n",
              "//      http://www.apache.org/licenses/LICENSE-2.0\n",
              "//\n",
              "// Unless required by applicable law or agreed to in writing, software\n",
              "// distributed under the License is distributed on an \"AS IS\" BASIS,\n",
              "// WITHOUT WARRANTIES OR CONDITIONS OF ANY KIND, either express or implied.\n",
              "// See the License for the specific language governing permissions and\n",
              "// limitations under the License.\n",
              "\n",
              "/**\n",
              " * @fileoverview Helpers for google.colab Python module.\n",
              " */\n",
              "(function(scope) {\n",
              "function span(text, styleAttributes = {}) {\n",
              "  const element = document.createElement('span');\n",
              "  element.textContent = text;\n",
              "  for (const key of Object.keys(styleAttributes)) {\n",
              "    element.style[key] = styleAttributes[key];\n",
              "  }\n",
              "  return element;\n",
              "}\n",
              "\n",
              "// Max number of bytes which will be uploaded at a time.\n",
              "const MAX_PAYLOAD_SIZE = 100 * 1024;\n",
              "\n",
              "function _uploadFiles(inputId, outputId) {\n",
              "  const steps = uploadFilesStep(inputId, outputId);\n",
              "  const outputElement = document.getElementById(outputId);\n",
              "  // Cache steps on the outputElement to make it available for the next call\n",
              "  // to uploadFilesContinue from Python.\n",
              "  outputElement.steps = steps;\n",
              "\n",
              "  return _uploadFilesContinue(outputId);\n",
              "}\n",
              "\n",
              "// This is roughly an async generator (not supported in the browser yet),\n",
              "// where there are multiple asynchronous steps and the Python side is going\n",
              "// to poll for completion of each step.\n",
              "// This uses a Promise to block the python side on completion of each step,\n",
              "// then passes the result of the previous step as the input to the next step.\n",
              "function _uploadFilesContinue(outputId) {\n",
              "  const outputElement = document.getElementById(outputId);\n",
              "  const steps = outputElement.steps;\n",
              "\n",
              "  const next = steps.next(outputElement.lastPromiseValue);\n",
              "  return Promise.resolve(next.value.promise).then((value) => {\n",
              "    // Cache the last promise value to make it available to the next\n",
              "    // step of the generator.\n",
              "    outputElement.lastPromiseValue = value;\n",
              "    return next.value.response;\n",
              "  });\n",
              "}\n",
              "\n",
              "/**\n",
              " * Generator function which is called between each async step of the upload\n",
              " * process.\n",
              " * @param {string} inputId Element ID of the input file picker element.\n",
              " * @param {string} outputId Element ID of the output display.\n",
              " * @return {!Iterable<!Object>} Iterable of next steps.\n",
              " */\n",
              "function* uploadFilesStep(inputId, outputId) {\n",
              "  const inputElement = document.getElementById(inputId);\n",
              "  inputElement.disabled = false;\n",
              "\n",
              "  const outputElement = document.getElementById(outputId);\n",
              "  outputElement.innerHTML = '';\n",
              "\n",
              "  const pickedPromise = new Promise((resolve) => {\n",
              "    inputElement.addEventListener('change', (e) => {\n",
              "      resolve(e.target.files);\n",
              "    });\n",
              "  });\n",
              "\n",
              "  const cancel = document.createElement('button');\n",
              "  inputElement.parentElement.appendChild(cancel);\n",
              "  cancel.textContent = 'Cancel upload';\n",
              "  const cancelPromise = new Promise((resolve) => {\n",
              "    cancel.onclick = () => {\n",
              "      resolve(null);\n",
              "    };\n",
              "  });\n",
              "\n",
              "  // Wait for the user to pick the files.\n",
              "  const files = yield {\n",
              "    promise: Promise.race([pickedPromise, cancelPromise]),\n",
              "    response: {\n",
              "      action: 'starting',\n",
              "    }\n",
              "  };\n",
              "\n",
              "  cancel.remove();\n",
              "\n",
              "  // Disable the input element since further picks are not allowed.\n",
              "  inputElement.disabled = true;\n",
              "\n",
              "  if (!files) {\n",
              "    return {\n",
              "      response: {\n",
              "        action: 'complete',\n",
              "      }\n",
              "    };\n",
              "  }\n",
              "\n",
              "  for (const file of files) {\n",
              "    const li = document.createElement('li');\n",
              "    li.append(span(file.name, {fontWeight: 'bold'}));\n",
              "    li.append(span(\n",
              "        `(${file.type || 'n/a'}) - ${file.size} bytes, ` +\n",
              "        `last modified: ${\n",
              "            file.lastModifiedDate ? file.lastModifiedDate.toLocaleDateString() :\n",
              "                                    'n/a'} - `));\n",
              "    const percent = span('0% done');\n",
              "    li.appendChild(percent);\n",
              "\n",
              "    outputElement.appendChild(li);\n",
              "\n",
              "    const fileDataPromise = new Promise((resolve) => {\n",
              "      const reader = new FileReader();\n",
              "      reader.onload = (e) => {\n",
              "        resolve(e.target.result);\n",
              "      };\n",
              "      reader.readAsArrayBuffer(file);\n",
              "    });\n",
              "    // Wait for the data to be ready.\n",
              "    let fileData = yield {\n",
              "      promise: fileDataPromise,\n",
              "      response: {\n",
              "        action: 'continue',\n",
              "      }\n",
              "    };\n",
              "\n",
              "    // Use a chunked sending to avoid message size limits. See b/62115660.\n",
              "    let position = 0;\n",
              "    do {\n",
              "      const length = Math.min(fileData.byteLength - position, MAX_PAYLOAD_SIZE);\n",
              "      const chunk = new Uint8Array(fileData, position, length);\n",
              "      position += length;\n",
              "\n",
              "      const base64 = btoa(String.fromCharCode.apply(null, chunk));\n",
              "      yield {\n",
              "        response: {\n",
              "          action: 'append',\n",
              "          file: file.name,\n",
              "          data: base64,\n",
              "        },\n",
              "      };\n",
              "\n",
              "      let percentDone = fileData.byteLength === 0 ?\n",
              "          100 :\n",
              "          Math.round((position / fileData.byteLength) * 100);\n",
              "      percent.textContent = `${percentDone}% done`;\n",
              "\n",
              "    } while (position < fileData.byteLength);\n",
              "  }\n",
              "\n",
              "  // All done.\n",
              "  yield {\n",
              "    response: {\n",
              "      action: 'complete',\n",
              "    }\n",
              "  };\n",
              "}\n",
              "\n",
              "scope.google = scope.google || {};\n",
              "scope.google.colab = scope.google.colab || {};\n",
              "scope.google.colab._files = {\n",
              "  _uploadFiles,\n",
              "  _uploadFilesContinue,\n",
              "};\n",
              "})(self);\n",
              "</script> "
            ]
          },
          "metadata": {}
        },
        {
          "output_type": "stream",
          "name": "stdout",
          "text": [
            "Saving lris-lcdb-v50-land-cover-database-version-50-mainland-new-zealand-SHP.zip to lris-lcdb-v50-land-cover-database-version-50-mainland-new-zealand-SHP.zip\n",
            "           Name_2018          Name_2012          Name_2008          Name_2001  \\\n",
            "0  Indigenous Forest  Indigenous Forest  Indigenous Forest  Indigenous Forest   \n",
            "1     Sand or Gravel     Sand or Gravel     Sand or Gravel     Sand or Gravel   \n",
            "2  Indigenous Forest  Indigenous Forest  Indigenous Forest  Indigenous Forest   \n",
            "3     Sand or Gravel     Sand or Gravel     Sand or Gravel     Sand or Gravel   \n",
            "4  Indigenous Forest  Indigenous Forest  Indigenous Forest  Indigenous Forest   \n",
            "\n",
            "           Name_1996  Class_2018  Class_2012  Class_2008  Class_2001  \\\n",
            "0  Indigenous Forest          69          69          69          69   \n",
            "1     Sand or Gravel          10          10          10          10   \n",
            "2  Indigenous Forest          69          69          69          69   \n",
            "3     Sand or Gravel          10          10          10          10   \n",
            "4  Indigenous Forest          69          69          69          69   \n",
            "\n",
            "   Class_1996  ... Wetland_96 Onshore_18 Onshore_12 Onshore_08 Onshore_01  \\\n",
            "0          69  ...         no        yes        yes        yes        yes   \n",
            "1          10  ...         no        yes        yes        yes        yes   \n",
            "2          69  ...         no        yes        yes        yes        yes   \n",
            "3          10  ...         no        yes        yes        yes        yes   \n",
            "4          69  ...         no        yes        yes        yes        yes   \n",
            "\n",
            "  Onshore_96 EditAuthor   EditDate        LCDB_UID  \\\n",
            "0        yes  Terralink 2004-06-30  lcdb1000168553   \n",
            "1        yes  Terralink 2004-06-30  lcdb1000009545   \n",
            "2        yes  Terralink 2004-06-30  lcdb1000168544   \n",
            "3        yes  Terralink 2004-06-30  lcdb1000009547   \n",
            "4        yes  Terralink 2004-06-30  lcdb1000168423   \n",
            "\n",
            "                                            geometry  \n",
            "0  POLYGON ((1820024.88 6001115.814, 1820021.712 ...  \n",
            "1  POLYGON ((1820054.749 6001263.521, 1820067.563...  \n",
            "2  POLYGON ((1818892.667 6000858.715, 1818932.048...  \n",
            "3  POLYGON ((1818879.751 6001641.58, 1818900.374 ...  \n",
            "4  POLYGON ((1819193.973 5997373.55, 1819165.748 ...  \n",
            "\n",
            "[5 rows x 24 columns]\n"
          ]
        }
      ]
    },
    {
      "cell_type": "code",
      "source": [
        "# Code to get you started\n",
        "import zipfile\n",
        "import geopandas as gpd\n",
        "\n",
        "# Unzip\n",
        "with zipfile.ZipFile(\"lris-lcdb-v50-land-cover-database-version-50-mainland-new-zealand-SHP.zip\", 'r') as zip_ref: #<- Check file names\n",
        "    zip_ref.extractall(\"lcdb\")\n",
        "\n",
        "# Read shapefile\n",
        "gdf = gpd.read_file(\"lcdb/lcdb-v50-land-cover-database-version-50-mainland-new-zealand.shp\") #<- Check file names\n",
        "print(gdf.head())"
      ],
      "metadata": {
        "colab": {
          "base_uri": "https://localhost:8080/",
          "height": 642
        },
        "id": "OeO_zZaMqJ8b",
        "outputId": "19ce97c8-74df-425b-a34a-67c55338761d"
      },
      "execution_count": null,
      "outputs": [
        {
          "output_type": "display_data",
          "data": {
            "text/plain": [
              "<IPython.core.display.HTML object>"
            ],
            "text/html": [
              "\n",
              "            <style>\n",
              "                .geemap-dark {\n",
              "                    --jp-widgets-color: white;\n",
              "                    --jp-widgets-label-color: white;\n",
              "                    --jp-ui-font-color1: white;\n",
              "                    --jp-layout-color2: #454545;\n",
              "                    background-color: #383838;\n",
              "                }\n",
              "\n",
              "                .geemap-dark .jupyter-button {\n",
              "                    --jp-layout-color3: #383838;\n",
              "                }\n",
              "\n",
              "                .geemap-colab {\n",
              "                    background-color: var(--colab-primary-surface-color, white);\n",
              "                }\n",
              "\n",
              "                .geemap-colab .jupyter-button {\n",
              "                    --jp-layout-color3: var(--colab-primary-surface-color, white);\n",
              "                }\n",
              "            </style>\n",
              "            "
            ]
          },
          "metadata": {}
        },
        {
          "output_type": "stream",
          "name": "stdout",
          "text": [
            "           Name_2018          Name_2012          Name_2008          Name_2001  \\\n",
            "0  Indigenous Forest  Indigenous Forest  Indigenous Forest  Indigenous Forest   \n",
            "1     Sand or Gravel     Sand or Gravel     Sand or Gravel     Sand or Gravel   \n",
            "2  Indigenous Forest  Indigenous Forest  Indigenous Forest  Indigenous Forest   \n",
            "3     Sand or Gravel     Sand or Gravel     Sand or Gravel     Sand or Gravel   \n",
            "4  Indigenous Forest  Indigenous Forest  Indigenous Forest  Indigenous Forest   \n",
            "\n",
            "           Name_1996  Class_2018  Class_2012  Class_2008  Class_2001  \\\n",
            "0  Indigenous Forest          69          69          69          69   \n",
            "1     Sand or Gravel          10          10          10          10   \n",
            "2  Indigenous Forest          69          69          69          69   \n",
            "3     Sand or Gravel          10          10          10          10   \n",
            "4  Indigenous Forest          69          69          69          69   \n",
            "\n",
            "   Class_1996  ... Wetland_96 Onshore_18 Onshore_12 Onshore_08 Onshore_01  \\\n",
            "0          69  ...         no        yes        yes        yes        yes   \n",
            "1          10  ...         no        yes        yes        yes        yes   \n",
            "2          69  ...         no        yes        yes        yes        yes   \n",
            "3          10  ...         no        yes        yes        yes        yes   \n",
            "4          69  ...         no        yes        yes        yes        yes   \n",
            "\n",
            "  Onshore_96 EditAuthor   EditDate        LCDB_UID  \\\n",
            "0        yes  Terralink 2004-06-30  lcdb1000168553   \n",
            "1        yes  Terralink 2004-06-30  lcdb1000009545   \n",
            "2        yes  Terralink 2004-06-30  lcdb1000168544   \n",
            "3        yes  Terralink 2004-06-30  lcdb1000009547   \n",
            "4        yes  Terralink 2004-06-30  lcdb1000168423   \n",
            "\n",
            "                                            geometry  \n",
            "0  POLYGON ((1820024.88 6001115.814, 1820021.712 ...  \n",
            "1  POLYGON ((1820054.749 6001263.521, 1820067.563...  \n",
            "2  POLYGON ((1818892.667 6000858.715, 1818932.048...  \n",
            "3  POLYGON ((1818879.751 6001641.58, 1818900.374 ...  \n",
            "4  POLYGON ((1819193.973 5997373.55, 1819165.748 ...  \n",
            "\n",
            "[5 rows x 24 columns]\n"
          ]
        }
      ]
    },
    {
      "cell_type": "code",
      "source": [
        "import rasterio\n",
        "from rasterio.transform import from_origin\n",
        "import numpy as np\n",
        "import os\n",
        "\n",
        "# Output path\n",
        "out_path = '/content/drive/MyDrive/GEE_exports/S2_composite.tif'\n",
        "os.makedirs(os.path.dirname(out_path), exist_ok=True)\n",
        "\n",
        "# AOI projected coordinates (in meters)\n",
        "x_min = 1805249.9776\n",
        "x_max = 1829024.9858\n",
        "y_min = 5974361.6829\n",
        "y_max = 6010584.2084\n",
        "\n",
        "# Pixel size (in meters) — adjust as needed\n",
        "pixel_size = 10  # for Sentinel-2 resolution\n",
        "\n",
        "# Width and height in pixels\n",
        "width = int((x_max - x_min) / pixel_size)\n",
        "height = int((y_max - y_min) / pixel_size)\n",
        "\n",
        "# Affine transform (top-left corner)\n",
        "transform = from_origin(x_min, y_max, pixel_size, pixel_size)\n",
        "\n",
        "# CRS — guess based on meter coordinates\n",
        "crs = \"EPSG:3857\"  # Adjust if you know the exact projection\n",
        "\n",
        "# Create empty array\n",
        "empty_array = np.zeros((height, width), dtype=np.float32)\n",
        "\n",
        "# Write empty raster\n",
        "with rasterio.open(\n",
        "    out_path,\n",
        "    'w',\n",
        "    driver='GTiff',\n",
        "    height=height,\n",
        "    width=width,\n",
        "    count=1,\n",
        "    dtype=empty_array.dtype,\n",
        "    crs=crs,\n",
        "    transform=transform\n",
        ") as dst:\n",
        "    dst.write(empty_array, 1)\n",
        "\n",
        "print(f\"Empty GeoTIFF created at: {out_path}\")\n",
        "print(f\"Raster size: {width} x {height} pixels\")\n"
      ],
      "metadata": {
        "colab": {
          "base_uri": "https://localhost:8080/",
          "height": 52
        },
        "id": "HfmZ5pEDKOMr",
        "outputId": "081e44a0-a9ee-4e85-f944-04164c0e00b5"
      },
      "execution_count": null,
      "outputs": [
        {
          "output_type": "display_data",
          "data": {
            "text/plain": [
              "<IPython.core.display.HTML object>"
            ],
            "text/html": [
              "\n",
              "            <style>\n",
              "                .geemap-dark {\n",
              "                    --jp-widgets-color: white;\n",
              "                    --jp-widgets-label-color: white;\n",
              "                    --jp-ui-font-color1: white;\n",
              "                    --jp-layout-color2: #454545;\n",
              "                    background-color: #383838;\n",
              "                }\n",
              "\n",
              "                .geemap-dark .jupyter-button {\n",
              "                    --jp-layout-color3: #383838;\n",
              "                }\n",
              "\n",
              "                .geemap-colab {\n",
              "                    background-color: var(--colab-primary-surface-color, white);\n",
              "                }\n",
              "\n",
              "                .geemap-colab .jupyter-button {\n",
              "                    --jp-layout-color3: var(--colab-primary-surface-color, white);\n",
              "                }\n",
              "            </style>\n",
              "            "
            ]
          },
          "metadata": {}
        },
        {
          "output_type": "stream",
          "name": "stdout",
          "text": [
            "Empty GeoTIFF created at: /content/drive/MyDrive/GEE_exports/S2_composite.tif\n",
            "Raster size: 2377 x 3622 pixels\n"
          ]
        }
      ]
    },
    {
      "cell_type": "code",
      "source": [
        "# !pip install rasterio\n",
        "# !pip install rasterstats\n",
        "import ee\n",
        "import geemap\n",
        "import geopandas as gpd\n",
        "import rasterio\n",
        "from rasterstats import zonal_stats\n",
        "import numpy as np\n",
        "from sklearn.model_selection import train_test_split\n",
        "from sklearn.preprocessing import StandardScaler, LabelEncoder\n",
        "from sklearn.svm import SVC\n",
        "from sklearn.metrics import accuracy_score\n",
        "import warnings\n",
        "import os\n",
        "\n",
        "# --- Step 2: Setup file paths and define the GEE processing ---\n",
        "# The local shapefile used to define the area of interest and for training labels\n",
        "shp_path = 'lcdb-v50-land-cover-database-version-50-mainland-new-zealand.shp'\n",
        "label_column = 'Class_2018' # The column in your shapefile with landcover labels\n",
        "\n",
        "# --- FIX: Create a robust, simple rectangular geometry for the AOI ---\n",
        "# This calculates the bounding box of your entire shapefile.\n",
        "bounds = gdf.total_bounds\n",
        "# Create an ee.Geometry object from the bounding box.\n",
        "training_aoi = ee.Geometry.Rectangle(list(bounds))\n",
        "\n",
        "# --- GEE Function to mask clouds ---\n",
        "def mask_s2_clouds(image):\n",
        "    scl = image.select('SCL')\n",
        "    mask = scl.neq(3).And(scl.neq(8)).And(scl.neq(9))\n",
        "    return image.updateMask(mask)\n",
        "\n",
        "# --- Run the GEE image processing ---\n",
        "print(\"Starting GEE processing to create cloud-free composite...\")\n",
        "image_collection = (ee.ImageCollection('COPERNICUS/S2_SR_HARMONIZED')\n",
        "                      .filterBounds(training_aoi)\n",
        "                      .filterDate('2024-01-01', '2025-03-31')\n",
        "                      .filter(ee.Filter.lt('CLOUDY_PIXEL_PERCENTAGE', 10))\n",
        "                      .map(mask_s2_clouds))\n",
        "\n",
        "   # Create the composite\n",
        "composite = image_collection.median().clip(training_aoi)\n",
        "\n",
        "task = ee.batch.Export.image.toDrive(\n",
        "    image=composite,\n",
        "    description='S2_cloudfree_composite',\n",
        "    folder='GEE_exports',            # Drive folder name\n",
        "    fileNamePrefix='S2_composite',\n",
        "    region=training_aoi,\n",
        "    scale=10,                         # Sentinel-2 resolution in meters\n",
        "    crs='EPSG:4326',                  # Optional: target projection\n",
        "    maxPixels=1e13\n",
        ")\n",
        "task.start()\n",
        "\n",
        "\n",
        "# Path to your exported image in Google Drive\n",
        "local_img_path = '/content/drive/MyDrive/GEE_exports/S2_composite.tif'\n",
        "\n",
        "# Read raster\n",
        "with rasterio.open(raster_path) as src:\n",
        "    raster_data = src.read()\n",
        "    raster_meta = src.meta\n",
        "print(\"Calculating zonal statistics...\")\n",
        "with rasterio.open(local_img_path) as src:\n",
        "    num_bands = src.count\n",
        "    print(f\"Image has {num_bands} bands.\")\n",
        "    stats = zonal_stats(gdf,\n",
        "                        local_img_path,\n",
        "                        stats=\"mean\",\n",
        "                        geojson_out=True,\n",
        "                        band_num=list(range(1, num_bands + 1)))\n",
        "\n",
        "# --- Prepare the data for the SVM ---\n",
        "print(\"Preparing data for the classifier...\")\n",
        "features = []\n",
        "labels = []\n",
        "\n",
        "for poly in stats:\n",
        "    # Use .get() to safely access dictionary keys\n",
        "    band_means = [poly['properties'].get(f'b{i}') for i in range(1, num_bands + 1)]\n",
        "    if all(mean is not None for mean in band_means):\n",
        "        features.append(band_means)\n",
        "        labels.append(poly['properties'][label_column])\n",
        "\n",
        "X = np.array(features)\n",
        "y_strings = np.array(labels)\n",
        "\n",
        "if len(X) == 0:\n",
        "    print(\"\\nError: No valid training data was created. Check if your shapefile and raster overlap.\")\n",
        "    exit()\n",
        "\n",
        "print(f\"Created a training set with {len(X)} samples.\")\n",
        "\n",
        "# --- Train the SVM Classifier ---\n",
        "le = LabelEncoder()\n",
        "y = le.fit_transform(y_strings)\n",
        "\n",
        "X_train, X_test, y_train, y_test = train_test_split(X, y, test_size=0.3, random_state=42)\n",
        "\n",
        "scaler = StandardScaler().fit(X_train)\n",
        "X_train_scaled = scaler.transform(X_train)\n",
        "X_test_scaled = scaler.transform(X_test)\n",
        "\n",
        "print(\"Training the SVM classifier...\")\n",
        "svm_classifier = SVC(kernel='rbf')\n",
        "svm_classifier.fit(X_train_scaled, y_train)\n",
        "\n",
        "# --- Check the results ---\n",
        "print(\"Evaluating the model...\")\n",
        "y_pred = svm_classifier.predict(X_test_scaled)\n",
        "accuracy = accuracy_score(y_test, y_pred)\n",
        "\n",
        "print(\"\\n--- Results ---\")\n",
        "print(f\"Classifier Accuracy: {accuracy * 100:.2f}%\")\n",
        "print(\"Label mapping used by the model:\")\n",
        "for i, label in enumerate(le.classes_):\n",
        "    print(f\"  '{label}' is encoded as {i}\")\n"
      ],
      "metadata": {
        "colab": {
          "base_uri": "https://localhost:8080/",
          "height": 964
        },
        "id": "1g9su5bnqnRP",
        "outputId": "3a40a32e-4557-4ef2-dd17-a939cd335fd9"
      },
      "execution_count": null,
      "outputs": [
        {
          "output_type": "display_data",
          "data": {
            "text/plain": [
              "<IPython.core.display.HTML object>"
            ],
            "text/html": [
              "\n",
              "            <style>\n",
              "                .geemap-dark {\n",
              "                    --jp-widgets-color: white;\n",
              "                    --jp-widgets-label-color: white;\n",
              "                    --jp-ui-font-color1: white;\n",
              "                    --jp-layout-color2: #454545;\n",
              "                    background-color: #383838;\n",
              "                }\n",
              "\n",
              "                .geemap-dark .jupyter-button {\n",
              "                    --jp-layout-color3: #383838;\n",
              "                }\n",
              "\n",
              "                .geemap-colab {\n",
              "                    background-color: var(--colab-primary-surface-color, white);\n",
              "                }\n",
              "\n",
              "                .geemap-colab .jupyter-button {\n",
              "                    --jp-layout-color3: var(--colab-primary-surface-color, white);\n",
              "                }\n",
              "            </style>\n",
              "            "
            ]
          },
          "metadata": {}
        },
        {
          "output_type": "stream",
          "name": "stdout",
          "text": [
            "Starting GEE processing to create cloud-free composite...\n",
            "Calculating zonal statistics...\n",
            "Image has 1 bands.\n"
          ]
        },
        {
          "output_type": "stream",
          "name": "stderr",
          "text": [
            "/usr/local/lib/python3.11/dist-packages/rasterstats/io.py:335: NodataWarning: Setting nodata to -999; specify nodata explicitly\n",
            "  warnings.warn(\n"
          ]
        },
        {
          "output_type": "error",
          "ename": "ValueError",
          "evalue": "Invalid out_shape, must be 2D",
          "traceback": [
            "\u001b[0;31m---------------------------------------------------------------------------\u001b[0m",
            "\u001b[0;31mValueError\u001b[0m                                Traceback (most recent call last)",
            "\u001b[0;32m/tmp/ipython-input-1797169530.py\u001b[0m in \u001b[0;36m<cell line: 0>\u001b[0;34m()\u001b[0m\n\u001b[1;32m     67\u001b[0m     \u001b[0mnum_bands\u001b[0m \u001b[0;34m=\u001b[0m \u001b[0msrc\u001b[0m\u001b[0;34m.\u001b[0m\u001b[0mcount\u001b[0m\u001b[0;34m\u001b[0m\u001b[0;34m\u001b[0m\u001b[0m\n\u001b[1;32m     68\u001b[0m     \u001b[0mprint\u001b[0m\u001b[0;34m(\u001b[0m\u001b[0;34mf\"Image has {num_bands} bands.\"\u001b[0m\u001b[0;34m)\u001b[0m\u001b[0;34m\u001b[0m\u001b[0;34m\u001b[0m\u001b[0m\n\u001b[0;32m---> 69\u001b[0;31m     stats = zonal_stats(gdf,\n\u001b[0m\u001b[1;32m     70\u001b[0m                         \u001b[0mlocal_img_path\u001b[0m\u001b[0;34m,\u001b[0m\u001b[0;34m\u001b[0m\u001b[0;34m\u001b[0m\u001b[0m\n\u001b[1;32m     71\u001b[0m                         \u001b[0mstats\u001b[0m\u001b[0;34m=\u001b[0m\u001b[0;34m\"mean\"\u001b[0m\u001b[0;34m,\u001b[0m\u001b[0;34m\u001b[0m\u001b[0;34m\u001b[0m\u001b[0m\n",
            "\u001b[0;32m/usr/local/lib/python3.11/dist-packages/rasterstats/main.py\u001b[0m in \u001b[0;36mzonal_stats\u001b[0;34m(*args, **kwargs)\u001b[0m\n\u001b[1;32m     50\u001b[0m         \u001b[0;32mreturn\u001b[0m \u001b[0;34m[\u001b[0m\u001b[0mstat\u001b[0m \u001b[0;32mfor\u001b[0m \u001b[0mstat\u001b[0m \u001b[0;32min\u001b[0m \u001b[0mtqdm\u001b[0m\u001b[0;34m(\u001b[0m\u001b[0mstats\u001b[0m\u001b[0;34m,\u001b[0m \u001b[0mtotal\u001b[0m\u001b[0;34m=\u001b[0m\u001b[0mtotal\u001b[0m\u001b[0;34m)\u001b[0m\u001b[0;34m]\u001b[0m\u001b[0;34m\u001b[0m\u001b[0;34m\u001b[0m\u001b[0m\n\u001b[1;32m     51\u001b[0m     \u001b[0;32melse\u001b[0m\u001b[0;34m:\u001b[0m\u001b[0;34m\u001b[0m\u001b[0;34m\u001b[0m\u001b[0m\n\u001b[0;32m---> 52\u001b[0;31m         \u001b[0;32mreturn\u001b[0m \u001b[0mlist\u001b[0m\u001b[0;34m(\u001b[0m\u001b[0mgen_zonal_stats\u001b[0m\u001b[0;34m(\u001b[0m\u001b[0;34m*\u001b[0m\u001b[0margs\u001b[0m\u001b[0;34m,\u001b[0m \u001b[0;34m**\u001b[0m\u001b[0mkwargs\u001b[0m\u001b[0;34m)\u001b[0m\u001b[0;34m)\u001b[0m\u001b[0;34m\u001b[0m\u001b[0;34m\u001b[0m\u001b[0m\n\u001b[0m\u001b[1;32m     53\u001b[0m \u001b[0;34m\u001b[0m\u001b[0m\n\u001b[1;32m     54\u001b[0m \u001b[0;34m\u001b[0m\u001b[0m\n",
            "\u001b[0;32m/usr/local/lib/python3.11/dist-packages/rasterstats/main.py\u001b[0m in \u001b[0;36mgen_zonal_stats\u001b[0;34m(vectors, raster, layer, band, nodata, affine, stats, all_touched, categorical, category_map, add_stats, zone_func, raster_out, prefix, geojson_out, boundless, **kwargs)\u001b[0m\n\u001b[1;32m    188\u001b[0m \u001b[0;34m\u001b[0m\u001b[0m\n\u001b[1;32m    189\u001b[0m             \u001b[0;31m# rasterized geometry\u001b[0m\u001b[0;34m\u001b[0m\u001b[0;34m\u001b[0m\u001b[0m\n\u001b[0;32m--> 190\u001b[0;31m             \u001b[0mrv_array\u001b[0m \u001b[0;34m=\u001b[0m \u001b[0mrasterize_geom\u001b[0m\u001b[0;34m(\u001b[0m\u001b[0mgeom\u001b[0m\u001b[0;34m,\u001b[0m \u001b[0mlike\u001b[0m\u001b[0;34m=\u001b[0m\u001b[0mfsrc\u001b[0m\u001b[0;34m,\u001b[0m \u001b[0mall_touched\u001b[0m\u001b[0;34m=\u001b[0m\u001b[0mall_touched\u001b[0m\u001b[0;34m)\u001b[0m\u001b[0;34m\u001b[0m\u001b[0;34m\u001b[0m\u001b[0m\n\u001b[0m\u001b[1;32m    191\u001b[0m \u001b[0;34m\u001b[0m\u001b[0m\n\u001b[1;32m    192\u001b[0m             \u001b[0;31m# nodata mask\u001b[0m\u001b[0;34m\u001b[0m\u001b[0;34m\u001b[0m\u001b[0m\n",
            "\u001b[0;32m/usr/local/lib/python3.11/dist-packages/rasterstats/utils.py\u001b[0m in \u001b[0;36mrasterize_geom\u001b[0;34m(geom, like, all_touched)\u001b[0m\n\u001b[1;32m     44\u001b[0m     \"\"\"\n\u001b[1;32m     45\u001b[0m     \u001b[0mgeoms\u001b[0m \u001b[0;34m=\u001b[0m \u001b[0;34m[\u001b[0m\u001b[0;34m(\u001b[0m\u001b[0mgeom\u001b[0m\u001b[0;34m,\u001b[0m \u001b[0;36m1\u001b[0m\u001b[0;34m)\u001b[0m\u001b[0;34m]\u001b[0m\u001b[0;34m\u001b[0m\u001b[0;34m\u001b[0m\u001b[0m\n\u001b[0;32m---> 46\u001b[0;31m     rv_array = features.rasterize(\n\u001b[0m\u001b[1;32m     47\u001b[0m         \u001b[0mgeoms\u001b[0m\u001b[0;34m,\u001b[0m\u001b[0;34m\u001b[0m\u001b[0;34m\u001b[0m\u001b[0m\n\u001b[1;32m     48\u001b[0m         \u001b[0mout_shape\u001b[0m\u001b[0;34m=\u001b[0m\u001b[0mlike\u001b[0m\u001b[0;34m.\u001b[0m\u001b[0mshape\u001b[0m\u001b[0;34m,\u001b[0m\u001b[0;34m\u001b[0m\u001b[0;34m\u001b[0m\u001b[0m\n",
            "\u001b[0;32m/usr/local/lib/python3.11/dist-packages/rasterio/env.py\u001b[0m in \u001b[0;36mwrapper\u001b[0;34m(*args, **kwds)\u001b[0m\n\u001b[1;32m    408\u001b[0m     \u001b[0;32mdef\u001b[0m \u001b[0mwrapper\u001b[0m\u001b[0;34m(\u001b[0m\u001b[0;34m*\u001b[0m\u001b[0margs\u001b[0m\u001b[0;34m,\u001b[0m \u001b[0;34m**\u001b[0m\u001b[0mkwds\u001b[0m\u001b[0;34m)\u001b[0m\u001b[0;34m:\u001b[0m\u001b[0;34m\u001b[0m\u001b[0;34m\u001b[0m\u001b[0m\n\u001b[1;32m    409\u001b[0m         \u001b[0;32mif\u001b[0m \u001b[0mlocal\u001b[0m\u001b[0;34m.\u001b[0m\u001b[0m_env\u001b[0m\u001b[0;34m:\u001b[0m\u001b[0;34m\u001b[0m\u001b[0;34m\u001b[0m\u001b[0m\n\u001b[0;32m--> 410\u001b[0;31m             \u001b[0;32mreturn\u001b[0m \u001b[0mf\u001b[0m\u001b[0;34m(\u001b[0m\u001b[0;34m*\u001b[0m\u001b[0margs\u001b[0m\u001b[0;34m,\u001b[0m \u001b[0;34m**\u001b[0m\u001b[0mkwds\u001b[0m\u001b[0;34m)\u001b[0m\u001b[0;34m\u001b[0m\u001b[0;34m\u001b[0m\u001b[0m\n\u001b[0m\u001b[1;32m    411\u001b[0m         \u001b[0;32melse\u001b[0m\u001b[0;34m:\u001b[0m\u001b[0;34m\u001b[0m\u001b[0;34m\u001b[0m\u001b[0m\n\u001b[1;32m    412\u001b[0m             \u001b[0;32mwith\u001b[0m \u001b[0mEnv\u001b[0m\u001b[0;34m.\u001b[0m\u001b[0mfrom_defaults\u001b[0m\u001b[0;34m(\u001b[0m\u001b[0;34m)\u001b[0m\u001b[0;34m:\u001b[0m\u001b[0;34m\u001b[0m\u001b[0;34m\u001b[0m\u001b[0m\n",
            "\u001b[0;32m/usr/local/lib/python3.11/dist-packages/rasterio/features.py\u001b[0m in \u001b[0;36mrasterize\u001b[0;34m(shapes, out_shape, fill, nodata, masked, out, transform, all_touched, merge_alg, default_value, dtype, skip_invalid, dst_path, dst_kwds)\u001b[0m\n\u001b[1;32m    377\u001b[0m         \u001b[0;32melif\u001b[0m \u001b[0mout_shape\u001b[0m \u001b[0;32mis\u001b[0m \u001b[0;32mnot\u001b[0m \u001b[0;32mNone\u001b[0m\u001b[0;34m:\u001b[0m\u001b[0;34m\u001b[0m\u001b[0;34m\u001b[0m\u001b[0m\n\u001b[1;32m    378\u001b[0m             \u001b[0;32mif\u001b[0m \u001b[0mlen\u001b[0m\u001b[0;34m(\u001b[0m\u001b[0mout_shape\u001b[0m\u001b[0;34m)\u001b[0m \u001b[0;34m!=\u001b[0m \u001b[0;36m2\u001b[0m\u001b[0;34m:\u001b[0m\u001b[0;34m\u001b[0m\u001b[0;34m\u001b[0m\u001b[0m\n\u001b[0;32m--> 379\u001b[0;31m                 \u001b[0;32mraise\u001b[0m \u001b[0mValueError\u001b[0m\u001b[0;34m(\u001b[0m\u001b[0;34m'Invalid out_shape, must be 2D'\u001b[0m\u001b[0;34m)\u001b[0m\u001b[0;34m\u001b[0m\u001b[0;34m\u001b[0m\u001b[0m\n\u001b[0m\u001b[1;32m    380\u001b[0m             \u001b[0mout\u001b[0m \u001b[0;34m=\u001b[0m \u001b[0mnp\u001b[0m\u001b[0;34m.\u001b[0m\u001b[0mempty\u001b[0m\u001b[0;34m(\u001b[0m\u001b[0mout_shape\u001b[0m\u001b[0;34m,\u001b[0m \u001b[0mdtype\u001b[0m\u001b[0;34m=\u001b[0m\u001b[0mdtype\u001b[0m\u001b[0;34m)\u001b[0m\u001b[0;34m\u001b[0m\u001b[0;34m\u001b[0m\u001b[0m\n\u001b[1;32m    381\u001b[0m             \u001b[0mout\u001b[0m\u001b[0;34m.\u001b[0m\u001b[0mfill\u001b[0m\u001b[0;34m(\u001b[0m\u001b[0mfill\u001b[0m\u001b[0;34m)\u001b[0m\u001b[0;34m\u001b[0m\u001b[0;34m\u001b[0m\u001b[0m\n",
            "\u001b[0;31mValueError\u001b[0m: Invalid out_shape, must be 2D"
          ]
        }
      ]
    },
    {
      "cell_type": "code",
      "source": [
        "# Ignore common warnings for simplicity\n",
        "warnings.filterwarnings('ignore', category=UserWarning)\n",
        "\n",
        "# --- Step 1: Define Paths and Parameters ---\n",
        "# Assumes 'gdf' is a GeoDataFrame you have already loaded in your environment.\n",
        "# gdf = gpd.read_file('your_shapefile.shp')\n",
        "\n",
        "# The path to your downloaded GEE composite image\n",
        "raster_path = '/content/drive/MyDrive/GEE_exports/S2_composite.tif'\n",
        "# The column in your shapefile that contains the land cover class names\n",
        "label_column = 'Class_2018'\n",
        "\n",
        "# --- Step 2: Calculate Zonal Statistics ---\n",
        "print(\"Calculating zonal statistics...\")\n",
        "# This function calculates the mean pixel value within each polygon for each band.\n",
        "with rasterio.open(raster_path) as src:\n",
        "    num_bands = src.count\n",
        "    print(f\"Image has {num_bands} bands.\")\n",
        "    stats = zonal_stats(gdf,\n",
        "                        raster_path,\n",
        "                        stats=\"mean\",\n",
        "                        geojson_out=True,\n",
        "                        band_num=list(range(1, num_bands + 1)))\n",
        "\n",
        "# --- Step 3: Prepare Data for SVM Training ---\n",
        "print(\"Preparing data for the classifier...\")\n",
        "features = []\n",
        "labels = []\n",
        "\n",
        "for poly in stats:\n",
        "    # Safely get the mean values for each band from the properties dictionary\n",
        "    band_means = [poly['properties'].get(f'b{i}') for i in range(1, num_bands + 1)]\n",
        "\n",
        "    # Only include polygons that had valid pixel data (i.e., overlapped with the raster)\n",
        "    if all(mean is not None for mean in band_means):\n",
        "        features.append(band_means)\n",
        "        labels.append(poly['properties'][label_column])\n",
        "\n",
        "# Convert the lists of features and labels into NumPy arrays for scikit-learn\n",
        "X = np.array(features)\n",
        "y_strings = np.array(labels)\n",
        "\n",
        "if len(X) == 0:\n",
        "    print(\"\\nError: No valid training data was created. Check if your shapefile and raster overlap.\")\n",
        "    exit()\n",
        "\n",
        "print(f\"Created a training set with {len(X)} samples.\")\n",
        "\n",
        "# --- Step 4: Train the SVM Classifier ---\n",
        "# Convert text labels (e.g., 'Forest') into numbers (e.g., 0) that the model can use\n",
        "le = LabelEncoder()\n",
        "y = le.fit_transform(y_strings)\n",
        "\n",
        "# Split the data into a set for training the model and a separate set for testing it\n",
        "X_train, X_test, y_train, y_test = train_test_split(X, y, test_size=0.3, random_state=42)\n",
        "\n",
        "# Scale the feature data. This is a crucial step for SVMs to perform well.\n",
        "scaler = StandardScaler().fit(X_train)\n",
        "X_train_scaled = scaler.transform(X_train)\n",
        "X_test_scaled = scaler.transform(X_test)\n",
        "\n",
        "print(\"Training the SVM classifier...\")\n",
        "# Initialize and train the Support Vector Machine\n",
        "svm_classifier = SVC(kernel='rbf')\n",
        "svm_classifier.fit(X_train_scaled, y_train)\n",
        "\n",
        "# --- Step 5: Evaluate the Model's Performance ---\n",
        "print(\"Evaluating the model...\")\n",
        "# Use the trained model to make predictions on the unseen test data\n",
        "y_pred = svm_classifier.predict(X_test_scaled)\n",
        "# Compare the model's predictions to the true labels to calculate its accuracy\n",
        "accuracy = accuracy_score(y_test, y_pred)\n",
        "\n",
        "print(\"\\n--- Results ---\")\n",
        "print(f\"Classifier Accuracy: {accuracy * 100:.2f}%\")\n",
        "print(\"Label mapping used by the model:\")\n",
        "for i, label in enumerate(le.classes_):\n",
        "    print(f\"  '{label}' is encoded as {i}\")"
      ],
      "metadata": {
        "colab": {
          "base_uri": "https://localhost:8080/",
          "height": 912
        },
        "id": "7VlckKHeL3di",
        "outputId": "03266b34-3324-40c6-86c0-9da7a80c9b24"
      },
      "execution_count": null,
      "outputs": [
        {
          "output_type": "display_data",
          "data": {
            "text/plain": [
              "<IPython.core.display.HTML object>"
            ],
            "text/html": [
              "\n",
              "            <style>\n",
              "                .geemap-dark {\n",
              "                    --jp-widgets-color: white;\n",
              "                    --jp-widgets-label-color: white;\n",
              "                    --jp-ui-font-color1: white;\n",
              "                    --jp-layout-color2: #454545;\n",
              "                    background-color: #383838;\n",
              "                }\n",
              "\n",
              "                .geemap-dark .jupyter-button {\n",
              "                    --jp-layout-color3: #383838;\n",
              "                }\n",
              "\n",
              "                .geemap-colab {\n",
              "                    background-color: var(--colab-primary-surface-color, white);\n",
              "                }\n",
              "\n",
              "                .geemap-colab .jupyter-button {\n",
              "                    --jp-layout-color3: var(--colab-primary-surface-color, white);\n",
              "                }\n",
              "            </style>\n",
              "            "
            ]
          },
          "metadata": {}
        },
        {
          "output_type": "stream",
          "name": "stdout",
          "text": [
            "Calculating zonal statistics...\n",
            "Image has 1 bands.\n"
          ]
        },
        {
          "output_type": "error",
          "ename": "ValueError",
          "evalue": "Invalid out_shape, must be 2D",
          "traceback": [
            "\u001b[0;31m---------------------------------------------------------------------------\u001b[0m",
            "\u001b[0;31mValueError\u001b[0m                                Traceback (most recent call last)",
            "\u001b[0;32m/tmp/ipython-input-532091573.py\u001b[0m in \u001b[0;36m<cell line: 0>\u001b[0;34m()\u001b[0m\n\u001b[1;32m     17\u001b[0m     \u001b[0mnum_bands\u001b[0m \u001b[0;34m=\u001b[0m \u001b[0msrc\u001b[0m\u001b[0;34m.\u001b[0m\u001b[0mcount\u001b[0m\u001b[0;34m\u001b[0m\u001b[0;34m\u001b[0m\u001b[0m\n\u001b[1;32m     18\u001b[0m     \u001b[0mprint\u001b[0m\u001b[0;34m(\u001b[0m\u001b[0;34mf\"Image has {num_bands} bands.\"\u001b[0m\u001b[0;34m)\u001b[0m\u001b[0;34m\u001b[0m\u001b[0;34m\u001b[0m\u001b[0m\n\u001b[0;32m---> 19\u001b[0;31m     stats = zonal_stats(gdf,\n\u001b[0m\u001b[1;32m     20\u001b[0m                         \u001b[0mraster_path\u001b[0m\u001b[0;34m,\u001b[0m\u001b[0;34m\u001b[0m\u001b[0;34m\u001b[0m\u001b[0m\n\u001b[1;32m     21\u001b[0m                         \u001b[0mstats\u001b[0m\u001b[0;34m=\u001b[0m\u001b[0;34m\"mean\"\u001b[0m\u001b[0;34m,\u001b[0m\u001b[0;34m\u001b[0m\u001b[0;34m\u001b[0m\u001b[0m\n",
            "\u001b[0;32m/usr/local/lib/python3.11/dist-packages/rasterstats/main.py\u001b[0m in \u001b[0;36mzonal_stats\u001b[0;34m(*args, **kwargs)\u001b[0m\n\u001b[1;32m     50\u001b[0m         \u001b[0;32mreturn\u001b[0m \u001b[0;34m[\u001b[0m\u001b[0mstat\u001b[0m \u001b[0;32mfor\u001b[0m \u001b[0mstat\u001b[0m \u001b[0;32min\u001b[0m \u001b[0mtqdm\u001b[0m\u001b[0;34m(\u001b[0m\u001b[0mstats\u001b[0m\u001b[0;34m,\u001b[0m \u001b[0mtotal\u001b[0m\u001b[0;34m=\u001b[0m\u001b[0mtotal\u001b[0m\u001b[0;34m)\u001b[0m\u001b[0;34m]\u001b[0m\u001b[0;34m\u001b[0m\u001b[0;34m\u001b[0m\u001b[0m\n\u001b[1;32m     51\u001b[0m     \u001b[0;32melse\u001b[0m\u001b[0;34m:\u001b[0m\u001b[0;34m\u001b[0m\u001b[0;34m\u001b[0m\u001b[0m\n\u001b[0;32m---> 52\u001b[0;31m         \u001b[0;32mreturn\u001b[0m \u001b[0mlist\u001b[0m\u001b[0;34m(\u001b[0m\u001b[0mgen_zonal_stats\u001b[0m\u001b[0;34m(\u001b[0m\u001b[0;34m*\u001b[0m\u001b[0margs\u001b[0m\u001b[0;34m,\u001b[0m \u001b[0;34m**\u001b[0m\u001b[0mkwargs\u001b[0m\u001b[0;34m)\u001b[0m\u001b[0;34m)\u001b[0m\u001b[0;34m\u001b[0m\u001b[0;34m\u001b[0m\u001b[0m\n\u001b[0m\u001b[1;32m     53\u001b[0m \u001b[0;34m\u001b[0m\u001b[0m\n\u001b[1;32m     54\u001b[0m \u001b[0;34m\u001b[0m\u001b[0m\n",
            "\u001b[0;32m/usr/local/lib/python3.11/dist-packages/rasterstats/main.py\u001b[0m in \u001b[0;36mgen_zonal_stats\u001b[0;34m(vectors, raster, layer, band, nodata, affine, stats, all_touched, categorical, category_map, add_stats, zone_func, raster_out, prefix, geojson_out, boundless, **kwargs)\u001b[0m\n\u001b[1;32m    188\u001b[0m \u001b[0;34m\u001b[0m\u001b[0m\n\u001b[1;32m    189\u001b[0m             \u001b[0;31m# rasterized geometry\u001b[0m\u001b[0;34m\u001b[0m\u001b[0;34m\u001b[0m\u001b[0m\n\u001b[0;32m--> 190\u001b[0;31m             \u001b[0mrv_array\u001b[0m \u001b[0;34m=\u001b[0m \u001b[0mrasterize_geom\u001b[0m\u001b[0;34m(\u001b[0m\u001b[0mgeom\u001b[0m\u001b[0;34m,\u001b[0m \u001b[0mlike\u001b[0m\u001b[0;34m=\u001b[0m\u001b[0mfsrc\u001b[0m\u001b[0;34m,\u001b[0m \u001b[0mall_touched\u001b[0m\u001b[0;34m=\u001b[0m\u001b[0mall_touched\u001b[0m\u001b[0;34m)\u001b[0m\u001b[0;34m\u001b[0m\u001b[0;34m\u001b[0m\u001b[0m\n\u001b[0m\u001b[1;32m    191\u001b[0m \u001b[0;34m\u001b[0m\u001b[0m\n\u001b[1;32m    192\u001b[0m             \u001b[0;31m# nodata mask\u001b[0m\u001b[0;34m\u001b[0m\u001b[0;34m\u001b[0m\u001b[0m\n",
            "\u001b[0;32m/usr/local/lib/python3.11/dist-packages/rasterstats/utils.py\u001b[0m in \u001b[0;36mrasterize_geom\u001b[0;34m(geom, like, all_touched)\u001b[0m\n\u001b[1;32m     44\u001b[0m     \"\"\"\n\u001b[1;32m     45\u001b[0m     \u001b[0mgeoms\u001b[0m \u001b[0;34m=\u001b[0m \u001b[0;34m[\u001b[0m\u001b[0;34m(\u001b[0m\u001b[0mgeom\u001b[0m\u001b[0;34m,\u001b[0m \u001b[0;36m1\u001b[0m\u001b[0;34m)\u001b[0m\u001b[0;34m]\u001b[0m\u001b[0;34m\u001b[0m\u001b[0;34m\u001b[0m\u001b[0m\n\u001b[0;32m---> 46\u001b[0;31m     rv_array = features.rasterize(\n\u001b[0m\u001b[1;32m     47\u001b[0m         \u001b[0mgeoms\u001b[0m\u001b[0;34m,\u001b[0m\u001b[0;34m\u001b[0m\u001b[0;34m\u001b[0m\u001b[0m\n\u001b[1;32m     48\u001b[0m         \u001b[0mout_shape\u001b[0m\u001b[0;34m=\u001b[0m\u001b[0mlike\u001b[0m\u001b[0;34m.\u001b[0m\u001b[0mshape\u001b[0m\u001b[0;34m,\u001b[0m\u001b[0;34m\u001b[0m\u001b[0;34m\u001b[0m\u001b[0m\n",
            "\u001b[0;32m/usr/local/lib/python3.11/dist-packages/rasterio/env.py\u001b[0m in \u001b[0;36mwrapper\u001b[0;34m(*args, **kwds)\u001b[0m\n\u001b[1;32m    408\u001b[0m     \u001b[0;32mdef\u001b[0m \u001b[0mwrapper\u001b[0m\u001b[0;34m(\u001b[0m\u001b[0;34m*\u001b[0m\u001b[0margs\u001b[0m\u001b[0;34m,\u001b[0m \u001b[0;34m**\u001b[0m\u001b[0mkwds\u001b[0m\u001b[0;34m)\u001b[0m\u001b[0;34m:\u001b[0m\u001b[0;34m\u001b[0m\u001b[0;34m\u001b[0m\u001b[0m\n\u001b[1;32m    409\u001b[0m         \u001b[0;32mif\u001b[0m \u001b[0mlocal\u001b[0m\u001b[0;34m.\u001b[0m\u001b[0m_env\u001b[0m\u001b[0;34m:\u001b[0m\u001b[0;34m\u001b[0m\u001b[0;34m\u001b[0m\u001b[0m\n\u001b[0;32m--> 410\u001b[0;31m             \u001b[0;32mreturn\u001b[0m \u001b[0mf\u001b[0m\u001b[0;34m(\u001b[0m\u001b[0;34m*\u001b[0m\u001b[0margs\u001b[0m\u001b[0;34m,\u001b[0m \u001b[0;34m**\u001b[0m\u001b[0mkwds\u001b[0m\u001b[0;34m)\u001b[0m\u001b[0;34m\u001b[0m\u001b[0;34m\u001b[0m\u001b[0m\n\u001b[0m\u001b[1;32m    411\u001b[0m         \u001b[0;32melse\u001b[0m\u001b[0;34m:\u001b[0m\u001b[0;34m\u001b[0m\u001b[0;34m\u001b[0m\u001b[0m\n\u001b[1;32m    412\u001b[0m             \u001b[0;32mwith\u001b[0m \u001b[0mEnv\u001b[0m\u001b[0;34m.\u001b[0m\u001b[0mfrom_defaults\u001b[0m\u001b[0;34m(\u001b[0m\u001b[0;34m)\u001b[0m\u001b[0;34m:\u001b[0m\u001b[0;34m\u001b[0m\u001b[0;34m\u001b[0m\u001b[0m\n",
            "\u001b[0;32m/usr/local/lib/python3.11/dist-packages/rasterio/features.py\u001b[0m in \u001b[0;36mrasterize\u001b[0;34m(shapes, out_shape, fill, nodata, masked, out, transform, all_touched, merge_alg, default_value, dtype, skip_invalid, dst_path, dst_kwds)\u001b[0m\n\u001b[1;32m    377\u001b[0m         \u001b[0;32melif\u001b[0m \u001b[0mout_shape\u001b[0m \u001b[0;32mis\u001b[0m \u001b[0;32mnot\u001b[0m \u001b[0;32mNone\u001b[0m\u001b[0;34m:\u001b[0m\u001b[0;34m\u001b[0m\u001b[0;34m\u001b[0m\u001b[0m\n\u001b[1;32m    378\u001b[0m             \u001b[0;32mif\u001b[0m \u001b[0mlen\u001b[0m\u001b[0;34m(\u001b[0m\u001b[0mout_shape\u001b[0m\u001b[0;34m)\u001b[0m \u001b[0;34m!=\u001b[0m \u001b[0;36m2\u001b[0m\u001b[0;34m:\u001b[0m\u001b[0;34m\u001b[0m\u001b[0;34m\u001b[0m\u001b[0m\n\u001b[0;32m--> 379\u001b[0;31m                 \u001b[0;32mraise\u001b[0m \u001b[0mValueError\u001b[0m\u001b[0;34m(\u001b[0m\u001b[0;34m'Invalid out_shape, must be 2D'\u001b[0m\u001b[0;34m)\u001b[0m\u001b[0;34m\u001b[0m\u001b[0;34m\u001b[0m\u001b[0m\n\u001b[0m\u001b[1;32m    380\u001b[0m             \u001b[0mout\u001b[0m \u001b[0;34m=\u001b[0m \u001b[0mnp\u001b[0m\u001b[0;34m.\u001b[0m\u001b[0mempty\u001b[0m\u001b[0;34m(\u001b[0m\u001b[0mout_shape\u001b[0m\u001b[0;34m,\u001b[0m \u001b[0mdtype\u001b[0m\u001b[0;34m=\u001b[0m\u001b[0mdtype\u001b[0m\u001b[0;34m)\u001b[0m\u001b[0;34m\u001b[0m\u001b[0;34m\u001b[0m\u001b[0m\n\u001b[1;32m    381\u001b[0m             \u001b[0mout\u001b[0m\u001b[0;34m.\u001b[0m\u001b[0mfill\u001b[0m\u001b[0;34m(\u001b[0m\u001b[0mfill\u001b[0m\u001b[0;34m)\u001b[0m\u001b[0;34m\u001b[0m\u001b[0;34m\u001b[0m\u001b[0m\n",
            "\u001b[0;31mValueError\u001b[0m: Invalid out_shape, must be 2D"
          ]
        }
      ]
    },
    {
      "cell_type": "code",
      "source": [
        "print(\"Starting GEE processing to create cloud-free composite...\")\n",
        "image_collection = (ee.ImageCollection('COPERNICUS/S2_SR_HARMONIZED')\n",
        "                      .filterBounds(training_aoi)\n",
        "                      .filterDate('2024-01-01', '2025-03-31')\n",
        "                      .filter(ee.Filter.lt('CLOUDY_PIXEL_PERCENTAGE', 10))\n",
        "                      .map(mask_s2_clouds))\n",
        "\n",
        "# --- ADDED: Diagnostic check for empty collection ---\n",
        "collection_size = image_collection.size().getInfo()\n",
        "print(f\"Found {collection_size} images matching your criteria.\")"
      ],
      "metadata": {
        "id": "bpWn2zmhtW-F"
      },
      "execution_count": null,
      "outputs": []
    },
    {
      "cell_type": "code",
      "source": [
        "import zipfile\n",
        "import geopandas as gpd\n",
        "\n",
        "# Or if you already have the file on your colab, for example because you extracted it from google drive,\n",
        "# run this to unzip the file\n",
        "zip_filename = \"lris-lcdb-v50-land-cover-database-version-50-mainland-new-zealand-SHP.zip\"\n",
        "extract_dir = \"lcdb_data\"\n",
        "shapefile_path = \"\"\n",
        "\n",
        "with zipfile.ZipFile(zip_filename, 'r') as zip_ref:\n",
        "    zip_ref.extractall(extract_dir)\n",
        "    for root, dirs, files in os.walk(extract_dir):\n",
        "        for file in files:\n",
        "            if file.endswith(\".shp\"):\n",
        "                shapefile_path = os.path.join(root, file)\n",
        "                break\n",
        "        if shapefile_path:\n",
        "            break\n",
        "\n",
        "if not shapefile_path:\n",
        "    raise FileNotFoundError(\"Could not find a .shp file in the extracted ZIP archive.\")\n",
        "\n",
        "gdf = gpd.read_file(shapefile_path)\n",
        "print(gdf.head())"
      ],
      "metadata": {
        "id": "3MGyPDdPFAJg"
      },
      "execution_count": null,
      "outputs": []
    },
    {
      "cell_type": "code",
      "source": [
        "# Check CRS, class labels, and geometry\n",
        "print(gdf.crs)\n",
        "print(gdf.columns)"
      ],
      "metadata": {
        "colab": {
          "base_uri": "https://localhost:8080/"
        },
        "id": "sI9P5fqCEOYp",
        "outputId": "5cd6c196-270e-4367-9941-c2d2da4c7d13"
      },
      "execution_count": null,
      "outputs": [
        {
          "output_type": "stream",
          "name": "stdout",
          "text": [
            "EPSG:2193\n",
            "Index(['Name_2018', 'Name_2012', 'Name_2008', 'Name_2001', 'Name_1996',\n",
            "       'Class_2018', 'Class_2012', 'Class_2008', 'Class_2001', 'Class_1996',\n",
            "       'Wetland_18', 'Wetland_12', 'Wetland_08', 'Wetland_01', 'Wetland_96',\n",
            "       'Onshore_18', 'Onshore_12', 'Onshore_08', 'Onshore_01', 'Onshore_96',\n",
            "       'EditAuthor', 'EditDate', 'LCDB_UID', 'geometry'],\n",
            "      dtype='object')\n"
          ]
        }
      ]
    },
    {
      "cell_type": "code",
      "source": [
        "# Here I load the sentinel2 data and create the median composite\n",
        "\n",
        "def mask_s2_clouds(image):\n",
        "    scl = image.select('SCL')\n",
        "    mask = scl.neq(3).And(scl.neq(8)).And(scl.neq(9))  # Not cloud, shadow, cirrus\n",
        "    return image.updateMask(mask)\n",
        "\n",
        "s2_2025 = (ee.ImageCollection('COPERNICUS/S2_SR_HARMONIZED')\n",
        "           .filterBounds(training_aoi)\n",
        "           .filterDate('2024-01-01', '2025-03-31')\n",
        "           .filter(ee.Filter.lt('CLOUDY_PIXEL_PERCENTAGE', 10))\n",
        "           .map(mask_s2_clouds)\n",
        "           .median()\n",
        "           .clip(training_aoi))\n",
        "\n",
        "bands_to_download = ['B2', 'B3', 'B4', 'B8', 'B11', 'B12']\n",
        "download_url = s2_2025.select(bands_to_download).getDownloadURL({\n",
        "    'scale': 10,\n",
        "    'region': training_aoi\n",
        "})"
      ],
      "metadata": {
        "id": "p0SoqlOmJrw6"
      },
      "execution_count": null,
      "outputs": []
    },
    {
      "cell_type": "markdown",
      "source": [
        "-------"
      ],
      "metadata": {
        "id": "h2DxkYxl692g"
      }
    },
    {
      "cell_type": "markdown",
      "source": [
        "---------"
      ],
      "metadata": {
        "id": "azZba-jn67tt"
      }
    },
    {
      "cell_type": "markdown",
      "source": [
        "---------\n",
        "\n"
      ],
      "metadata": {
        "id": "rKXGV9mY7BS1"
      }
    },
    {
      "cell_type": "code",
      "source": [
        "\n",
        "# Install required libraries if you are in an environment like Google Colab\n",
        "# !pip install geopandas rasterio rasterstats scikit-learn earthengine-api geemap\n",
        "\n",
        "import zipfile\n",
        "import geopandas as gpd\n",
        "import rasterio\n",
        "from rasterstats import zonal_stats\n",
        "from rasterio.transform import from_origin\n",
        "import numpy as np\n",
        "from sklearn.model_selection import train_test_split\n",
        "from sklearn.preprocessing import StandardScaler, LabelEncoder\n",
        "from sklearn.svm import SVC\n",
        "from sklearn.metrics import accuracy_score\n",
        "import warnings\n",
        "import os\n",
        "import ee"
      ],
      "metadata": {
        "id": "oEFgsZ8R7GoU"
      },
      "execution_count": null,
      "outputs": []
    },
    {
      "cell_type": "code",
      "source": [
        "ee.Authenticate()\n",
        "ee.Initialize(project='clara-geog761-tryout-1')"
      ],
      "metadata": {
        "id": "AE4NU-ep7v2e"
      },
      "execution_count": null,
      "outputs": []
    },
    {
      "cell_type": "code",
      "source": [
        "# --- Define file paths and parameters ---\n",
        "zip_file_name = \"lris-lcdb-v50-land-cover-database-version-50-mainland-new-zealand-SHP.zip\"\n",
        "shapefile_name = \"lcdb-v50-land-cover-database-version-50-mainland-new-zealand.shp\"\n",
        "shapefile_dir = \"lcdb\"\n",
        "shp_path = os.path.join(shapefile_dir, shapefile_name)\n",
        "label_column = 'Class_2018'"
      ],
      "metadata": {
        "id": "MtuYZEc-7OSS"
      },
      "execution_count": null,
      "outputs": []
    },
    {
      "cell_type": "code",
      "source": [
        "# Code to get you started\n",
        "import zipfile\n",
        "import geopandas as gpd\n",
        "\n",
        "# Upload the ZIP manually using the Colab UI\n",
        "from google.colab import files\n",
        "uploaded = files.upload()  # <- Expects a ZIP"
      ],
      "metadata": {
        "colab": {
          "base_uri": "https://localhost:8080/",
          "height": 663
        },
        "id": "NDYmg4h47p69",
        "outputId": "68eec339-f981-4e48-c7cd-5b86fec85064"
      },
      "execution_count": null,
      "outputs": [
        {
          "output_type": "display_data",
          "data": {
            "text/plain": [
              "<IPython.core.display.HTML object>"
            ],
            "text/html": [
              "\n",
              "     <input type=\"file\" id=\"files-077bb836-be7b-48b8-9fd5-4b6b6a7389a5\" name=\"files[]\" multiple disabled\n",
              "        style=\"border:none\" />\n",
              "     <output id=\"result-077bb836-be7b-48b8-9fd5-4b6b6a7389a5\">\n",
              "      Upload widget is only available when the cell has been executed in the\n",
              "      current browser session. Please rerun this cell to enable.\n",
              "      </output>\n",
              "      <script>// Copyright 2017 Google LLC\n",
              "//\n",
              "// Licensed under the Apache License, Version 2.0 (the \"License\");\n",
              "// you may not use this file except in compliance with the License.\n",
              "// You may obtain a copy of the License at\n",
              "//\n",
              "//      http://www.apache.org/licenses/LICENSE-2.0\n",
              "//\n",
              "// Unless required by applicable law or agreed to in writing, software\n",
              "// distributed under the License is distributed on an \"AS IS\" BASIS,\n",
              "// WITHOUT WARRANTIES OR CONDITIONS OF ANY KIND, either express or implied.\n",
              "// See the License for the specific language governing permissions and\n",
              "// limitations under the License.\n",
              "\n",
              "/**\n",
              " * @fileoverview Helpers for google.colab Python module.\n",
              " */\n",
              "(function(scope) {\n",
              "function span(text, styleAttributes = {}) {\n",
              "  const element = document.createElement('span');\n",
              "  element.textContent = text;\n",
              "  for (const key of Object.keys(styleAttributes)) {\n",
              "    element.style[key] = styleAttributes[key];\n",
              "  }\n",
              "  return element;\n",
              "}\n",
              "\n",
              "// Max number of bytes which will be uploaded at a time.\n",
              "const MAX_PAYLOAD_SIZE = 100 * 1024;\n",
              "\n",
              "function _uploadFiles(inputId, outputId) {\n",
              "  const steps = uploadFilesStep(inputId, outputId);\n",
              "  const outputElement = document.getElementById(outputId);\n",
              "  // Cache steps on the outputElement to make it available for the next call\n",
              "  // to uploadFilesContinue from Python.\n",
              "  outputElement.steps = steps;\n",
              "\n",
              "  return _uploadFilesContinue(outputId);\n",
              "}\n",
              "\n",
              "// This is roughly an async generator (not supported in the browser yet),\n",
              "// where there are multiple asynchronous steps and the Python side is going\n",
              "// to poll for completion of each step.\n",
              "// This uses a Promise to block the python side on completion of each step,\n",
              "// then passes the result of the previous step as the input to the next step.\n",
              "function _uploadFilesContinue(outputId) {\n",
              "  const outputElement = document.getElementById(outputId);\n",
              "  const steps = outputElement.steps;\n",
              "\n",
              "  const next = steps.next(outputElement.lastPromiseValue);\n",
              "  return Promise.resolve(next.value.promise).then((value) => {\n",
              "    // Cache the last promise value to make it available to the next\n",
              "    // step of the generator.\n",
              "    outputElement.lastPromiseValue = value;\n",
              "    return next.value.response;\n",
              "  });\n",
              "}\n",
              "\n",
              "/**\n",
              " * Generator function which is called between each async step of the upload\n",
              " * process.\n",
              " * @param {string} inputId Element ID of the input file picker element.\n",
              " * @param {string} outputId Element ID of the output display.\n",
              " * @return {!Iterable<!Object>} Iterable of next steps.\n",
              " */\n",
              "function* uploadFilesStep(inputId, outputId) {\n",
              "  const inputElement = document.getElementById(inputId);\n",
              "  inputElement.disabled = false;\n",
              "\n",
              "  const outputElement = document.getElementById(outputId);\n",
              "  outputElement.innerHTML = '';\n",
              "\n",
              "  const pickedPromise = new Promise((resolve) => {\n",
              "    inputElement.addEventListener('change', (e) => {\n",
              "      resolve(e.target.files);\n",
              "    });\n",
              "  });\n",
              "\n",
              "  const cancel = document.createElement('button');\n",
              "  inputElement.parentElement.appendChild(cancel);\n",
              "  cancel.textContent = 'Cancel upload';\n",
              "  const cancelPromise = new Promise((resolve) => {\n",
              "    cancel.onclick = () => {\n",
              "      resolve(null);\n",
              "    };\n",
              "  });\n",
              "\n",
              "  // Wait for the user to pick the files.\n",
              "  const files = yield {\n",
              "    promise: Promise.race([pickedPromise, cancelPromise]),\n",
              "    response: {\n",
              "      action: 'starting',\n",
              "    }\n",
              "  };\n",
              "\n",
              "  cancel.remove();\n",
              "\n",
              "  // Disable the input element since further picks are not allowed.\n",
              "  inputElement.disabled = true;\n",
              "\n",
              "  if (!files) {\n",
              "    return {\n",
              "      response: {\n",
              "        action: 'complete',\n",
              "      }\n",
              "    };\n",
              "  }\n",
              "\n",
              "  for (const file of files) {\n",
              "    const li = document.createElement('li');\n",
              "    li.append(span(file.name, {fontWeight: 'bold'}));\n",
              "    li.append(span(\n",
              "        `(${file.type || 'n/a'}) - ${file.size} bytes, ` +\n",
              "        `last modified: ${\n",
              "            file.lastModifiedDate ? file.lastModifiedDate.toLocaleDateString() :\n",
              "                                    'n/a'} - `));\n",
              "    const percent = span('0% done');\n",
              "    li.appendChild(percent);\n",
              "\n",
              "    outputElement.appendChild(li);\n",
              "\n",
              "    const fileDataPromise = new Promise((resolve) => {\n",
              "      const reader = new FileReader();\n",
              "      reader.onload = (e) => {\n",
              "        resolve(e.target.result);\n",
              "      };\n",
              "      reader.readAsArrayBuffer(file);\n",
              "    });\n",
              "    // Wait for the data to be ready.\n",
              "    let fileData = yield {\n",
              "      promise: fileDataPromise,\n",
              "      response: {\n",
              "        action: 'continue',\n",
              "      }\n",
              "    };\n",
              "\n",
              "    // Use a chunked sending to avoid message size limits. See b/62115660.\n",
              "    let position = 0;\n",
              "    do {\n",
              "      const length = Math.min(fileData.byteLength - position, MAX_PAYLOAD_SIZE);\n",
              "      const chunk = new Uint8Array(fileData, position, length);\n",
              "      position += length;\n",
              "\n",
              "      const base64 = btoa(String.fromCharCode.apply(null, chunk));\n",
              "      yield {\n",
              "        response: {\n",
              "          action: 'append',\n",
              "          file: file.name,\n",
              "          data: base64,\n",
              "        },\n",
              "      };\n",
              "\n",
              "      let percentDone = fileData.byteLength === 0 ?\n",
              "          100 :\n",
              "          Math.round((position / fileData.byteLength) * 100);\n",
              "      percent.textContent = `${percentDone}% done`;\n",
              "\n",
              "    } while (position < fileData.byteLength);\n",
              "  }\n",
              "\n",
              "  // All done.\n",
              "  yield {\n",
              "    response: {\n",
              "      action: 'complete',\n",
              "    }\n",
              "  };\n",
              "}\n",
              "\n",
              "scope.google = scope.google || {};\n",
              "scope.google.colab = scope.google.colab || {};\n",
              "scope.google.colab._files = {\n",
              "  _uploadFiles,\n",
              "  _uploadFilesContinue,\n",
              "};\n",
              "})(self);\n",
              "</script> "
            ]
          },
          "metadata": {}
        },
        {
          "output_type": "stream",
          "name": "stdout",
          "text": [
            "           Name_2018          Name_2012          Name_2008          Name_2001  \\\n",
            "0  Indigenous Forest  Indigenous Forest  Indigenous Forest  Indigenous Forest   \n",
            "1     Sand or Gravel     Sand or Gravel     Sand or Gravel     Sand or Gravel   \n",
            "2  Indigenous Forest  Indigenous Forest  Indigenous Forest  Indigenous Forest   \n",
            "3     Sand or Gravel     Sand or Gravel     Sand or Gravel     Sand or Gravel   \n",
            "4  Indigenous Forest  Indigenous Forest  Indigenous Forest  Indigenous Forest   \n",
            "\n",
            "           Name_1996  Class_2018  Class_2012  Class_2008  Class_2001  \\\n",
            "0  Indigenous Forest          69          69          69          69   \n",
            "1     Sand or Gravel          10          10          10          10   \n",
            "2  Indigenous Forest          69          69          69          69   \n",
            "3     Sand or Gravel          10          10          10          10   \n",
            "4  Indigenous Forest          69          69          69          69   \n",
            "\n",
            "   Class_1996  ... Wetland_96 Onshore_18 Onshore_12 Onshore_08 Onshore_01  \\\n",
            "0          69  ...         no        yes        yes        yes        yes   \n",
            "1          10  ...         no        yes        yes        yes        yes   \n",
            "2          69  ...         no        yes        yes        yes        yes   \n",
            "3          10  ...         no        yes        yes        yes        yes   \n",
            "4          69  ...         no        yes        yes        yes        yes   \n",
            "\n",
            "  Onshore_96 EditAuthor   EditDate        LCDB_UID  \\\n",
            "0        yes  Terralink 2004-06-30  lcdb1000168553   \n",
            "1        yes  Terralink 2004-06-30  lcdb1000009545   \n",
            "2        yes  Terralink 2004-06-30  lcdb1000168544   \n",
            "3        yes  Terralink 2004-06-30  lcdb1000009547   \n",
            "4        yes  Terralink 2004-06-30  lcdb1000168423   \n",
            "\n",
            "                                            geometry  \n",
            "0  POLYGON ((1820024.88 6001115.814, 1820021.712 ...  \n",
            "1  POLYGON ((1820054.749 6001263.521, 1820067.563...  \n",
            "2  POLYGON ((1818892.667 6000858.715, 1818932.048...  \n",
            "3  POLYGON ((1818879.751 6001641.58, 1818900.374 ...  \n",
            "4  POLYGON ((1819193.973 5997373.55, 1819165.748 ...  \n",
            "\n",
            "[5 rows x 24 columns]\n"
          ]
        }
      ]
    },
    {
      "cell_type": "code",
      "source": [
        "# Unzip\n",
        "with zipfile.ZipFile(\"lris-lcdb-v50-land-cover-database-version-50-mainland-new-zealand-SHP.zip\", 'r') as zip_ref: #<- Check file names\n",
        "    zip_ref.extractall(\"lcdb\")\n",
        "\n",
        "# Read shapefile\n",
        "gdf = gpd.read_file(\"lcdb/lcdb-v50-land-cover-database-version-50-mainland-new-zealand.shp\") #<- Check file names\n",
        "print(gdf.head())"
      ],
      "metadata": {
        "colab": {
          "base_uri": "https://localhost:8080/"
        },
        "id": "XqEpBktoCSwN",
        "outputId": "d165e109-5649-43ed-ccfb-84dbc5326811"
      },
      "execution_count": null,
      "outputs": [
        {
          "output_type": "stream",
          "name": "stdout",
          "text": [
            "           Name_2018          Name_2012          Name_2008          Name_2001  \\\n",
            "0  Indigenous Forest  Indigenous Forest  Indigenous Forest  Indigenous Forest   \n",
            "1     Sand or Gravel     Sand or Gravel     Sand or Gravel     Sand or Gravel   \n",
            "2  Indigenous Forest  Indigenous Forest  Indigenous Forest  Indigenous Forest   \n",
            "3     Sand or Gravel     Sand or Gravel     Sand or Gravel     Sand or Gravel   \n",
            "4  Indigenous Forest  Indigenous Forest  Indigenous Forest  Indigenous Forest   \n",
            "\n",
            "           Name_1996  Class_2018  Class_2012  Class_2008  Class_2001  \\\n",
            "0  Indigenous Forest          69          69          69          69   \n",
            "1     Sand or Gravel          10          10          10          10   \n",
            "2  Indigenous Forest          69          69          69          69   \n",
            "3     Sand or Gravel          10          10          10          10   \n",
            "4  Indigenous Forest          69          69          69          69   \n",
            "\n",
            "   Class_1996  ... Wetland_96 Onshore_18 Onshore_12 Onshore_08 Onshore_01  \\\n",
            "0          69  ...         no        yes        yes        yes        yes   \n",
            "1          10  ...         no        yes        yes        yes        yes   \n",
            "2          69  ...         no        yes        yes        yes        yes   \n",
            "3          10  ...         no        yes        yes        yes        yes   \n",
            "4          69  ...         no        yes        yes        yes        yes   \n",
            "\n",
            "  Onshore_96 EditAuthor   EditDate        LCDB_UID  \\\n",
            "0        yes  Terralink 2004-06-30  lcdb1000168553   \n",
            "1        yes  Terralink 2004-06-30  lcdb1000009545   \n",
            "2        yes  Terralink 2004-06-30  lcdb1000168544   \n",
            "3        yes  Terralink 2004-06-30  lcdb1000009547   \n",
            "4        yes  Terralink 2004-06-30  lcdb1000168423   \n",
            "\n",
            "                                            geometry  \n",
            "0  POLYGON ((1820024.88 6001115.814, 1820021.712 ...  \n",
            "1  POLYGON ((1820054.749 6001263.521, 1820067.563...  \n",
            "2  POLYGON ((1818892.667 6000858.715, 1818932.048...  \n",
            "3  POLYGON ((1818879.751 6001641.58, 1818900.374 ...  \n",
            "4  POLYGON ((1819193.973 5997373.55, 1819165.748 ...  \n",
            "\n",
            "[5 rows x 24 columns]\n"
          ]
        }
      ]
    },
    {
      "cell_type": "code",
      "source": [
        "# This calculates the bounding box of your entire shapefile.\n",
        "bounds = gdf.total_bounds\n",
        "# Create an ee.Geometry object from the bounding box.\n",
        "training_aoi = ee.Geometry.Rectangle(list(bounds))\n",
        "\n",
        "# Get the coordinates of the AOI to create the empty tif image\n",
        "coords = training_aoi.coordinates().getInfo()\n",
        "print(\"AOI coordinates:\", coords)\n",
        "\n",
        "# Get bounding box\n",
        "bounds = training_aoi.bounds().coordinates().getInfo()\n",
        "print(\"Bounding box:\", bounds)\n",
        "\n",
        "# Get the area in square meters (optional)\n",
        "area_m2 = training_aoi.area().getInfo()\n",
        "print(f\"AOI area: {area_m2/1e6:.2f} km²\")\n",
        "\n",
        "# Get centroid\n",
        "centroid = training_aoi.centroid().coordinates().getInfo()\n",
        "print(\"Centroid (lon, lat):\", centroid)\n"
      ],
      "metadata": {
        "colab": {
          "base_uri": "https://localhost:8080/"
        },
        "id": "BvHBt30r7hWX",
        "outputId": "16134696-24b3-4060-f053-e5fc266e8ce4"
      },
      "execution_count": null,
      "outputs": [
        {
          "output_type": "stream",
          "name": "stdout",
          "text": [
            "AOI coordinates: [[[1805249.9775999999, 5974361.6829], [1829024.9858, 5974361.6829], [1829024.9858, 6010584.2084], [1805249.9775999999, 6010584.2084], [1805249.9775999999, 5974361.6829]]]\n",
            "Bounding box: [[[-180, 18.31709999997223], [180, 18.31709999997223], [180, 90], [-180, 90], [-180, 18.31709999997223]]]\n",
            "AOI area: 13524957.43 km²\n",
            "Centroid (lon, lat): [37.48169999990192, 84.11263233342602]\n"
          ]
        }
      ]
    },
    {
      "cell_type": "code",
      "source": [
        "# Check CRS, class labels, and geometry\n",
        "print(gdf.crs)\n",
        "print(gdf.columns)"
      ],
      "metadata": {
        "colab": {
          "base_uri": "https://localhost:8080/"
        },
        "id": "9uQZCszj_0qC",
        "outputId": "f8b80c02-ed41-48ec-aceb-2238f849f051"
      },
      "execution_count": null,
      "outputs": [
        {
          "output_type": "stream",
          "name": "stdout",
          "text": [
            "EPSG:2193\n",
            "Index(['Name_2018', 'Name_2012', 'Name_2008', 'Name_2001', 'Name_1996',\n",
            "       'Class_2018', 'Class_2012', 'Class_2008', 'Class_2001', 'Class_1996',\n",
            "       'Wetland_18', 'Wetland_12', 'Wetland_08', 'Wetland_01', 'Wetland_96',\n",
            "       'Onshore_18', 'Onshore_12', 'Onshore_08', 'Onshore_01', 'Onshore_96',\n",
            "       'EditAuthor', 'EditDate', 'LCDB_UID', 'geometry'],\n",
            "      dtype='object')\n"
          ]
        }
      ]
    },
    {
      "cell_type": "code",
      "source": [
        "# Create a dedicated output directory for the downloaded image\n",
        "output_dir = 'output'\n",
        "os.makedirs(output_dir, exist_ok=True)\n",
        "local_img_path = os.path.join(output_dir, 'S2_composite.tif')\n",
        "\n",
        "# --- Load Shapefile ---\n",
        "# If the shapefile isn't already unzipped, this block will handle it.\n",
        "if not os.path.exists(shp_path):\n",
        "    print(f\"Shapefile not found. Looking for '{zip_file_name}' to extract.\")\n",
        "    # In a Colab environment, you would upload the file first\n",
        "    # from google.colab import files\n",
        "    # uploaded = files.upload()\n",
        "\n",
        "    with zipfile.ZipFile(zip_file_name, 'r') as zip_ref:\n",
        "        zip_ref.extractall(shapefile_dir)\n",
        "    print(\"Extraction complete.\")\n",
        "\n",
        "# AOI projected coordinates (in meters)\n",
        "x_min = 1805249.9776\n",
        "x_max = 1829024.9858\n",
        "y_min = 5974361.6829\n",
        "y_max = 6010584.2084\n",
        "\n",
        "# This step checks if the satellite image exists locally. If not, it runs the GEE export.\n",
        "# If the file is found, it proceeds directly to the analysis.\n",
        "\n",
        "if not os.path.exists(local_img_path):\n",
        "    # This block runs ONLY if the S2_composite.tif file is NOT in the 'output' folder.\n",
        "    print(\"\\n--- Running GEE Export Step ---\")\n",
        "    print(f\"Image not found at '{local_img_path}'. Starting GEE export to Google Drive.\")\n",
        "\n",
        "    # --- Create an empty placeholder raster with 4 bands (as requested) ---\n",
        "    print(\"Creating an empty 4-band placeholder raster...\")\n",
        "    gdf_projected = gdf.to_crs(epsg=2193) # <- We know this number from the previous cell where we manually checked it\n",
        "    pixel_size = 10  # Sentinel-2 resolution\n",
        "    num_bands_to_create = 4 # To match the GEE export\n",
        "\n",
        "    width = int((x_max - x_min) / pixel_size)\n",
        "    height = int((y_max - y_min) / pixel_size)\n",
        "    transform = from_origin(x_min, y_max, pixel_size, pixel_size)\n",
        "\n",
        "    with rasterio.open(\n",
        "        local_img_path, 'w', driver='GTiff',\n",
        "        height=height, width=width, count=num_bands_to_create, dtype=np.float32,\n",
        "        crs=gdf_projected.crs, transform=transform\n",
        "    ) as dst:\n",
        "        for i in range(1, num_bands_to_create + 1):\n",
        "            dst.write(np.zeros((height, width), dtype=np.float32), i)\n",
        "    print(f\"Empty placeholder with {num_bands_to_create} bands created at: {local_img_path}\")\n",
        "\n",
        "    # Reproject the GeoDataFrame to WGS84 (EPSG:4326) for GEE\n",
        "    gdf_wgs84 = gdf.to_crs(epsg=4326)\n",
        "    bounds_wgs84 = gdf_wgs84.total_bounds\n",
        "    training_aoi = ee.Geometry.Rectangle(list(bounds_wgs84))\n",
        "\n",
        "    def mask_s2_clouds(image):\n",
        "        scl = image.select('SCL')\n",
        "        mask = scl.neq(3).And(scl.neq(8)).And(scl.neq(9))\n",
        "        return image.updateMask(mask)\n",
        "\n",
        "    # Select the key spectral bands for classification\n",
        "    bands = ['B2', 'B3', 'B4', 'B8'] # Blue, Green, Red, NIR\n",
        "\n",
        "    image_collection = (ee.ImageCollection('COPERNICUS/S2_SR_HARMONIZED')\n",
        "                          .filterBounds(training_aoi)\n",
        "                          .filterDate('2023-01-01', '2024-12-31')\n",
        "                          .filter(ee.Filter.lt('CLOUDY_PIXEL_PERCENTAGE', 10))\n",
        "                          .map(mask_s2_clouds)\n",
        "                          .select(bands))\n",
        "\n",
        "    s2_image = image_collection.median().clip(training_aoi)\n",
        "\n",
        "    # Start the export task to your Google Drive\n",
        "    task = ee.batch.Export.image.toDrive(\n",
        "        image=s2_image, description='S2_cloudfree_composite', folder='GEE_exports',\n",
        "        fileNamePrefix='S2_composite', region=training_aoi, scale=10,\n",
        "        fileFormat='GeoTIFF', maxPixels=1e13\n",
        "    )\n",
        "    task.start()\n",
        "\n",
        "    print(\"\\n--- ACTION REQUIRED ---\")\n",
        "    print(f\"GEE export task '{task.id}' started.\")\n",
        "    print(\"1. Go to your Google Drive (the 'GEE_exports' folder).\")\n",
        "    print(\"2. Wait for the 'S2_composite.tif' file to appear.\")\n",
        "    print(f\"3. Download the file and place it in your '{output_dir}' folder, overwriting the placeholder.\")\n",
        "    print(\"4. Run this script again to perform the SVM training.\")"
      ],
      "metadata": {
        "colab": {
          "base_uri": "https://localhost:8080/"
        },
        "id": "FAmyt-w4ANH1",
        "outputId": "2d354833-2689-4b41-b157-e39c79668524"
      },
      "execution_count": null,
      "outputs": [
        {
          "output_type": "stream",
          "name": "stdout",
          "text": [
            "\n",
            "--- Running GEE Export Step ---\n",
            "Image not found at 'output/S2_composite.tif'. Starting GEE export to Google Drive.\n",
            "Creating an empty 4-band placeholder raster...\n",
            "Empty placeholder with 4 bands created at: output/S2_composite.tif\n",
            "\n",
            "--- ACTION REQUIRED ---\n",
            "GEE export task 'MI5KZFRA2TWVZ4JO64LH2DCD' started.\n",
            "1. Go to your Google Drive (the 'GEE_exports' folder).\n",
            "2. Wait for the 'S2_composite.tif' file to appear.\n",
            "3. Download the file and place it in your 'output' folder, overwriting the placeholder.\n",
            "4. Run this script again to perform the SVM training.\n"
          ]
        }
      ]
    },
    {
      "cell_type": "code",
      "source": [
        "\n",
        "print(\"Calculating zonal statistics...\")\n",
        "# with rasterio.open(local_img_path) as src:\n",
        "#     num_bands = src.count\n",
        "#     print(f\"Image has {num_bands} bands.\")\n",
        "#     if num_bands == 1:\n",
        "#         print(\"\\nERROR: The raster image has only one band. A multi-band image is required.\")\n",
        "#         print(\"Please delete the file in the 'output' folder and run the script again to download the correct image from GEE.\")\n",
        "#         exit()\n",
        "\n",
        "#     stats = zonal_stats(gdf,\n",
        "#                         local_img_path,\n",
        "#                         stats=\"mean\",\n",
        "#                         geojson_out=True,\n",
        "#                         band_num=list(range(1, num_bands + 1)))\n",
        "\n",
        "stats_per_band = []\n",
        "for band in range(1, num_bands + 1):\n",
        "    band_stats = zonal_stats(\n",
        "        gdf,\n",
        "        local_img_path,\n",
        "        stats=\"mean\",\n",
        "        geojson_out=True,\n",
        "        band_num=band\n",
        "    )\n",
        "    stats_per_band.append(band_stats)\n",
        "\n",
        "print(\"Preparing data for the classifier...\")\n",
        "\n",
        "# stats_per_band[band_index][polygon_index]['properties']['mean']\n",
        "num_polygons = len(stats_per_band[0])\n",
        "\n",
        "features = []\n",
        "labels = []\n",
        "\n",
        "for poly_idx in range(num_polygons):\n",
        "    band_means = []\n",
        "    for band_idx in range(num_bands):\n",
        "        band_mean = stats_per_band[band_idx][poly_idx]['properties']['mean']\n",
        "        band_means.append(band_mean)\n",
        "\n",
        "    if all(mean is not None for mean in band_means):\n",
        "        features.append(band_means)\n",
        "        labels.append(stats_per_band[0][poly_idx]['properties'][label_column])  # label from first band\n",
        "\n",
        "X = np.array(features)\n",
        "y_strings = np.array(labels)\n",
        "\n",
        "if len(X) == 0:\n",
        "    print(\"\\nError: No valid training data was created. Check if your shapefile and raster overlap.\")\n",
        "    exit()\n",
        "\n",
        "print(f\"Created a training set with {len(X)} samples.\")\n",
        "\n",
        "# --- Step 5: Train and Evaluate the SVM Classifier ---\n",
        "le = LabelEncoder()\n",
        "y = le.fit_transform(y_strings)\n",
        "\n",
        "X_train, X_test, y_train, y_test = train_test_split(X, y, test_size=0.3, random_state=42)\n",
        "\n",
        "scaler = StandardScaler().fit(X_train)\n",
        "X_train_scaled = scaler.transform(X_train)\n",
        "X_test_scaled = scaler.transform(X_test)\n",
        "\n",
        "print(\"Training the SVM classifier...\")\n",
        "svm_classifier = SVC(kernel='rbf')\n",
        "svm_classifier.fit(X_train_scaled, y_train)\n",
        "\n",
        "y_pred = svm_classifier.predict(X_test_scaled)\n",
        "accuracy = accuracy_score(y_test, y_pred)\n",
        "\n",
        "print(\"\\n--- Results ---\")\n",
        "print(f\"Classifier Accuracy: {accuracy * 100:.2f}%\")\n",
        "print(\"Label mapping used by the model:\")\n",
        "for i, label in enumerate(le.classes_):\n",
        "    print(f\"  '{label}' is encoded as {i}\")\n"
      ],
      "metadata": {
        "colab": {
          "base_uri": "https://localhost:8080/"
        },
        "id": "liWNFtivM9rK",
        "outputId": "d7c7511f-79bf-49a2-b929-deb0b4c507a1"
      },
      "execution_count": null,
      "outputs": [
        {
          "output_type": "stream",
          "name": "stdout",
          "text": [
            "Calculating zonal statistics...\n",
            "Preparing data for the classifier...\n",
            "Created a training set with 532 samples.\n",
            "Training the SVM classifier...\n",
            "\n",
            "--- Results ---\n",
            "Classifier Accuracy: 24.38%\n",
            "Label mapping used by the model:\n",
            "  '1' is encoded as 0\n",
            "  '2' is encoded as 1\n",
            "  '5' is encoded as 2\n",
            "  '6' is encoded as 3\n",
            "  '10' is encoded as 4\n",
            "  '12' is encoded as 5\n",
            "  '16' is encoded as 6\n",
            "  '20' is encoded as 7\n",
            "  '21' is encoded as 8\n",
            "  '22' is encoded as 9\n",
            "  '33' is encoded as 10\n",
            "  '40' is encoded as 11\n",
            "  '41' is encoded as 12\n",
            "  '45' is encoded as 13\n",
            "  '46' is encoded as 14\n",
            "  '51' is encoded as 15\n",
            "  '52' is encoded as 16\n",
            "  '54' is encoded as 17\n",
            "  '64' is encoded as 18\n",
            "  '69' is encoded as 19\n",
            "  '70' is encoded as 20\n",
            "  '71' is encoded as 21\n"
          ]
        }
      ]
    },
    {
      "cell_type": "code",
      "source": [
        "import rasterio\n",
        "import numpy as np\n",
        "\n",
        "# Input image\n",
        "input_raster = local_img_path\n",
        "output_classified = \"output/GreatBarrier_LC2025.tif\"\n",
        "\n",
        "with rasterio.open(input_raster) as src:\n",
        "    img = src.read()  # shape: (bands, height, width)\n",
        "    profile = src.profile\n",
        "\n",
        "    # Reshape to (pixels, bands)\n",
        "    bands, height, width = img.shape\n",
        "    img_2d = img.reshape(bands, height * width).T\n",
        "\n",
        "    # Apply scaling (same scaler as training)\n",
        "    img_2d_scaled = scaler.transform(img_2d)\n",
        "\n",
        "    # Predict classes\n",
        "    pred = svm_classifier.predict(img_2d_scaled)\n",
        "\n",
        "    # Reshape back to raster\n",
        "    pred_raster = pred.reshape(height, width).astype(rasterio.uint8)\n",
        "\n",
        "# Save the classified raster\n",
        "profile.update(dtype=rasterio.uint8, count=1)\n",
        "with rasterio.open(output_classified, 'w', **profile) as dst:\n",
        "    dst.write(pred_raster, 1)\n",
        "\n",
        "print(f\"Classified raster saved to: {output_classified}\")\n"
      ],
      "metadata": {
        "colab": {
          "base_uri": "https://localhost:8080/"
        },
        "id": "q_VXuR1LJ9qn",
        "outputId": "c3271f08-7042-43d6-c462-5ec1297d06d4"
      },
      "execution_count": null,
      "outputs": [
        {
          "output_type": "stream",
          "name": "stdout",
          "text": [
            "Classified raster saved to: output/GreatBarrier_LC2025.tif\n"
          ]
        }
      ]
    },
    {
      "cell_type": "code",
      "source": [
        "import matplotlib.pyplot as plt\n",
        "from rasterio.plot import show\n",
        "import geopandas as gpd\n",
        "from matplotlib_scalebar.scalebar import ScaleBar\n",
        "\n",
        "# Load classified raster\n",
        "with rasterio.open(output_classified) as src:\n",
        "    classified_data = src.read(1)\n",
        "    transform = src.transform\n",
        "    crs = src.crs\n",
        "\n",
        "# Map class colors (choose visually distinct palette)\n",
        "colors = plt.cm.get_cmap('tab20', len(le.classes_))\n",
        "class_colors = {i: colors(i) for i in range(len(le.classes_))}\n",
        "\n",
        "# Plot\n",
        "fig, ax = plt.subplots(figsize=(10, 10))\n",
        "cax = ax.imshow(classified_data, cmap=colors, interpolation='nearest')\n",
        "\n",
        "# LCDB v5 class code → descriptive name mapping (only including your model's classes)\n",
        "code_to_name = {\n",
        "    '1':  \"Built-up Area (settlement)\",\n",
        "    '2':  \"Urban Parkland/Open Space\",\n",
        "    '5':  \"Transport Infrastructure\",\n",
        "    '6':  \"Surface Mine or Dump\",\n",
        "    '10': \"Sand or Gravel\",\n",
        "    '12': \"Landslide\",\n",
        "    '16': \"Gravel or Rock\",\n",
        "    '20': \"Lake or Pond\",\n",
        "    '21': \"River\",\n",
        "    '22': \"Estuarine Open Water\",\n",
        "    '33': \"Orchards/Vineyards/Perennial Crops\",\n",
        "    '40': \"High Producing Exotic Grassland\",\n",
        "    '41': \"Low Producing Grassland\",\n",
        "    '45': \"Herbaceous Freshwater Vegetation\",\n",
        "    '46': \"Herbaceous Saline Vegetation\",\n",
        "    '51': \"Gorse and/or Broom\",\n",
        "    '52': \"Mānuka and/or Kānuka\",\n",
        "    '54': \"Broadleaved Indigenous Hardwoods\",\n",
        "    '64': \"Forest - Harvested\",\n",
        "    '69': \"Indigenous Forest\",\n",
        "    '70': \"Mangrove\",\n",
        "    '71': \"Exotic Forest\"\n",
        "}\n",
        "\n",
        "# Create legend labels mapping encoded index -> descriptive name\n",
        "legend_labels = {\n",
        "    i: code_to_name[str(le.classes_[i])]  # convert numeric code to string for lookup\n",
        "    for i in range(len(le.classes_))\n",
        "}\n",
        "\n",
        "# Build legend handles\n",
        "handles = [\n",
        "    plt.Line2D([0], [0], marker='s', color='w',\n",
        "               label=f\"{legend_labels[i]} (code {le.classes_[i]})\",\n",
        "               markerfacecolor=class_colors[i], markersize=10)\n",
        "    for i in range(len(le.classes_))\n",
        "]\n",
        "\n",
        "ax.legend(handles=handles, title=\"Land Cover Class\", bbox_to_anchor=(1.05, 1), loc='upper left')\n",
        "\n",
        "# North arrow (no idea how to make the thing point towardds north but I just assume that north is upwards, nothing to tweak for the scope of this lab)\n",
        "ax.annotate('N',\n",
        "            xy=(0.95, 0.15), xycoords='axes fraction',\n",
        "            fontsize=14, fontweight='bold', ha='center', va='center')\n",
        "ax.annotate('',\n",
        "            xy=(0.95, 0.22), xycoords='axes fraction',\n",
        "            xytext=(0.95, 0.18), textcoords='axes fraction',\n",
        "            arrowprops=dict(facecolor='black', width=4, headwidth=10))\n",
        "\n",
        "# --- Model performance text ---\n",
        "accuracy_percent = accuracy * 100\n",
        "stats_text = (\n",
        "    f\"Accuracy: {accuracy_percent:.2f}%\\n\"\n",
        "    f\"Classes: {len(le.classes_)}\"\n",
        ")\n",
        "\n",
        "# --- Data attribution text ---\n",
        "attribution_text = (\n",
        "    \"Data: Sentinel-2 SR (ESA/Copernicus)\\n\"\n",
        "    \"Landcare Research NZ 2024\\n\"\n",
        "    \"Map: Clara Klinkenberg\"\n",
        ")\n",
        "\n",
        "# Combine both blocks (stats on top, attribution below)\n",
        "info_block = stats_text + \"\\n\" + attribution_text\n",
        "\n",
        "# Position the text just below the legend box\n",
        "ax.text(1.05, 0.1, info_block,\n",
        "        transform=ax.transAxes,\n",
        "        fontsize=12, va='top', ha='left')\n",
        "\n",
        "# Add scale bar\n",
        "scalebar = ScaleBar(dx=10, units=\"m\", location='lower right')  # 10 m pixels\n",
        "ax.add_artist(scalebar)\n",
        "\n",
        "\n",
        "ax.set_title(\"Great Barrier Island (Aotea) Landcover Classification — Austral Summer 2024/25\", fontsize=14)\n",
        "ax.axis('off')\n",
        "\n",
        "plt.tight_layout()\n",
        "plt.show()\n"
      ],
      "metadata": {
        "colab": {
          "base_uri": "https://localhost:8080/",
          "height": 1000
        },
        "id": "TvPNniq6LET1",
        "outputId": "605c5751-9e63-40e9-868c-66a2a9ce9baa"
      },
      "execution_count": null,
      "outputs": [
        {
          "output_type": "stream",
          "name": "stderr",
          "text": [
            "/tmp/ipython-input-2865379030.py:13: MatplotlibDeprecationWarning: The get_cmap function was deprecated in Matplotlib 3.7 and will be removed in 3.11. Use ``matplotlib.colormaps[name]`` or ``matplotlib.colormaps.get_cmap()`` or ``pyplot.get_cmap()`` instead.\n",
            "  colors = plt.cm.get_cmap('tab20', len(le.classes_))\n"
          ]
        },
        {
          "output_type": "display_data",
          "data": {
            "text/plain": [
              "<Figure size 1000x1000 with 1 Axes>"
            ],
            "image/png": "[encoded data removed]"
          },
          "metadata": {}
        }
      ]
    },
    {
      "cell_type": "code",
      "source": [
        "!pip install matplotlib_scalebar"
      ],
      "metadata": {
        "colab": {
          "base_uri": "https://localhost:8080/"
        },
        "id": "6zn_gNV6LJG3",
        "outputId": "5ce5879e-258f-419f-f26e-f3d6146d2979"
      },
      "execution_count": null,
      "outputs": [
        {
          "output_type": "stream",
          "name": "stdout",
          "text": [
            "Collecting matplotlib_scalebar\n",
            "  Downloading matplotlib_scalebar-0.9.0-py3-none-any.whl.metadata (18 kB)\n",
            "Requirement already satisfied: matplotlib in /usr/local/lib/python3.11/dist-packages (from matplotlib_scalebar) (3.10.0)\n",
            "Requirement already satisfied: contourpy>=1.0.1 in /usr/local/lib/python3.11/dist-packages (from matplotlib->matplotlib_scalebar) (1.3.3)\n",
            "Requirement already satisfied: cycler>=0.10 in /usr/local/lib/python3.11/dist-packages (from matplotlib->matplotlib_scalebar) (0.12.1)\n",
            "Requirement already satisfied: fonttools>=4.22.0 in /usr/local/lib/python3.11/dist-packages (from matplotlib->matplotlib_scalebar) (4.59.0)\n",
            "Requirement already satisfied: kiwisolver>=1.3.1 in /usr/local/lib/python3.11/dist-packages (from matplotlib->matplotlib_scalebar) (1.4.8)\n",
            "Requirement already satisfied: numpy>=1.23 in /usr/local/lib/python3.11/dist-packages (from matplotlib->matplotlib_scalebar) (2.0.2)\n",
            "Requirement already satisfied: packaging>=20.0 in /usr/local/lib/python3.11/dist-packages (from matplotlib->matplotlib_scalebar) (25.0)\n",
            "Requirement already satisfied: pillow>=8 in /usr/local/lib/python3.11/dist-packages (from matplotlib->matplotlib_scalebar) (11.3.0)\n",
            "Requirement already satisfied: pyparsing>=2.3.1 in /usr/local/lib/python3.11/dist-packages (from matplotlib->matplotlib_scalebar) (3.2.3)\n",
            "Requirement already satisfied: python-dateutil>=2.7 in /usr/local/lib/python3.11/dist-packages (from matplotlib->matplotlib_scalebar) (2.9.0.post0)\n",
            "Requirement already satisfied: six>=1.5 in /usr/local/lib/python3.11/dist-packages (from python-dateutil>=2.7->matplotlib->matplotlib_scalebar) (1.17.0)\n",
            "Downloading matplotlib_scalebar-0.9.0-py3-none-any.whl (16 kB)\n",
            "Installing collected packages: matplotlib_scalebar\n",
            "Successfully installed matplotlib_scalebar-0.9.0\n"
          ]
        }
      ]
    }
  ]
}