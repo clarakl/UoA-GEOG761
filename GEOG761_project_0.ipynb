{
  "nbformat": 4,
  "nbformat_minor": 0,
  "metadata": {
    "colab": {
      "provenance": [],
      "authorship_tag": "ABX9TyPQliaI+ReZ295Qxa+qUVsA",
      "include_colab_link": true
    },
    "kernelspec": {
      "name": "python3",
      "display_name": "Python 3"
    },
    "language_info": {
      "name": "python"
    }
  },
  "cells": [
    {
      "cell_type": "markdown",
      "metadata": {
        "id": "view-in-github",
        "colab_type": "text"
      },
      "source": [
        "<a href=\"https://colab.research.google.com/github/clarakl/UoA-GEOG761/blob/main/GEOG761_project_0.ipynb\" target=\"_parent\"><img src=\"https://colab.research.google.com/assets/colab-badge.svg\" alt=\"Open In Colab\"/></a>"
      ]
    },
    {
      "cell_type": "code",
      "execution_count": 1,
      "metadata": {
        "id": "HhdOUARjl0uZ"
      },
      "outputs": [],
      "source": [
        "import ee"
      ]
    },
    {
      "cell_type": "code",
      "source": [
        "#Trigger the authetication flow.\n",
        "\n",
        "ee.Authenticate()"
      ],
      "metadata": {
        "id": "rMZ-gwo_mDxj"
      },
      "execution_count": 2,
      "outputs": []
    },
    {
      "cell_type": "code",
      "source": [
        "#Initialize the library\n",
        "\n",
        "ee.Initialize(project=\"clara-geog761-tryout-1\")"
      ],
      "metadata": {
        "id": "4BJkp0RVmiTs"
      },
      "execution_count": 6,
      "outputs": []
    },
    {
      "cell_type": "code",
      "source": [
        "# Print the elevation of Mount Everest\n",
        "\n",
        "dem = ee.Image(\"USGS/SRTMGL1_003\")\n",
        "xy = ee.Geometry.Point([86.9250, 27.9881])\n",
        "elev = dem.sample(xy, 30).first().get(\"elevation\").getInfo()\n",
        "print(\"Mount Everest elevation (m):\", elev)"
      ],
      "metadata": {
        "colab": {
          "base_uri": "https://localhost:8080/"
        },
        "id": "hUv5lfZ1obbh",
        "outputId": "53f5a7d7-1d45-4637-9ac3-3a28c531dd1a"
      },
      "execution_count": 8,
      "outputs": [
        {
          "output_type": "stream",
          "name": "stdout",
          "text": [
            "Mount Everest elevation (m): 8729\n"
          ]
        }
      ]
    },
    {
      "cell_type": "code",
      "source": [
        "# Print the elevation of the Chimborazo\n",
        "\n",
        "dem = ee.Image(\"USGS/SRTMGL1_003\")\n",
        "xy = ee.Geometry.Point([-78.8171, -1.4681])\n",
        "elev = dem.sample(xy, 30).first().get(\"elevation\").getInfo()\n",
        "print(\"Chimborazo elevation (m):\", elev)"
      ],
      "metadata": {
        "colab": {
          "base_uri": "https://localhost:8080/"
        },
        "id": "wIKRT7KLq1tT",
        "outputId": "1067daf2-2224-4e16-dd16-b2e4b43b6cf0"
      },
      "execution_count": 21,
      "outputs": [
        {
          "output_type": "stream",
          "name": "stdout",
          "text": [
            "Chimborazo elevation (m): 6255\n"
          ]
        }
      ]
    }
  ]
}