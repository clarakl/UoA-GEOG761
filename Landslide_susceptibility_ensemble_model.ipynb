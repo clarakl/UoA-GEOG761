{
  "nbformat": 4,
  "nbformat_minor": 0,
  "metadata": {
    "colab": {
      "provenance": [],
      "mount_file_id": "1YvgAvzZJ8biMf_rGB7v2OFJOmyMK4_oO",
      "authorship_tag": "ABX9TyP+ZRLytZ3wiuj5fYt0APE9",
      "include_colab_link": true
    },
    "kernelspec": {
      "name": "python3",
      "display_name": "Python 3"
    },
    "language_info": {
      "name": "python"
    },
    "widgets": {
      "application/vnd.jupyter.widget-state+json": {
        "a4edeea81ec34640b37ce014e8d3db45": {
          "model_module": "jupyter-leaflet",
          "model_name": "LeafletMapModel",
          "model_module_version": "^0.20",
          "state": {
            "_dom_classes": [],
            "_model_module": "jupyter-leaflet",
            "_model_module_version": "^0.20",
            "_model_name": "LeafletMapModel",
            "_view_count": null,
            "_view_module": "jupyter-leaflet",
            "_view_module_version": "^0.20",
            "_view_name": "LeafletMapView",
            "bottom": 40256,
            "bounce_at_zoom_limits": true,
            "box_zoom": true,
            "center": [
              -36.68817951291026,
              174.66389329965313
            ],
            "close_popup_on_click": true,
            "controls": [
              "IPY_MODEL_2050dfed4af3474ebf577bd1e91e0071",
              "IPY_MODEL_9456ab0fce7e41c2b4d5affa56aec921",
              "IPY_MODEL_699237ed37ec44ff9bf590fd71cbde61",
              "IPY_MODEL_684dd48ff0bc4e0988117e93394118e1",
              "IPY_MODEL_35b45ba632624295ac7655a07b7a3ece",
              "IPY_MODEL_6c0b063b0ca247a5afc447daacda0e45",
              "IPY_MODEL_5fe304f41fa5493d971914204e4e2e60",
              "IPY_MODEL_9835382320174f45acee17e556317d69"
            ],
            "crs": {
              "name": "EPSG3857",
              "custom": false
            },
            "default_style": "IPY_MODEL_27cdf47e83d54a2da09260b6303b2bbd",
            "double_click_zoom": true,
            "dragging": true,
            "dragging_style": "IPY_MODEL_89d26e8978e041ce990c578589356e8c",
            "east": 177.69836425781253,
            "fullscreen": false,
            "inertia": true,
            "inertia_deceleration": 3000,
            "inertia_max_speed": 1500,
            "interpolation": "bilinear",
            "keyboard": true,
            "keyboard_pan_offset": 80,
            "keyboard_zoom_offset": 1,
            "layers": [
              "IPY_MODEL_e7693f12df1b4d97b836441fcdb9e5d4",
              "IPY_MODEL_e3c12410b2e746bc921c32f358714db2"
            ],
            "layout": "IPY_MODEL_9a2b7600286e4eb2bf70d470a7cba04c",
            "left": 64013,
            "max_zoom": 24,
            "min_zoom": null,
            "modisdate": "2025-10-16",
            "north": -35.353216101238225,
            "options": [
              "bounce_at_zoom_limits",
              "box_zoom",
              "center",
              "close_popup_on_click",
              "double_click_zoom",
              "dragging",
              "fullscreen",
              "inertia",
              "inertia_deceleration",
              "inertia_max_speed",
              "interpolation",
              "keyboard",
              "keyboard_pan_offset",
              "keyboard_zoom_offset",
              "max_zoom",
              "min_zoom",
              "prefer_canvas",
              "scroll_wheel_zoom",
              "tap",
              "tap_tolerance",
              "touch_zoom",
              "world_copy_jump",
              "zoom",
              "zoom_animation_threshold",
              "zoom_delta",
              "zoom_snap"
            ],
            "panes": {},
            "prefer_canvas": false,
            "right": 65117,
            "scroll_wheel_zoom": true,
            "south": -37.99616267972813,
            "style": "IPY_MODEL_4c52d91ac00c4c359aa710e96e3adb70",
            "tap": true,
            "tap_tolerance": 15,
            "top": 39656,
            "touch_zoom": true,
            "west": 171.63391113281253,
            "window_url": "https://5cleou1eubx-496ff2e9c6d22116-0-colab.googleusercontent.com/outputframe.html?vrz=colab_20251013-060056_RC00_818586732",
            "world_copy_jump": false,
            "zoom": 8,
            "zoom_animation_threshold": 4,
            "zoom_delta": 1,
            "zoom_snap": 1
          }
        },
        "2050dfed4af3474ebf577bd1e91e0071": {
          "model_module": "jupyter-leaflet",
          "model_name": "LeafletWidgetControlModel",
          "model_module_version": "^0.20",
          "state": {
            "_model_module": "jupyter-leaflet",
            "_model_module_version": "^0.20",
            "_model_name": "LeafletWidgetControlModel",
            "_view_count": null,
            "_view_module": "jupyter-leaflet",
            "_view_module_version": "^0.20",
            "_view_name": "LeafletWidgetControlView",
            "max_height": null,
            "max_width": null,
            "min_height": null,
            "min_width": null,
            "options": [
              "position",
              "transparent_bg"
            ],
            "position": "topleft",
            "transparent_bg": false,
            "widget": "IPY_MODEL_e0b28a38180947b2a40ada370dadfe7f"
          }
        },
        "9456ab0fce7e41c2b4d5affa56aec921": {
          "model_module": "jupyter-leaflet",
          "model_name": "LeafletZoomControlModel",
          "model_module_version": "^0.20",
          "state": {
            "_model_module": "jupyter-leaflet",
            "_model_module_version": "^0.20",
            "_model_name": "LeafletZoomControlModel",
            "_view_count": null,
            "_view_module": "jupyter-leaflet",
            "_view_module_version": "^0.20",
            "_view_name": "LeafletZoomControlView",
            "options": [
              "position",
              "zoom_in_text",
              "zoom_in_title",
              "zoom_out_text",
              "zoom_out_title"
            ],
            "position": "topleft",
            "zoom_in_text": "+",
            "zoom_in_title": "Zoom in",
            "zoom_out_text": "-",
            "zoom_out_title": "Zoom out"
          }
        },
        "699237ed37ec44ff9bf590fd71cbde61": {
          "model_module": "jupyter-leaflet",
          "model_name": "LeafletFullScreenControlModel",
          "model_module_version": "^0.20",
          "state": {
            "_model_module": "jupyter-leaflet",
            "_model_module_version": "^0.20",
            "_model_name": "LeafletFullScreenControlModel",
            "_view_count": null,
            "_view_module": "jupyter-leaflet",
            "_view_module_version": "^0.20",
            "_view_name": "LeafletFullScreenControlView",
            "options": [
              "position"
            ],
            "position": "topleft"
          }
        },
        "684dd48ff0bc4e0988117e93394118e1": {
          "model_module": "jupyter-leaflet",
          "model_name": "LeafletDrawControlModel",
          "model_module_version": "^0.20",
          "state": {
            "_model_module": "jupyter-leaflet",
            "_model_module_version": "^0.20",
            "_model_name": "LeafletDrawControlModel",
            "_view_count": null,
            "_view_module": "jupyter-leaflet",
            "_view_module_version": "^0.20",
            "_view_name": "LeafletDrawControlView",
            "circle": {},
            "circlemarker": {},
            "data": [],
            "edit": true,
            "marker": {
              "shapeOptions": {
                "color": "#3388ff"
              }
            },
            "options": [
              "position"
            ],
            "polygon": {
              "shapeOptions": {}
            },
            "polyline": {
              "shapeOptions": {}
            },
            "position": "topleft",
            "rectangle": {
              "shapeOptions": {
                "color": "#3388ff"
              }
            },
            "remove": true
          }
        },
        "35b45ba632624295ac7655a07b7a3ece": {
          "model_module": "jupyter-leaflet",
          "model_name": "LeafletScaleControlModel",
          "model_module_version": "^0.20",
          "state": {
            "_model_module": "jupyter-leaflet",
            "_model_module_version": "^0.20",
            "_model_name": "LeafletScaleControlModel",
            "_view_count": null,
            "_view_module": "jupyter-leaflet",
            "_view_module_version": "^0.20",
            "_view_name": "LeafletScaleControlView",
            "imperial": true,
            "max_width": 100,
            "metric": true,
            "options": [
              "imperial",
              "max_width",
              "metric",
              "position",
              "update_when_idle"
            ],
            "position": "bottomleft",
            "update_when_idle": false
          }
        },
        "6c0b063b0ca247a5afc447daacda0e45": {
          "model_module": "jupyter-leaflet",
          "model_name": "LeafletMeasureControlModel",
          "model_module_version": "^0.20",
          "state": {
            "_custom_units": {},
            "_model_module": "jupyter-leaflet",
            "_model_module_version": "^0.20",
            "_model_name": "LeafletMeasureControlModel",
            "_view_count": null,
            "_view_module": "jupyter-leaflet",
            "_view_module_version": "^0.20",
            "_view_name": "LeafletMeasureControlView",
            "active_color": "orange",
            "capture_z_index": 10000,
            "completed_color": "#C8F2BE",
            "options": [
              "active_color",
              "capture_z_index",
              "completed_color",
              "popup_options",
              "position",
              "primary_area_unit",
              "primary_length_unit",
              "secondary_area_unit",
              "secondary_length_unit"
            ],
            "popup_options": {
              "className": "leaflet-measure-resultpopup",
              "autoPanPadding": [
                10,
                10
              ]
            },
            "position": "bottomleft",
            "primary_area_unit": "acres",
            "primary_length_unit": "kilometers",
            "secondary_area_unit": null,
            "secondary_length_unit": null
          }
        },
        "5fe304f41fa5493d971914204e4e2e60": {
          "model_module": "jupyter-leaflet",
          "model_name": "LeafletWidgetControlModel",
          "model_module_version": "^0.20",
          "state": {
            "_model_module": "jupyter-leaflet",
            "_model_module_version": "^0.20",
            "_model_name": "LeafletWidgetControlModel",
            "_view_count": null,
            "_view_module": "jupyter-leaflet",
            "_view_module_version": "^0.20",
            "_view_name": "LeafletWidgetControlView",
            "max_height": null,
            "max_width": null,
            "min_height": null,
            "min_width": null,
            "options": [
              "position",
              "transparent_bg"
            ],
            "position": "topright",
            "transparent_bg": false,
            "widget": "IPY_MODEL_6e41885bebfb4f99828f602d9def28e4"
          }
        },
        "9835382320174f45acee17e556317d69": {
          "model_module": "jupyter-leaflet",
          "model_name": "LeafletAttributionControlModel",
          "model_module_version": "^0.20",
          "state": {
            "_model_module": "jupyter-leaflet",
            "_model_module_version": "^0.20",
            "_model_name": "LeafletAttributionControlModel",
            "_view_count": null,
            "_view_module": "jupyter-leaflet",
            "_view_module_version": "^0.20",
            "_view_name": "LeafletAttributionControlView",
            "options": [
              "position",
              "prefix"
            ],
            "position": "bottomright",
            "prefix": "ipyleaflet"
          }
        },
        "27cdf47e83d54a2da09260b6303b2bbd": {
          "model_module": "jupyter-leaflet",
          "model_name": "LeafletMapStyleModel",
          "model_module_version": "^0.20",
          "state": {
            "_model_module": "jupyter-leaflet",
            "_model_module_version": "^0.20",
            "_model_name": "LeafletMapStyleModel",
            "_view_count": null,
            "_view_module": "@jupyter-widgets/base",
            "_view_module_version": "1.2.0",
            "_view_name": "StyleView",
            "cursor": "grab"
          }
        },
        "89d26e8978e041ce990c578589356e8c": {
          "model_module": "jupyter-leaflet",
          "model_name": "LeafletMapStyleModel",
          "model_module_version": "^0.20",
          "state": {
            "_model_module": "jupyter-leaflet",
            "_model_module_version": "^0.20",
            "_model_name": "LeafletMapStyleModel",
            "_view_count": null,
            "_view_module": "@jupyter-widgets/base",
            "_view_module_version": "1.2.0",
            "_view_name": "StyleView",
            "cursor": "move"
          }
        },
        "e7693f12df1b4d97b836441fcdb9e5d4": {
          "model_module": "jupyter-leaflet",
          "model_name": "LeafletTileLayerModel",
          "model_module_version": "^0.20",
          "state": {
            "_model_module": "jupyter-leaflet",
            "_model_module_version": "^0.20",
            "_model_name": "LeafletTileLayerModel",
            "_view_count": null,
            "_view_module": "jupyter-leaflet",
            "_view_module_version": "^0.20",
            "_view_name": "LeafletTileLayerView",
            "attribution": "&copy; <a href=\"https://www.openstreetmap.org/copyright\">OpenStreetMap</a> contributors",
            "base": true,
            "bottom": true,
            "bounds": null,
            "detect_retina": false,
            "loading": false,
            "max_native_zoom": null,
            "max_zoom": 30,
            "min_native_zoom": null,
            "min_zoom": 1,
            "name": "OpenStreetMap.Mapnik",
            "no_wrap": false,
            "opacity": 1,
            "options": [
              "attribution",
              "bounds",
              "detect_retina",
              "max_native_zoom",
              "max_zoom",
              "min_native_zoom",
              "min_zoom",
              "no_wrap",
              "pm_ignore",
              "tile_size",
              "tms",
              "zoom_offset"
            ],
            "pane": "",
            "pm_ignore": true,
            "popup": null,
            "popup_max_height": null,
            "popup_max_width": 300,
            "popup_min_width": 50,
            "show_loading": false,
            "snap_ignore": true,
            "subitems": [],
            "tile_size": 256,
            "tms": false,
            "url": "https://tile.openstreetmap.org/{z}/{x}/{y}.png",
            "visible": true,
            "zoom_offset": 0
          }
        },
        "e3c12410b2e746bc921c32f358714db2": {
          "model_module": "jupyter-leaflet",
          "model_name": "LeafletTileLayerModel",
          "model_module_version": "^0.20",
          "state": {
            "_model_module": "jupyter-leaflet",
            "_model_module_version": "^0.20",
            "_model_name": "LeafletTileLayerModel",
            "_view_count": null,
            "_view_module": "jupyter-leaflet",
            "_view_module_version": "^0.20",
            "_view_name": "LeafletTileLayerView",
            "attribution": "Google Earth Engine",
            "base": false,
            "bottom": true,
            "bounds": null,
            "detect_retina": false,
            "loading": false,
            "max_native_zoom": null,
            "max_zoom": 24,
            "min_native_zoom": null,
            "min_zoom": 0,
            "name": "Landslide Points",
            "no_wrap": false,
            "opacity": 1,
            "options": [
              "attribution",
              "bounds",
              "detect_retina",
              "max_native_zoom",
              "max_zoom",
              "min_native_zoom",
              "min_zoom",
              "no_wrap",
              "pm_ignore",
              "tile_size",
              "tms",
              "zoom_offset"
            ],
            "pane": "",
            "pm_ignore": true,
            "popup": null,
            "popup_max_height": null,
            "popup_max_width": 300,
            "popup_min_width": 50,
            "show_loading": false,
            "snap_ignore": true,
            "subitems": [],
            "tile_size": 256,
            "tms": false,
            "url": "https://earthengine.googleapis.com/v1/projects/clara-geog761-tryout-1/maps/05e551fe91fb3cf27a3d6453b66f68e9-a870362f649546c2cf4c223e914202ae/tiles/{z}/{x}/{y}",
            "visible": true,
            "zoom_offset": 0
          }
        },
        "9a2b7600286e4eb2bf70d470a7cba04c": {
          "model_module": "@jupyter-widgets/base",
          "model_name": "LayoutModel",
          "model_module_version": "1.2.0",
          "state": {
            "_model_module": "@jupyter-widgets/base",
            "_model_module_version": "1.2.0",
            "_model_name": "LayoutModel",
            "_view_count": null,
            "_view_module": "@jupyter-widgets/base",
            "_view_module_version": "1.2.0",
            "_view_name": "LayoutView",
            "align_content": null,
            "align_items": null,
            "align_self": null,
            "border": null,
            "bottom": null,
            "display": null,
            "flex": null,
            "flex_flow": null,
            "grid_area": null,
            "grid_auto_columns": null,
            "grid_auto_flow": null,
            "grid_auto_rows": null,
            "grid_column": null,
            "grid_gap": null,
            "grid_row": null,
            "grid_template_areas": null,
            "grid_template_columns": null,
            "grid_template_rows": null,
            "height": "600px",
            "justify_content": null,
            "justify_items": null,
            "left": null,
            "margin": null,
            "max_height": null,
            "max_width": null,
            "min_height": null,
            "min_width": null,
            "object_fit": null,
            "object_position": null,
            "order": null,
            "overflow": null,
            "overflow_x": null,
            "overflow_y": null,
            "padding": null,
            "right": null,
            "top": null,
            "visibility": null,
            "width": null
          }
        },
        "4c52d91ac00c4c359aa710e96e3adb70": {
          "model_module": "jupyter-leaflet",
          "model_name": "LeafletMapStyleModel",
          "model_module_version": "^0.20",
          "state": {
            "_model_module": "jupyter-leaflet",
            "_model_module_version": "^0.20",
            "_model_name": "LeafletMapStyleModel",
            "_view_count": null,
            "_view_module": "@jupyter-widgets/base",
            "_view_module_version": "1.2.0",
            "_view_name": "StyleView",
            "cursor": "grab"
          }
        },
        "e0b28a38180947b2a40ada370dadfe7f": {
          "model_module": "@jupyter-widgets/controls",
          "model_name": "HBoxModel",
          "model_module_version": "1.5.0",
          "state": {
            "_dom_classes": [
              "geemap-colab"
            ],
            "_model_module": "@jupyter-widgets/controls",
            "_model_module_version": "1.5.0",
            "_model_name": "HBoxModel",
            "_view_count": null,
            "_view_module": "@jupyter-widgets/controls",
            "_view_module_version": "1.5.0",
            "_view_name": "HBoxView",
            "box_style": "",
            "children": [
              "IPY_MODEL_72ca599cb0d24144b3f926fb4c19648b"
            ],
            "layout": "IPY_MODEL_4024b0fe767d4f3a885f579ca6efbcdc"
          }
        },
        "6e41885bebfb4f99828f602d9def28e4": {
          "model_module": "@jupyter-widgets/controls",
          "model_name": "VBoxModel",
          "model_module_version": "1.5.0",
          "state": {
            "_dom_classes": [
              "geemap-colab"
            ],
            "_model_module": "@jupyter-widgets/controls",
            "_model_module_version": "1.5.0",
            "_model_name": "VBoxModel",
            "_view_count": null,
            "_view_module": "@jupyter-widgets/controls",
            "_view_module_version": "1.5.0",
            "_view_name": "VBoxView",
            "box_style": "",
            "children": [
              "IPY_MODEL_4f5a5fe0288245118f5b95d5a9a5e026",
              "IPY_MODEL_fb6cd15a1b2d472e966523918542a52b"
            ],
            "layout": "IPY_MODEL_7276905c306d447b9fcd7ac592fac671"
          }
        },
        "72ca599cb0d24144b3f926fb4c19648b": {
          "model_module": "@jupyter-widgets/controls",
          "model_name": "ToggleButtonModel",
          "model_module_version": "1.5.0",
          "state": {
            "_dom_classes": [],
            "_model_module": "@jupyter-widgets/controls",
            "_model_module_version": "1.5.0",
            "_model_name": "ToggleButtonModel",
            "_view_count": null,
            "_view_module": "@jupyter-widgets/controls",
            "_view_module_version": "1.5.0",
            "_view_name": "ToggleButtonView",
            "button_style": "",
            "description": "",
            "description_tooltip": null,
            "disabled": false,
            "icon": "globe",
            "layout": "IPY_MODEL_c00a30a8f181480b99f854712826b355",
            "style": "IPY_MODEL_61741ddd5e964850942ad900a83e6137",
            "tooltip": "Search location/data",
            "value": false
          }
        },
        "4024b0fe767d4f3a885f579ca6efbcdc": {
          "model_module": "@jupyter-widgets/base",
          "model_name": "LayoutModel",
          "model_module_version": "1.2.0",
          "state": {
            "_model_module": "@jupyter-widgets/base",
            "_model_module_version": "1.2.0",
            "_model_name": "LayoutModel",
            "_view_count": null,
            "_view_module": "@jupyter-widgets/base",
            "_view_module_version": "1.2.0",
            "_view_name": "LayoutView",
            "align_content": null,
            "align_items": null,
            "align_self": null,
            "border": null,
            "bottom": null,
            "display": null,
            "flex": null,
            "flex_flow": null,
            "grid_area": null,
            "grid_auto_columns": null,
            "grid_auto_flow": null,
            "grid_auto_rows": null,
            "grid_column": null,
            "grid_gap": null,
            "grid_row": null,
            "grid_template_areas": null,
            "grid_template_columns": null,
            "grid_template_rows": null,
            "height": null,
            "justify_content": null,
            "justify_items": null,
            "left": null,
            "margin": null,
            "max_height": null,
            "max_width": null,
            "min_height": null,
            "min_width": null,
            "object_fit": null,
            "object_position": null,
            "order": null,
            "overflow": null,
            "overflow_x": null,
            "overflow_y": null,
            "padding": null,
            "right": null,
            "top": null,
            "visibility": null,
            "width": null
          }
        },
        "4f5a5fe0288245118f5b95d5a9a5e026": {
          "model_module": "@jupyter-widgets/controls",
          "model_name": "HBoxModel",
          "model_module_version": "1.5.0",
          "state": {
            "_dom_classes": [],
            "_model_module": "@jupyter-widgets/controls",
            "_model_module_version": "1.5.0",
            "_model_name": "HBoxModel",
            "_view_count": null,
            "_view_module": "@jupyter-widgets/controls",
            "_view_module_version": "1.5.0",
            "_view_name": "HBoxView",
            "box_style": "",
            "children": [
              "IPY_MODEL_95eaef245bcb4389b470bde50adb6715",
              "IPY_MODEL_0594b99f462d4a5ea5ca3dadeb705be4"
            ],
            "layout": "IPY_MODEL_24e4856593554c79b487a3e6b2f4bbb7"
          }
        },
        "fb6cd15a1b2d472e966523918542a52b": {
          "model_module": "@jupyter-widgets/controls",
          "model_name": "VBoxModel",
          "model_module_version": "1.5.0",
          "state": {
            "_dom_classes": [],
            "_model_module": "@jupyter-widgets/controls",
            "_model_module_version": "1.5.0",
            "_model_name": "VBoxModel",
            "_view_count": null,
            "_view_module": "@jupyter-widgets/controls",
            "_view_module_version": "1.5.0",
            "_view_name": "VBoxView",
            "box_style": "",
            "children": [
              "IPY_MODEL_cabaf27185d4468aac55ff4e4c577f98"
            ],
            "layout": "IPY_MODEL_46b5be1acb4442a186c2f18674724940"
          }
        },
        "7276905c306d447b9fcd7ac592fac671": {
          "model_module": "@jupyter-widgets/base",
          "model_name": "LayoutModel",
          "model_module_version": "1.2.0",
          "state": {
            "_model_module": "@jupyter-widgets/base",
            "_model_module_version": "1.2.0",
            "_model_name": "LayoutModel",
            "_view_count": null,
            "_view_module": "@jupyter-widgets/base",
            "_view_module_version": "1.2.0",
            "_view_name": "LayoutView",
            "align_content": null,
            "align_items": null,
            "align_self": null,
            "border": null,
            "bottom": null,
            "display": null,
            "flex": null,
            "flex_flow": null,
            "grid_area": null,
            "grid_auto_columns": null,
            "grid_auto_flow": null,
            "grid_auto_rows": null,
            "grid_column": null,
            "grid_gap": null,
            "grid_row": null,
            "grid_template_areas": null,
            "grid_template_columns": null,
            "grid_template_rows": null,
            "height": null,
            "justify_content": null,
            "justify_items": null,
            "left": null,
            "margin": null,
            "max_height": null,
            "max_width": null,
            "min_height": null,
            "min_width": null,
            "object_fit": null,
            "object_position": null,
            "order": null,
            "overflow": null,
            "overflow_x": null,
            "overflow_y": null,
            "padding": null,
            "right": null,
            "top": null,
            "visibility": null,
            "width": null
          }
        },
        "c00a30a8f181480b99f854712826b355": {
          "model_module": "@jupyter-widgets/base",
          "model_name": "LayoutModel",
          "model_module_version": "1.2.0",
          "state": {
            "_model_module": "@jupyter-widgets/base",
            "_model_module_version": "1.2.0",
            "_model_name": "LayoutModel",
            "_view_count": null,
            "_view_module": "@jupyter-widgets/base",
            "_view_module_version": "1.2.0",
            "_view_name": "LayoutView",
            "align_content": null,
            "align_items": null,
            "align_self": null,
            "border": null,
            "bottom": null,
            "display": null,
            "flex": null,
            "flex_flow": null,
            "grid_area": null,
            "grid_auto_columns": null,
            "grid_auto_flow": null,
            "grid_auto_rows": null,
            "grid_column": null,
            "grid_gap": null,
            "grid_row": null,
            "grid_template_areas": null,
            "grid_template_columns": null,
            "grid_template_rows": null,
            "height": "28px",
            "justify_content": null,
            "justify_items": null,
            "left": null,
            "margin": null,
            "max_height": null,
            "max_width": null,
            "min_height": null,
            "min_width": null,
            "object_fit": null,
            "object_position": null,
            "order": null,
            "overflow": null,
            "overflow_x": null,
            "overflow_y": null,
            "padding": "0px 0px 0px 4px",
            "right": null,
            "top": null,
            "visibility": null,
            "width": "28px"
          }
        },
        "61741ddd5e964850942ad900a83e6137": {
          "model_module": "@jupyter-widgets/controls",
          "model_name": "DescriptionStyleModel",
          "model_module_version": "1.5.0",
          "state": {
            "_model_module": "@jupyter-widgets/controls",
            "_model_module_version": "1.5.0",
            "_model_name": "DescriptionStyleModel",
            "_view_count": null,
            "_view_module": "@jupyter-widgets/base",
            "_view_module_version": "1.2.0",
            "_view_name": "StyleView",
            "description_width": ""
          }
        },
        "95eaef245bcb4389b470bde50adb6715": {
          "model_module": "@jupyter-widgets/controls",
          "model_name": "ToggleButtonModel",
          "model_module_version": "1.5.0",
          "state": {
            "_dom_classes": [],
            "_model_module": "@jupyter-widgets/controls",
            "_model_module_version": "1.5.0",
            "_model_name": "ToggleButtonModel",
            "_view_count": null,
            "_view_module": "@jupyter-widgets/controls",
            "_view_module_version": "1.5.0",
            "_view_name": "ToggleButtonView",
            "button_style": "",
            "description": "",
            "description_tooltip": null,
            "disabled": false,
            "icon": "server",
            "layout": "IPY_MODEL_cffca6dd79624f7586e41409faf5eeb2",
            "style": "IPY_MODEL_8390933b5de94b358022c9321aa65834",
            "tooltip": "Layers",
            "value": true
          }
        },
        "0594b99f462d4a5ea5ca3dadeb705be4": {
          "model_module": "@jupyter-widgets/controls",
          "model_name": "ToggleButtonModel",
          "model_module_version": "1.5.0",
          "state": {
            "_dom_classes": [],
            "_model_module": "@jupyter-widgets/controls",
            "_model_module_version": "1.5.0",
            "_model_name": "ToggleButtonModel",
            "_view_count": null,
            "_view_module": "@jupyter-widgets/controls",
            "_view_module_version": "1.5.0",
            "_view_name": "ToggleButtonView",
            "button_style": "",
            "description": "",
            "description_tooltip": null,
            "disabled": false,
            "icon": "wrench",
            "layout": "IPY_MODEL_8b6f88de231b4654b05edfdb130fad4f",
            "style": "IPY_MODEL_08da508d9f81432db80100284aa70458",
            "tooltip": "Toolbar",
            "value": false
          }
        },
        "24e4856593554c79b487a3e6b2f4bbb7": {
          "model_module": "@jupyter-widgets/base",
          "model_name": "LayoutModel",
          "model_module_version": "1.2.0",
          "state": {
            "_model_module": "@jupyter-widgets/base",
            "_model_module_version": "1.2.0",
            "_model_name": "LayoutModel",
            "_view_count": null,
            "_view_module": "@jupyter-widgets/base",
            "_view_module_version": "1.2.0",
            "_view_name": "LayoutView",
            "align_content": null,
            "align_items": "center",
            "align_self": null,
            "border": null,
            "bottom": null,
            "display": "flex",
            "flex": null,
            "flex_flow": null,
            "grid_area": null,
            "grid_auto_columns": null,
            "grid_auto_flow": null,
            "grid_auto_rows": null,
            "grid_column": null,
            "grid_gap": null,
            "grid_row": null,
            "grid_template_areas": null,
            "grid_template_columns": null,
            "grid_template_rows": null,
            "height": null,
            "justify_content": "flex-end",
            "justify_items": null,
            "left": null,
            "margin": null,
            "max_height": null,
            "max_width": null,
            "min_height": null,
            "min_width": null,
            "object_fit": null,
            "object_position": null,
            "order": null,
            "overflow": null,
            "overflow_x": null,
            "overflow_y": null,
            "padding": null,
            "right": null,
            "top": null,
            "visibility": null,
            "width": null
          }
        },
        "cabaf27185d4468aac55ff4e4c577f98": {
          "model_module": "@jupyter-widgets/controls",
          "model_name": "VBoxModel",
          "model_module_version": "1.5.0",
          "state": {
            "_dom_classes": [
              "geemap-colab"
            ],
            "_model_module": "@jupyter-widgets/controls",
            "_model_module_version": "1.5.0",
            "_model_name": "VBoxModel",
            "_view_count": null,
            "_view_module": "@jupyter-widgets/controls",
            "_view_module_version": "1.5.0",
            "_view_name": "VBoxView",
            "box_style": "",
            "children": [
              "IPY_MODEL_1d1bf13f2a0d421e94264a12bf929fe8",
              "IPY_MODEL_35e33eb3b6a44209ac0666969eae3a45"
            ],
            "layout": "IPY_MODEL_f258b91beea8430cb9e6b049dcc47f38"
          }
        },
        "46b5be1acb4442a186c2f18674724940": {
          "model_module": "@jupyter-widgets/base",
          "model_name": "LayoutModel",
          "model_module_version": "1.2.0",
          "state": {
            "_model_module": "@jupyter-widgets/base",
            "_model_module_version": "1.2.0",
            "_model_name": "LayoutModel",
            "_view_count": null,
            "_view_module": "@jupyter-widgets/base",
            "_view_module_version": "1.2.0",
            "_view_name": "LayoutView",
            "align_content": null,
            "align_items": null,
            "align_self": null,
            "border": null,
            "bottom": null,
            "display": null,
            "flex": null,
            "flex_flow": null,
            "grid_area": null,
            "grid_auto_columns": null,
            "grid_auto_flow": null,
            "grid_auto_rows": null,
            "grid_column": null,
            "grid_gap": null,
            "grid_row": null,
            "grid_template_areas": null,
            "grid_template_columns": null,
            "grid_template_rows": null,
            "height": null,
            "justify_content": null,
            "justify_items": null,
            "left": null,
            "margin": null,
            "max_height": null,
            "max_width": null,
            "min_height": null,
            "min_width": null,
            "object_fit": null,
            "object_position": null,
            "order": null,
            "overflow": null,
            "overflow_x": null,
            "overflow_y": null,
            "padding": null,
            "right": null,
            "top": null,
            "visibility": null,
            "width": null
          }
        },
        "cffca6dd79624f7586e41409faf5eeb2": {
          "model_module": "@jupyter-widgets/base",
          "model_name": "LayoutModel",
          "model_module_version": "1.2.0",
          "state": {
            "_model_module": "@jupyter-widgets/base",
            "_model_module_version": "1.2.0",
            "_model_name": "LayoutModel",
            "_view_count": null,
            "_view_module": "@jupyter-widgets/base",
            "_view_module_version": "1.2.0",
            "_view_name": "LayoutView",
            "align_content": null,
            "align_items": null,
            "align_self": null,
            "border": null,
            "bottom": null,
            "display": null,
            "flex": null,
            "flex_flow": null,
            "grid_area": null,
            "grid_auto_columns": null,
            "grid_auto_flow": null,
            "grid_auto_rows": null,
            "grid_column": null,
            "grid_gap": null,
            "grid_row": null,
            "grid_template_areas": null,
            "grid_template_columns": null,
            "grid_template_rows": null,
            "height": "28px",
            "justify_content": null,
            "justify_items": null,
            "left": null,
            "margin": null,
            "max_height": null,
            "max_width": null,
            "min_height": null,
            "min_width": null,
            "object_fit": null,
            "object_position": null,
            "order": null,
            "overflow": null,
            "overflow_x": null,
            "overflow_y": null,
            "padding": null,
            "right": null,
            "top": null,
            "visibility": null,
            "width": "72px"
          }
        },
        "8390933b5de94b358022c9321aa65834": {
          "model_module": "@jupyter-widgets/controls",
          "model_name": "DescriptionStyleModel",
          "model_module_version": "1.5.0",
          "state": {
            "_model_module": "@jupyter-widgets/controls",
            "_model_module_version": "1.5.0",
            "_model_name": "DescriptionStyleModel",
            "_view_count": null,
            "_view_module": "@jupyter-widgets/base",
            "_view_module_version": "1.2.0",
            "_view_name": "StyleView",
            "description_width": ""
          }
        },
        "8b6f88de231b4654b05edfdb130fad4f": {
          "model_module": "@jupyter-widgets/base",
          "model_name": "LayoutModel",
          "model_module_version": "1.2.0",
          "state": {
            "_model_module": "@jupyter-widgets/base",
            "_model_module_version": "1.2.0",
            "_model_name": "LayoutModel",
            "_view_count": null,
            "_view_module": "@jupyter-widgets/base",
            "_view_module_version": "1.2.0",
            "_view_name": "LayoutView",
            "align_content": null,
            "align_items": null,
            "align_self": null,
            "border": null,
            "bottom": null,
            "display": null,
            "flex": null,
            "flex_flow": null,
            "grid_area": null,
            "grid_auto_columns": null,
            "grid_auto_flow": null,
            "grid_auto_rows": null,
            "grid_column": null,
            "grid_gap": null,
            "grid_row": null,
            "grid_template_areas": null,
            "grid_template_columns": null,
            "grid_template_rows": null,
            "height": "28px",
            "justify_content": null,
            "justify_items": null,
            "left": null,
            "margin": null,
            "max_height": null,
            "max_width": null,
            "min_height": null,
            "min_width": null,
            "object_fit": null,
            "object_position": null,
            "order": null,
            "overflow": null,
            "overflow_x": null,
            "overflow_y": null,
            "padding": "0px 0px 0px 4px",
            "right": null,
            "top": null,
            "visibility": null,
            "width": "28px"
          }
        },
        "08da508d9f81432db80100284aa70458": {
          "model_module": "@jupyter-widgets/controls",
          "model_name": "DescriptionStyleModel",
          "model_module_version": "1.5.0",
          "state": {
            "_model_module": "@jupyter-widgets/controls",
            "_model_module_version": "1.5.0",
            "_model_name": "DescriptionStyleModel",
            "_view_count": null,
            "_view_module": "@jupyter-widgets/base",
            "_view_module_version": "1.2.0",
            "_view_name": "StyleView",
            "description_width": ""
          }
        },
        "1d1bf13f2a0d421e94264a12bf929fe8": {
          "model_module": "@jupyter-widgets/controls",
          "model_name": "HBoxModel",
          "model_module_version": "1.5.0",
          "state": {
            "_dom_classes": [],
            "_model_module": "@jupyter-widgets/controls",
            "_model_module_version": "1.5.0",
            "_model_name": "HBoxModel",
            "_view_count": null,
            "_view_module": "@jupyter-widgets/controls",
            "_view_module_version": "1.5.0",
            "_view_name": "HBoxView",
            "box_style": "",
            "children": [
              "IPY_MODEL_a7248a0e035141d583d8c2f4d6ee3fb3",
              "IPY_MODEL_06d5e1ac77714b18ae83d4bec1a05e5a"
            ],
            "layout": "IPY_MODEL_f8a071aa21e44e0489a4a029a2c80b7c"
          }
        },
        "35e33eb3b6a44209ac0666969eae3a45": {
          "model_module": "@jupyter-widgets/controls",
          "model_name": "VBoxModel",
          "model_module_version": "1.5.0",
          "state": {
            "_dom_classes": [],
            "_model_module": "@jupyter-widgets/controls",
            "_model_module_version": "1.5.0",
            "_model_name": "VBoxModel",
            "_view_count": null,
            "_view_module": "@jupyter-widgets/controls",
            "_view_module_version": "1.5.0",
            "_view_name": "VBoxView",
            "box_style": "",
            "children": [
              "IPY_MODEL_3b38e7cc109043979e36cbab3619bc21",
              "IPY_MODEL_451d689d1f8147adbbd86898731d9d13",
              "IPY_MODEL_8ea3b51fcb4343e884a62923b536bc16"
            ],
            "layout": "IPY_MODEL_b67e165b8cbc420baf9a1b8abe254c18"
          }
        },
        "f258b91beea8430cb9e6b049dcc47f38": {
          "model_module": "@jupyter-widgets/base",
          "model_name": "LayoutModel",
          "model_module_version": "1.2.0",
          "state": {
            "_model_module": "@jupyter-widgets/base",
            "_model_module_version": "1.2.0",
            "_model_name": "LayoutModel",
            "_view_count": null,
            "_view_module": "@jupyter-widgets/base",
            "_view_module_version": "1.2.0",
            "_view_name": "LayoutView",
            "align_content": null,
            "align_items": null,
            "align_self": null,
            "border": null,
            "bottom": null,
            "display": null,
            "flex": null,
            "flex_flow": null,
            "grid_area": null,
            "grid_auto_columns": null,
            "grid_auto_flow": null,
            "grid_auto_rows": null,
            "grid_column": null,
            "grid_gap": null,
            "grid_row": null,
            "grid_template_areas": null,
            "grid_template_columns": null,
            "grid_template_rows": null,
            "height": null,
            "justify_content": null,
            "justify_items": null,
            "left": null,
            "margin": null,
            "max_height": null,
            "max_width": null,
            "min_height": null,
            "min_width": null,
            "object_fit": null,
            "object_position": null,
            "order": null,
            "overflow": null,
            "overflow_x": null,
            "overflow_y": null,
            "padding": null,
            "right": null,
            "top": null,
            "visibility": null,
            "width": null
          }
        },
        "a7248a0e035141d583d8c2f4d6ee3fb3": {
          "model_module": "@jupyter-widgets/controls",
          "model_name": "ButtonModel",
          "model_module_version": "1.5.0",
          "state": {
            "_dom_classes": [],
            "_model_module": "@jupyter-widgets/controls",
            "_model_module_version": "1.5.0",
            "_model_name": "ButtonModel",
            "_view_count": null,
            "_view_module": "@jupyter-widgets/controls",
            "_view_module_version": "1.5.0",
            "_view_name": "ButtonView",
            "button_style": "primary",
            "description": "",
            "disabled": false,
            "icon": "times",
            "layout": "IPY_MODEL_b4c800f65fa946f19ff14b58de78e679",
            "style": "IPY_MODEL_8e02d63a72fe41e4bd29eee42dbe0c99",
            "tooltip": "Close the tool"
          }
        },
        "06d5e1ac77714b18ae83d4bec1a05e5a": {
          "model_module": "@jupyter-widgets/controls",
          "model_name": "ToggleButtonModel",
          "model_module_version": "1.5.0",
          "state": {
            "_dom_classes": [],
            "_model_module": "@jupyter-widgets/controls",
            "_model_module_version": "1.5.0",
            "_model_name": "ToggleButtonModel",
            "_view_count": null,
            "_view_module": "@jupyter-widgets/controls",
            "_view_module_version": "1.5.0",
            "_view_name": "ToggleButtonView",
            "button_style": "",
            "description": "",
            "description_tooltip": null,
            "disabled": false,
            "icon": "server",
            "layout": "IPY_MODEL_a23f9339e35949e0a24d6b4e2d9d61c9",
            "style": "IPY_MODEL_1cd7e8af37ae498e845e7cb2590a9d0d",
            "tooltip": "Layer Manager",
            "value": true
          }
        },
        "f8a071aa21e44e0489a4a029a2c80b7c": {
          "model_module": "@jupyter-widgets/base",
          "model_name": "LayoutModel",
          "model_module_version": "1.2.0",
          "state": {
            "_model_module": "@jupyter-widgets/base",
            "_model_module_version": "1.2.0",
            "_model_name": "LayoutModel",
            "_view_count": null,
            "_view_module": "@jupyter-widgets/base",
            "_view_module_version": "1.2.0",
            "_view_name": "LayoutView",
            "align_content": null,
            "align_items": null,
            "align_self": null,
            "border": null,
            "bottom": null,
            "display": "none",
            "flex": null,
            "flex_flow": null,
            "grid_area": null,
            "grid_auto_columns": null,
            "grid_auto_flow": null,
            "grid_auto_rows": null,
            "grid_column": null,
            "grid_gap": null,
            "grid_row": null,
            "grid_template_areas": null,
            "grid_template_columns": null,
            "grid_template_rows": null,
            "height": null,
            "justify_content": null,
            "justify_items": null,
            "left": null,
            "margin": null,
            "max_height": null,
            "max_width": null,
            "min_height": null,
            "min_width": null,
            "object_fit": null,
            "object_position": null,
            "order": null,
            "overflow": null,
            "overflow_x": null,
            "overflow_y": null,
            "padding": null,
            "right": null,
            "top": null,
            "visibility": null,
            "width": null
          }
        },
        "3b38e7cc109043979e36cbab3619bc21": {
          "model_module": "@jupyter-widgets/controls",
          "model_name": "CheckboxModel",
          "model_module_version": "1.5.0",
          "state": {
            "_dom_classes": [],
            "_model_module": "@jupyter-widgets/controls",
            "_model_module_version": "1.5.0",
            "_model_name": "CheckboxModel",
            "_view_count": null,
            "_view_module": "@jupyter-widgets/controls",
            "_view_module_version": "1.5.0",
            "_view_name": "CheckboxView",
            "description": "All layers on/off",
            "description_tooltip": null,
            "disabled": false,
            "indent": false,
            "layout": "IPY_MODEL_2adab8d0ec6a4a2c992522f2df2a0dbc",
            "style": "IPY_MODEL_896a323644f3465783edc17e9c81a2de",
            "value": false
          }
        },
        "451d689d1f8147adbbd86898731d9d13": {
          "model_module": "@jupyter-widgets/controls",
          "model_name": "HBoxModel",
          "model_module_version": "1.5.0",
          "state": {
            "_dom_classes": [],
            "_model_module": "@jupyter-widgets/controls",
            "_model_module_version": "1.5.0",
            "_model_name": "HBoxModel",
            "_view_count": null,
            "_view_module": "@jupyter-widgets/controls",
            "_view_module_version": "1.5.0",
            "_view_name": "HBoxView",
            "box_style": "",
            "children": [
              "IPY_MODEL_04c339783d824654bf0d02cb147f28c4",
              "IPY_MODEL_fbc5446a4f99482994cf1d7ac0f0c557",
              "IPY_MODEL_e4ccac0de45f4ddc8fae611282dcc586",
              "IPY_MODEL_b6b9ee5c23ea4dab92cc571a365a9190"
            ],
            "layout": "IPY_MODEL_3017dc6b80224f02a32fb38295986c0f"
          }
        },
        "8ea3b51fcb4343e884a62923b536bc16": {
          "model_module": "@jupyter-widgets/controls",
          "model_name": "HBoxModel",
          "model_module_version": "1.5.0",
          "state": {
            "_dom_classes": [],
            "_model_module": "@jupyter-widgets/controls",
            "_model_module_version": "1.5.0",
            "_model_name": "HBoxModel",
            "_view_count": null,
            "_view_module": "@jupyter-widgets/controls",
            "_view_module_version": "1.5.0",
            "_view_name": "HBoxView",
            "box_style": "",
            "children": [
              "IPY_MODEL_773cd8b9d0a84f72a6e99685a25f2413",
              "IPY_MODEL_72e49d6960764440a275ecade3de75eb",
              "IPY_MODEL_c497f3e8752a4e24be765bb10b449a79",
              "IPY_MODEL_f5b32fab8e1946a4b9ffe4cb9ba7815c"
            ],
            "layout": "IPY_MODEL_74299ea8f9744da48d7d130b497aae39"
          }
        },
        "b67e165b8cbc420baf9a1b8abe254c18": {
          "model_module": "@jupyter-widgets/base",
          "model_name": "LayoutModel",
          "model_module_version": "1.2.0",
          "state": {
            "_model_module": "@jupyter-widgets/base",
            "_model_module_version": "1.2.0",
            "_model_name": "LayoutModel",
            "_view_count": null,
            "_view_module": "@jupyter-widgets/base",
            "_view_module_version": "1.2.0",
            "_view_name": "LayoutView",
            "align_content": null,
            "align_items": null,
            "align_self": null,
            "border": null,
            "bottom": null,
            "display": null,
            "flex": null,
            "flex_flow": null,
            "grid_area": null,
            "grid_auto_columns": null,
            "grid_auto_flow": null,
            "grid_auto_rows": null,
            "grid_column": null,
            "grid_gap": null,
            "grid_row": null,
            "grid_template_areas": null,
            "grid_template_columns": null,
            "grid_template_rows": null,
            "height": null,
            "justify_content": null,
            "justify_items": null,
            "left": null,
            "margin": null,
            "max_height": null,
            "max_width": null,
            "min_height": null,
            "min_width": null,
            "object_fit": null,
            "object_position": null,
            "order": null,
            "overflow": null,
            "overflow_x": null,
            "overflow_y": null,
            "padding": null,
            "right": null,
            "top": null,
            "visibility": null,
            "width": null
          }
        },
        "b4c800f65fa946f19ff14b58de78e679": {
          "model_module": "@jupyter-widgets/base",
          "model_name": "LayoutModel",
          "model_module_version": "1.2.0",
          "state": {
            "_model_module": "@jupyter-widgets/base",
            "_model_module_version": "1.2.0",
            "_model_name": "LayoutModel",
            "_view_count": null,
            "_view_module": "@jupyter-widgets/base",
            "_view_module_version": "1.2.0",
            "_view_name": "LayoutView",
            "align_content": null,
            "align_items": null,
            "align_self": null,
            "border": null,
            "bottom": null,
            "display": null,
            "flex": null,
            "flex_flow": null,
            "grid_area": null,
            "grid_auto_columns": null,
            "grid_auto_flow": null,
            "grid_auto_rows": null,
            "grid_column": null,
            "grid_gap": null,
            "grid_row": null,
            "grid_template_areas": null,
            "grid_template_columns": null,
            "grid_template_rows": null,
            "height": "28px",
            "justify_content": null,
            "justify_items": null,
            "left": null,
            "margin": null,
            "max_height": null,
            "max_width": null,
            "min_height": null,
            "min_width": null,
            "object_fit": null,
            "object_position": null,
            "order": null,
            "overflow": null,
            "overflow_x": null,
            "overflow_y": null,
            "padding": "0px",
            "right": null,
            "top": null,
            "visibility": null,
            "width": "28px"
          }
        },
        "8e02d63a72fe41e4bd29eee42dbe0c99": {
          "model_module": "@jupyter-widgets/controls",
          "model_name": "ButtonStyleModel",
          "model_module_version": "1.5.0",
          "state": {
            "_model_module": "@jupyter-widgets/controls",
            "_model_module_version": "1.5.0",
            "_model_name": "ButtonStyleModel",
            "_view_count": null,
            "_view_module": "@jupyter-widgets/base",
            "_view_module_version": "1.2.0",
            "_view_name": "StyleView",
            "button_color": null,
            "font_weight": ""
          }
        },
        "a23f9339e35949e0a24d6b4e2d9d61c9": {
          "model_module": "@jupyter-widgets/base",
          "model_name": "LayoutModel",
          "model_module_version": "1.2.0",
          "state": {
            "_model_module": "@jupyter-widgets/base",
            "_model_module_version": "1.2.0",
            "_model_name": "LayoutModel",
            "_view_count": null,
            "_view_module": "@jupyter-widgets/base",
            "_view_module_version": "1.2.0",
            "_view_name": "LayoutView",
            "align_content": null,
            "align_items": null,
            "align_self": null,
            "border": null,
            "bottom": null,
            "display": null,
            "flex": null,
            "flex_flow": null,
            "grid_area": null,
            "grid_auto_columns": null,
            "grid_auto_flow": null,
            "grid_auto_rows": null,
            "grid_column": null,
            "grid_gap": null,
            "grid_row": null,
            "grid_template_areas": null,
            "grid_template_columns": null,
            "grid_template_rows": null,
            "height": "28px",
            "justify_content": null,
            "justify_items": null,
            "left": null,
            "margin": null,
            "max_height": null,
            "max_width": null,
            "min_height": null,
            "min_width": null,
            "object_fit": null,
            "object_position": null,
            "order": null,
            "overflow": null,
            "overflow_x": null,
            "overflow_y": null,
            "padding": "0px 0px 0px 4px",
            "right": null,
            "top": null,
            "visibility": null,
            "width": "28px"
          }
        },
        "1cd7e8af37ae498e845e7cb2590a9d0d": {
          "model_module": "@jupyter-widgets/controls",
          "model_name": "DescriptionStyleModel",
          "model_module_version": "1.5.0",
          "state": {
            "_model_module": "@jupyter-widgets/controls",
            "_model_module_version": "1.5.0",
            "_model_name": "DescriptionStyleModel",
            "_view_count": null,
            "_view_module": "@jupyter-widgets/base",
            "_view_module_version": "1.2.0",
            "_view_name": "StyleView",
            "description_width": ""
          }
        },
        "2adab8d0ec6a4a2c992522f2df2a0dbc": {
          "model_module": "@jupyter-widgets/base",
          "model_name": "LayoutModel",
          "model_module_version": "1.2.0",
          "state": {
            "_model_module": "@jupyter-widgets/base",
            "_model_module_version": "1.2.0",
            "_model_name": "LayoutModel",
            "_view_count": null,
            "_view_module": "@jupyter-widgets/base",
            "_view_module_version": "1.2.0",
            "_view_name": "LayoutView",
            "align_content": null,
            "align_items": null,
            "align_self": null,
            "border": null,
            "bottom": null,
            "display": null,
            "flex": null,
            "flex_flow": null,
            "grid_area": null,
            "grid_auto_columns": null,
            "grid_auto_flow": null,
            "grid_auto_rows": null,
            "grid_column": null,
            "grid_gap": null,
            "grid_row": null,
            "grid_template_areas": null,
            "grid_template_columns": null,
            "grid_template_rows": null,
            "height": "18px",
            "justify_content": null,
            "justify_items": null,
            "left": null,
            "margin": null,
            "max_height": null,
            "max_width": null,
            "min_height": null,
            "min_width": null,
            "object_fit": null,
            "object_position": null,
            "order": null,
            "overflow": null,
            "overflow_x": null,
            "overflow_y": null,
            "padding": "0px 4px 25px 4px",
            "right": null,
            "top": null,
            "visibility": null,
            "width": "30ex"
          }
        },
        "896a323644f3465783edc17e9c81a2de": {
          "model_module": "@jupyter-widgets/controls",
          "model_name": "DescriptionStyleModel",
          "model_module_version": "1.5.0",
          "state": {
            "_model_module": "@jupyter-widgets/controls",
            "_model_module_version": "1.5.0",
            "_model_name": "DescriptionStyleModel",
            "_view_count": null,
            "_view_module": "@jupyter-widgets/base",
            "_view_module_version": "1.2.0",
            "_view_name": "StyleView",
            "description_width": ""
          }
        },
        "04c339783d824654bf0d02cb147f28c4": {
          "model_module": "@jupyter-widgets/controls",
          "model_name": "CheckboxModel",
          "model_module_version": "1.5.0",
          "state": {
            "_dom_classes": [],
            "_model_module": "@jupyter-widgets/controls",
            "_model_module_version": "1.5.0",
            "_model_name": "CheckboxModel",
            "_view_count": null,
            "_view_module": "@jupyter-widgets/controls",
            "_view_module_version": "1.5.0",
            "_view_name": "CheckboxView",
            "description": "OpenStreetMap.Mapnik",
            "description_tooltip": null,
            "disabled": false,
            "indent": false,
            "layout": "IPY_MODEL_20953dd81e6d412296b2c6e4cad7d421",
            "style": "IPY_MODEL_5ba1c328c5db4665b7263b234479ae1e",
            "value": true
          }
        },
        "fbc5446a4f99482994cf1d7ac0f0c557": {
          "model_module": "@jupyter-widgets/controls",
          "model_name": "FloatSliderModel",
          "model_module_version": "1.5.0",
          "state": {
            "_dom_classes": [],
            "_model_module": "@jupyter-widgets/controls",
            "_model_module_version": "1.5.0",
            "_model_name": "FloatSliderModel",
            "_view_count": null,
            "_view_module": "@jupyter-widgets/controls",
            "_view_module_version": "1.5.0",
            "_view_name": "FloatSliderView",
            "continuous_update": true,
            "description": "",
            "description_tooltip": null,
            "disabled": false,
            "layout": "IPY_MODEL_71be9bd220164e7491e69c20420d708f",
            "max": 1,
            "min": 0,
            "orientation": "horizontal",
            "readout": false,
            "readout_format": ".2f",
            "step": 0.01,
            "style": "IPY_MODEL_1ba27cb439904fedacb36011a29ced07",
            "value": 1
          }
        },
        "e4ccac0de45f4ddc8fae611282dcc586": {
          "model_module": "@jupyter-widgets/controls",
          "model_name": "ButtonModel",
          "model_module_version": "1.5.0",
          "state": {
            "_dom_classes": [],
            "_model_module": "@jupyter-widgets/controls",
            "_model_module_version": "1.5.0",
            "_model_name": "ButtonModel",
            "_view_count": null,
            "_view_module": "@jupyter-widgets/controls",
            "_view_module_version": "1.5.0",
            "_view_name": "ButtonView",
            "button_style": "",
            "description": "",
            "disabled": false,
            "icon": "gear",
            "layout": "IPY_MODEL_6e14cd92a5e047ec94576466e1708d36",
            "style": "IPY_MODEL_e136b2b3c2d14355ad4a3839b392a473",
            "tooltip": "OpenStreetMap.Mapnik"
          }
        },
        "b6b9ee5c23ea4dab92cc571a365a9190": {
          "model_module": "@jupyter-widgets/controls",
          "model_name": "ButtonModel",
          "model_module_version": "1.5.0",
          "state": {
            "_dom_classes": [],
            "_model_module": "@jupyter-widgets/controls",
            "_model_module_version": "1.5.0",
            "_model_name": "ButtonModel",
            "_view_count": null,
            "_view_module": "@jupyter-widgets/controls",
            "_view_module_version": "1.5.0",
            "_view_name": "ButtonView",
            "button_style": "",
            "description": "",
            "disabled": false,
            "icon": "times",
            "layout": "IPY_MODEL_4285098c275f41cc83044eddffcdc883",
            "style": "IPY_MODEL_5a87a1ae71644fe29ce9bd9d92d68831",
            "tooltip": "Loaded"
          }
        },
        "3017dc6b80224f02a32fb38295986c0f": {
          "model_module": "@jupyter-widgets/base",
          "model_name": "LayoutModel",
          "model_module_version": "1.2.0",
          "state": {
            "_model_module": "@jupyter-widgets/base",
            "_model_module_version": "1.2.0",
            "_model_name": "LayoutModel",
            "_view_count": null,
            "_view_module": "@jupyter-widgets/base",
            "_view_module_version": "1.2.0",
            "_view_name": "LayoutView",
            "align_content": null,
            "align_items": null,
            "align_self": null,
            "border": null,
            "bottom": null,
            "display": null,
            "flex": null,
            "flex_flow": null,
            "grid_area": null,
            "grid_auto_columns": null,
            "grid_auto_flow": null,
            "grid_auto_rows": null,
            "grid_column": null,
            "grid_gap": null,
            "grid_row": null,
            "grid_template_areas": null,
            "grid_template_columns": null,
            "grid_template_rows": null,
            "height": null,
            "justify_content": null,
            "justify_items": null,
            "left": null,
            "margin": null,
            "max_height": null,
            "max_width": null,
            "min_height": null,
            "min_width": null,
            "object_fit": null,
            "object_position": null,
            "order": null,
            "overflow": null,
            "overflow_x": null,
            "overflow_y": null,
            "padding": "0px 4px 0px 4px",
            "right": null,
            "top": null,
            "visibility": null,
            "width": null
          }
        },
        "773cd8b9d0a84f72a6e99685a25f2413": {
          "model_module": "@jupyter-widgets/controls",
          "model_name": "CheckboxModel",
          "model_module_version": "1.5.0",
          "state": {
            "_dom_classes": [],
            "_model_module": "@jupyter-widgets/controls",
            "_model_module_version": "1.5.0",
            "_model_name": "CheckboxModel",
            "_view_count": null,
            "_view_module": "@jupyter-widgets/controls",
            "_view_module_version": "1.5.0",
            "_view_name": "CheckboxView",
            "description": "Landslide Points",
            "description_tooltip": null,
            "disabled": false,
            "indent": false,
            "layout": "IPY_MODEL_b961fcbd3fd540a4a41465718c13c832",
            "style": "IPY_MODEL_bdfaa26cdb3647d2b916be41736ed5cb",
            "value": true
          }
        },
        "72e49d6960764440a275ecade3de75eb": {
          "model_module": "@jupyter-widgets/controls",
          "model_name": "FloatSliderModel",
          "model_module_version": "1.5.0",
          "state": {
            "_dom_classes": [],
            "_model_module": "@jupyter-widgets/controls",
            "_model_module_version": "1.5.0",
            "_model_name": "FloatSliderModel",
            "_view_count": null,
            "_view_module": "@jupyter-widgets/controls",
            "_view_module_version": "1.5.0",
            "_view_name": "FloatSliderView",
            "continuous_update": true,
            "description": "",
            "description_tooltip": null,
            "disabled": false,
            "layout": "IPY_MODEL_3737fd87cad5412ea0750c09dd4c3bfe",
            "max": 1,
            "min": 0,
            "orientation": "horizontal",
            "readout": false,
            "readout_format": ".2f",
            "step": 0.01,
            "style": "IPY_MODEL_fbaef5ca2aa94e14af167f05917f5a58",
            "value": 1
          }
        },
        "c497f3e8752a4e24be765bb10b449a79": {
          "model_module": "@jupyter-widgets/controls",
          "model_name": "ButtonModel",
          "model_module_version": "1.5.0",
          "state": {
            "_dom_classes": [],
            "_model_module": "@jupyter-widgets/controls",
            "_model_module_version": "1.5.0",
            "_model_name": "ButtonModel",
            "_view_count": null,
            "_view_module": "@jupyter-widgets/controls",
            "_view_module_version": "1.5.0",
            "_view_name": "ButtonView",
            "button_style": "",
            "description": "",
            "disabled": false,
            "icon": "gear",
            "layout": "IPY_MODEL_8abf535dd56546d488a01c4e7b3ac5fb",
            "style": "IPY_MODEL_1a46cd15d4e1476594bc92f3c0bc6e3d",
            "tooltip": "Landslide Points"
          }
        },
        "f5b32fab8e1946a4b9ffe4cb9ba7815c": {
          "model_module": "@jupyter-widgets/controls",
          "model_name": "ButtonModel",
          "model_module_version": "1.5.0",
          "state": {
            "_dom_classes": [],
            "_model_module": "@jupyter-widgets/controls",
            "_model_module_version": "1.5.0",
            "_model_name": "ButtonModel",
            "_view_count": null,
            "_view_module": "@jupyter-widgets/controls",
            "_view_module_version": "1.5.0",
            "_view_name": "ButtonView",
            "button_style": "",
            "description": "",
            "disabled": false,
            "icon": "times",
            "layout": "IPY_MODEL_54d8843147384a75abb5ef7293f8fa8e",
            "style": "IPY_MODEL_02692b74f76a49ab80f5021dfbb98c5c",
            "tooltip": "Loaded"
          }
        },
        "74299ea8f9744da48d7d130b497aae39": {
          "model_module": "@jupyter-widgets/base",
          "model_name": "LayoutModel",
          "model_module_version": "1.2.0",
          "state": {
            "_model_module": "@jupyter-widgets/base",
            "_model_module_version": "1.2.0",
            "_model_name": "LayoutModel",
            "_view_count": null,
            "_view_module": "@jupyter-widgets/base",
            "_view_module_version": "1.2.0",
            "_view_name": "LayoutView",
            "align_content": null,
            "align_items": null,
            "align_self": null,
            "border": null,
            "bottom": null,
            "display": null,
            "flex": null,
            "flex_flow": null,
            "grid_area": null,
            "grid_auto_columns": null,
            "grid_auto_flow": null,
            "grid_auto_rows": null,
            "grid_column": null,
            "grid_gap": null,
            "grid_row": null,
            "grid_template_areas": null,
            "grid_template_columns": null,
            "grid_template_rows": null,
            "height": null,
            "justify_content": null,
            "justify_items": null,
            "left": null,
            "margin": null,
            "max_height": null,
            "max_width": null,
            "min_height": null,
            "min_width": null,
            "object_fit": null,
            "object_position": null,
            "order": null,
            "overflow": null,
            "overflow_x": null,
            "overflow_y": null,
            "padding": "0px 4px 0px 4px",
            "right": null,
            "top": null,
            "visibility": null,
            "width": null
          }
        },
        "20953dd81e6d412296b2c6e4cad7d421": {
          "model_module": "@jupyter-widgets/base",
          "model_name": "LayoutModel",
          "model_module_version": "1.2.0",
          "state": {
            "_model_module": "@jupyter-widgets/base",
            "_model_module_version": "1.2.0",
            "_model_name": "LayoutModel",
            "_view_count": null,
            "_view_module": "@jupyter-widgets/base",
            "_view_module_version": "1.2.0",
            "_view_name": "LayoutView",
            "align_content": null,
            "align_items": null,
            "align_self": null,
            "border": null,
            "bottom": null,
            "display": null,
            "flex": null,
            "flex_flow": null,
            "grid_area": null,
            "grid_auto_columns": null,
            "grid_auto_flow": null,
            "grid_auto_rows": null,
            "grid_column": null,
            "grid_gap": null,
            "grid_row": null,
            "grid_template_areas": null,
            "grid_template_columns": null,
            "grid_template_rows": null,
            "height": "18px",
            "justify_content": null,
            "justify_items": null,
            "left": null,
            "margin": null,
            "max_height": null,
            "max_width": null,
            "min_height": null,
            "min_width": null,
            "object_fit": null,
            "object_position": null,
            "order": null,
            "overflow": null,
            "overflow_x": null,
            "overflow_y": null,
            "padding": null,
            "right": null,
            "top": null,
            "visibility": null,
            "width": "140px"
          }
        },
        "5ba1c328c5db4665b7263b234479ae1e": {
          "model_module": "@jupyter-widgets/controls",
          "model_name": "DescriptionStyleModel",
          "model_module_version": "1.5.0",
          "state": {
            "_model_module": "@jupyter-widgets/controls",
            "_model_module_version": "1.5.0",
            "_model_name": "DescriptionStyleModel",
            "_view_count": null,
            "_view_module": "@jupyter-widgets/base",
            "_view_module_version": "1.2.0",
            "_view_name": "StyleView",
            "description_width": ""
          }
        },
        "71be9bd220164e7491e69c20420d708f": {
          "model_module": "@jupyter-widgets/base",
          "model_name": "LayoutModel",
          "model_module_version": "1.2.0",
          "state": {
            "_model_module": "@jupyter-widgets/base",
            "_model_module_version": "1.2.0",
            "_model_name": "LayoutModel",
            "_view_count": null,
            "_view_module": "@jupyter-widgets/base",
            "_view_module_version": "1.2.0",
            "_view_name": "LayoutView",
            "align_content": null,
            "align_items": null,
            "align_self": null,
            "border": null,
            "bottom": null,
            "display": null,
            "flex": null,
            "flex_flow": null,
            "grid_area": null,
            "grid_auto_columns": null,
            "grid_auto_flow": null,
            "grid_auto_rows": null,
            "grid_column": null,
            "grid_gap": null,
            "grid_row": null,
            "grid_template_areas": null,
            "grid_template_columns": null,
            "grid_template_rows": null,
            "height": null,
            "justify_content": null,
            "justify_items": null,
            "left": null,
            "margin": null,
            "max_height": null,
            "max_width": null,
            "min_height": null,
            "min_width": null,
            "object_fit": null,
            "object_position": null,
            "order": null,
            "overflow": null,
            "overflow_x": null,
            "overflow_y": null,
            "padding": "0px 3px 0px 0px",
            "right": null,
            "top": null,
            "visibility": null,
            "width": "70px"
          }
        },
        "1ba27cb439904fedacb36011a29ced07": {
          "model_module": "@jupyter-widgets/controls",
          "model_name": "SliderStyleModel",
          "model_module_version": "1.5.0",
          "state": {
            "_model_module": "@jupyter-widgets/controls",
            "_model_module_version": "1.5.0",
            "_model_name": "SliderStyleModel",
            "_view_count": null,
            "_view_module": "@jupyter-widgets/base",
            "_view_module_version": "1.2.0",
            "_view_name": "StyleView",
            "description_width": "",
            "handle_color": null
          }
        },
        "6e14cd92a5e047ec94576466e1708d36": {
          "model_module": "@jupyter-widgets/base",
          "model_name": "LayoutModel",
          "model_module_version": "1.2.0",
          "state": {
            "_model_module": "@jupyter-widgets/base",
            "_model_module_version": "1.2.0",
            "_model_name": "LayoutModel",
            "_view_count": null,
            "_view_module": "@jupyter-widgets/base",
            "_view_module_version": "1.2.0",
            "_view_name": "LayoutView",
            "align_content": null,
            "align_items": null,
            "align_self": null,
            "border": null,
            "bottom": null,
            "display": null,
            "flex": null,
            "flex_flow": null,
            "grid_area": null,
            "grid_auto_columns": null,
            "grid_auto_flow": null,
            "grid_auto_rows": null,
            "grid_column": null,
            "grid_gap": null,
            "grid_row": null,
            "grid_template_areas": null,
            "grid_template_columns": null,
            "grid_template_rows": null,
            "height": "25px",
            "justify_content": null,
            "justify_items": null,
            "left": null,
            "margin": null,
            "max_height": null,
            "max_width": null,
            "min_height": null,
            "min_width": null,
            "object_fit": null,
            "object_position": null,
            "order": null,
            "overflow": null,
            "overflow_x": null,
            "overflow_y": null,
            "padding": "0px",
            "right": null,
            "top": null,
            "visibility": null,
            "width": "25px"
          }
        },
        "e136b2b3c2d14355ad4a3839b392a473": {
          "model_module": "@jupyter-widgets/controls",
          "model_name": "ButtonStyleModel",
          "model_module_version": "1.5.0",
          "state": {
            "_model_module": "@jupyter-widgets/controls",
            "_model_module_version": "1.5.0",
            "_model_name": "ButtonStyleModel",
            "_view_count": null,
            "_view_module": "@jupyter-widgets/base",
            "_view_module_version": "1.2.0",
            "_view_name": "StyleView",
            "button_color": null,
            "font_weight": ""
          }
        },
        "4285098c275f41cc83044eddffcdc883": {
          "model_module": "@jupyter-widgets/base",
          "model_name": "LayoutModel",
          "model_module_version": "1.2.0",
          "state": {
            "_model_module": "@jupyter-widgets/base",
            "_model_module_version": "1.2.0",
            "_model_name": "LayoutModel",
            "_view_count": null,
            "_view_module": "@jupyter-widgets/base",
            "_view_module_version": "1.2.0",
            "_view_name": "LayoutView",
            "align_content": null,
            "align_items": null,
            "align_self": null,
            "border": null,
            "bottom": null,
            "display": null,
            "flex": null,
            "flex_flow": null,
            "grid_area": null,
            "grid_auto_columns": null,
            "grid_auto_flow": null,
            "grid_auto_rows": null,
            "grid_column": null,
            "grid_gap": null,
            "grid_row": null,
            "grid_template_areas": null,
            "grid_template_columns": null,
            "grid_template_rows": null,
            "height": "25px",
            "justify_content": null,
            "justify_items": null,
            "left": null,
            "margin": null,
            "max_height": null,
            "max_width": null,
            "min_height": null,
            "min_width": null,
            "object_fit": null,
            "object_position": null,
            "order": null,
            "overflow": null,
            "overflow_x": null,
            "overflow_y": null,
            "padding": "0px",
            "right": null,
            "top": null,
            "visibility": null,
            "width": "25px"
          }
        },
        "5a87a1ae71644fe29ce9bd9d92d68831": {
          "model_module": "@jupyter-widgets/controls",
          "model_name": "ButtonStyleModel",
          "model_module_version": "1.5.0",
          "state": {
            "_model_module": "@jupyter-widgets/controls",
            "_model_module_version": "1.5.0",
            "_model_name": "ButtonStyleModel",
            "_view_count": null,
            "_view_module": "@jupyter-widgets/base",
            "_view_module_version": "1.2.0",
            "_view_name": "StyleView",
            "button_color": null,
            "font_weight": ""
          }
        },
        "b961fcbd3fd540a4a41465718c13c832": {
          "model_module": "@jupyter-widgets/base",
          "model_name": "LayoutModel",
          "model_module_version": "1.2.0",
          "state": {
            "_model_module": "@jupyter-widgets/base",
            "_model_module_version": "1.2.0",
            "_model_name": "LayoutModel",
            "_view_count": null,
            "_view_module": "@jupyter-widgets/base",
            "_view_module_version": "1.2.0",
            "_view_name": "LayoutView",
            "align_content": null,
            "align_items": null,
            "align_self": null,
            "border": null,
            "bottom": null,
            "display": null,
            "flex": null,
            "flex_flow": null,
            "grid_area": null,
            "grid_auto_columns": null,
            "grid_auto_flow": null,
            "grid_auto_rows": null,
            "grid_column": null,
            "grid_gap": null,
            "grid_row": null,
            "grid_template_areas": null,
            "grid_template_columns": null,
            "grid_template_rows": null,
            "height": "18px",
            "justify_content": null,
            "justify_items": null,
            "left": null,
            "margin": null,
            "max_height": null,
            "max_width": null,
            "min_height": null,
            "min_width": null,
            "object_fit": null,
            "object_position": null,
            "order": null,
            "overflow": null,
            "overflow_x": null,
            "overflow_y": null,
            "padding": null,
            "right": null,
            "top": null,
            "visibility": null,
            "width": "140px"
          }
        },
        "bdfaa26cdb3647d2b916be41736ed5cb": {
          "model_module": "@jupyter-widgets/controls",
          "model_name": "DescriptionStyleModel",
          "model_module_version": "1.5.0",
          "state": {
            "_model_module": "@jupyter-widgets/controls",
            "_model_module_version": "1.5.0",
            "_model_name": "DescriptionStyleModel",
            "_view_count": null,
            "_view_module": "@jupyter-widgets/base",
            "_view_module_version": "1.2.0",
            "_view_name": "StyleView",
            "description_width": ""
          }
        },
        "3737fd87cad5412ea0750c09dd4c3bfe": {
          "model_module": "@jupyter-widgets/base",
          "model_name": "LayoutModel",
          "model_module_version": "1.2.0",
          "state": {
            "_model_module": "@jupyter-widgets/base",
            "_model_module_version": "1.2.0",
            "_model_name": "LayoutModel",
            "_view_count": null,
            "_view_module": "@jupyter-widgets/base",
            "_view_module_version": "1.2.0",
            "_view_name": "LayoutView",
            "align_content": null,
            "align_items": null,
            "align_self": null,
            "border": null,
            "bottom": null,
            "display": null,
            "flex": null,
            "flex_flow": null,
            "grid_area": null,
            "grid_auto_columns": null,
            "grid_auto_flow": null,
            "grid_auto_rows": null,
            "grid_column": null,
            "grid_gap": null,
            "grid_row": null,
            "grid_template_areas": null,
            "grid_template_columns": null,
            "grid_template_rows": null,
            "height": null,
            "justify_content": null,
            "justify_items": null,
            "left": null,
            "margin": null,
            "max_height": null,
            "max_width": null,
            "min_height": null,
            "min_width": null,
            "object_fit": null,
            "object_position": null,
            "order": null,
            "overflow": null,
            "overflow_x": null,
            "overflow_y": null,
            "padding": "0px 3px 0px 0px",
            "right": null,
            "top": null,
            "visibility": null,
            "width": "70px"
          }
        },
        "fbaef5ca2aa94e14af167f05917f5a58": {
          "model_module": "@jupyter-widgets/controls",
          "model_name": "SliderStyleModel",
          "model_module_version": "1.5.0",
          "state": {
            "_model_module": "@jupyter-widgets/controls",
            "_model_module_version": "1.5.0",
            "_model_name": "SliderStyleModel",
            "_view_count": null,
            "_view_module": "@jupyter-widgets/base",
            "_view_module_version": "1.2.0",
            "_view_name": "StyleView",
            "description_width": "",
            "handle_color": null
          }
        },
        "8abf535dd56546d488a01c4e7b3ac5fb": {
          "model_module": "@jupyter-widgets/base",
          "model_name": "LayoutModel",
          "model_module_version": "1.2.0",
          "state": {
            "_model_module": "@jupyter-widgets/base",
            "_model_module_version": "1.2.0",
            "_model_name": "LayoutModel",
            "_view_count": null,
            "_view_module": "@jupyter-widgets/base",
            "_view_module_version": "1.2.0",
            "_view_name": "LayoutView",
            "align_content": null,
            "align_items": null,
            "align_self": null,
            "border": null,
            "bottom": null,
            "display": null,
            "flex": null,
            "flex_flow": null,
            "grid_area": null,
            "grid_auto_columns": null,
            "grid_auto_flow": null,
            "grid_auto_rows": null,
            "grid_column": null,
            "grid_gap": null,
            "grid_row": null,
            "grid_template_areas": null,
            "grid_template_columns": null,
            "grid_template_rows": null,
            "height": "25px",
            "justify_content": null,
            "justify_items": null,
            "left": null,
            "margin": null,
            "max_height": null,
            "max_width": null,
            "min_height": null,
            "min_width": null,
            "object_fit": null,
            "object_position": null,
            "order": null,
            "overflow": null,
            "overflow_x": null,
            "overflow_y": null,
            "padding": "0px",
            "right": null,
            "top": null,
            "visibility": null,
            "width": "25px"
          }
        },
        "1a46cd15d4e1476594bc92f3c0bc6e3d": {
          "model_module": "@jupyter-widgets/controls",
          "model_name": "ButtonStyleModel",
          "model_module_version": "1.5.0",
          "state": {
            "_model_module": "@jupyter-widgets/controls",
            "_model_module_version": "1.5.0",
            "_model_name": "ButtonStyleModel",
            "_view_count": null,
            "_view_module": "@jupyter-widgets/base",
            "_view_module_version": "1.2.0",
            "_view_name": "StyleView",
            "button_color": null,
            "font_weight": ""
          }
        },
        "54d8843147384a75abb5ef7293f8fa8e": {
          "model_module": "@jupyter-widgets/base",
          "model_name": "LayoutModel",
          "model_module_version": "1.2.0",
          "state": {
            "_model_module": "@jupyter-widgets/base",
            "_model_module_version": "1.2.0",
            "_model_name": "LayoutModel",
            "_view_count": null,
            "_view_module": "@jupyter-widgets/base",
            "_view_module_version": "1.2.0",
            "_view_name": "LayoutView",
            "align_content": null,
            "align_items": null,
            "align_self": null,
            "border": null,
            "bottom": null,
            "display": null,
            "flex": null,
            "flex_flow": null,
            "grid_area": null,
            "grid_auto_columns": null,
            "grid_auto_flow": null,
            "grid_auto_rows": null,
            "grid_column": null,
            "grid_gap": null,
            "grid_row": null,
            "grid_template_areas": null,
            "grid_template_columns": null,
            "grid_template_rows": null,
            "height": "25px",
            "justify_content": null,
            "justify_items": null,
            "left": null,
            "margin": null,
            "max_height": null,
            "max_width": null,
            "min_height": null,
            "min_width": null,
            "object_fit": null,
            "object_position": null,
            "order": null,
            "overflow": null,
            "overflow_x": null,
            "overflow_y": null,
            "padding": "0px",
            "right": null,
            "top": null,
            "visibility": null,
            "width": "25px"
          }
        },
        "02692b74f76a49ab80f5021dfbb98c5c": {
          "model_module": "@jupyter-widgets/controls",
          "model_name": "ButtonStyleModel",
          "model_module_version": "1.5.0",
          "state": {
            "_model_module": "@jupyter-widgets/controls",
            "_model_module_version": "1.5.0",
            "_model_name": "ButtonStyleModel",
            "_view_count": null,
            "_view_module": "@jupyter-widgets/base",
            "_view_module_version": "1.2.0",
            "_view_name": "StyleView",
            "button_color": null,
            "font_weight": ""
          }
        }
      }
    }
  },
  "cells": [
    {
      "cell_type": "markdown",
      "metadata": {
        "id": "view-in-github",
        "colab_type": "text"
      },
      "source": [
        "<a href=\"https://colab.research.google.com/github/clarakl/UoA-GEOG761/blob/main/Landslide_susceptibility_ensemble_model.ipynb\" target=\"_parent\"><img src=\"https://colab.research.google.com/assets/colab-badge.svg\" alt=\"Open In Colab\"/></a>"
      ]
    },
    {
      "cell_type": "markdown",
      "source": [
        "# Extract patches\n",
        "\n",
        "NO NEED TO RUN THIS IF YOU ALREADY HAVE THE DATASET"
      ],
      "metadata": {
        "id": "uhQn06w-xGEf"
      }
    },
    {
      "cell_type": "markdown",
      "source": [
        "-------\n",
        "\n",
        "\n",
        "How it works:\n",
        "\n",
        "- Sentinel-2 SR provides L2A reflectance at 10 m.\n",
        "\n",
        "- The .median() composite merges cloud-free pixels from 2019–2022.\n",
        "\n",
        "- Each point.buffer(464 m) yields a ~928 m window around the coordinate.\n",
        "\n",
        "- Patches are exported to Google Drive → “GEE_Landslide_Patches” folder."
      ],
      "metadata": {
        "id": "t-dLRZ83DV9e"
      }
    },
    {
      "cell_type": "code",
      "source": [
        "# Set up GEE API\n",
        "import ee\n",
        "ee.Authenticate()\n",
        "ee.Initialize(project='clara-geog761-tryout-1')"
      ],
      "metadata": {
        "id": "ZpGem5uixJNw"
      },
      "execution_count": null,
      "outputs": []
    },
    {
      "cell_type": "markdown",
      "source": [
        "Now, we will transform the numerical long-lat  into GEE points that are georeferenced. The cell after this visualizes these points."
      ],
      "metadata": {
        "id": "36revHaS9-l5"
      }
    },
    {
      "cell_type": "code",
      "source": [
        "import pandas as pd\n",
        "df = pd.read_csv(\"/content/drive/MyDrive/GEOG761 Machine Learning for Remote Sensing/Group project landslide susceptibility/landslides_with_variables_fixed1.csv\")"
      ],
      "metadata": {
        "id": "OppF2g-BxgQx"
      },
      "execution_count": null,
      "outputs": []
    },
    {
      "cell_type": "code",
      "source": [
        "# Convert to ee.FeatureCollection\n",
        "def row_to_feature(row):\n",
        "    geom = ee.Geometry.Point(float(row['Longitude']), float(row['Latitude']))\n",
        "    # Make sure 'Valid Landslide' is integer and has no nulls for filtering\n",
        "    label = row['Valid Landslide']\n",
        "    if pd.notna(label):\n",
        "        return ee.Feature(geom, {'id': int(row.name), 'label': int(label)})\n",
        "    else:\n",
        "      print(\"AAAAAAAAAAAAAA\")\n",
        "    return None\n",
        "\n",
        "features = [row_to_feature(r) for _, r in df.iterrows()]\n",
        "features = [f for f in features if f is not None] # Remove null features\n",
        "fc = ee.FeatureCollection(features)\n",
        "\n",
        "print(\"Feature collection created with\", fc.size().getInfo(), \"points.\")"
      ],
      "metadata": {
        "id": "ecqDSO6BV5iC",
        "colab": {
          "base_uri": "https://localhost:8080/"
        },
        "outputId": "9eb9e057-8ec6-4a67-9f04-a65279cf3d64"
      },
      "execution_count": null,
      "outputs": [
        {
          "output_type": "stream",
          "name": "stdout",
          "text": [
            "Feature collection created with 23852 points.\n"
          ]
        }
      ]
    },
    {
      "cell_type": "code",
      "source": [
        "import geemap\n",
        "\n",
        "# Create an interactive map\n",
        "Map = geemap.Map()\n",
        "\n",
        "# Define visualization parameters (e.g., color the points red)\n",
        "vis_params = {'color': 'red'}\n",
        "\n",
        "# Add the FeatureCollection to the map\n",
        "Map.addLayer(fc, vis_params, 'Landslide Points')\n",
        "\n",
        "# Center the map view on your points with a zoom level of 8\n",
        "Map.centerObject(fc, 8)\n",
        "\n",
        "# Display the map\n",
        "Map"
      ],
      "metadata": {
        "colab": {
          "base_uri": "https://localhost:8080/",
          "height": 621,
          "referenced_widgets": [
            "a4edeea81ec34640b37ce014e8d3db45",
            "2050dfed4af3474ebf577bd1e91e0071",
            "9456ab0fce7e41c2b4d5affa56aec921",
            "699237ed37ec44ff9bf590fd71cbde61",
            "684dd48ff0bc4e0988117e93394118e1",
            "35b45ba632624295ac7655a07b7a3ece",
            "6c0b063b0ca247a5afc447daacda0e45",
            "5fe304f41fa5493d971914204e4e2e60",
            "9835382320174f45acee17e556317d69",
            "27cdf47e83d54a2da09260b6303b2bbd",
            "89d26e8978e041ce990c578589356e8c",
            "e7693f12df1b4d97b836441fcdb9e5d4",
            "e3c12410b2e746bc921c32f358714db2",
            "9a2b7600286e4eb2bf70d470a7cba04c",
            "4c52d91ac00c4c359aa710e96e3adb70",
            "e0b28a38180947b2a40ada370dadfe7f",
            "6e41885bebfb4f99828f602d9def28e4",
            "72ca599cb0d24144b3f926fb4c19648b",
            "4024b0fe767d4f3a885f579ca6efbcdc",
            "4f5a5fe0288245118f5b95d5a9a5e026",
            "fb6cd15a1b2d472e966523918542a52b",
            "7276905c306d447b9fcd7ac592fac671",
            "c00a30a8f181480b99f854712826b355",
            "61741ddd5e964850942ad900a83e6137",
            "95eaef245bcb4389b470bde50adb6715",
            "0594b99f462d4a5ea5ca3dadeb705be4",
            "24e4856593554c79b487a3e6b2f4bbb7",
            "cabaf27185d4468aac55ff4e4c577f98",
            "46b5be1acb4442a186c2f18674724940",
            "cffca6dd79624f7586e41409faf5eeb2",
            "8390933b5de94b358022c9321aa65834",
            "8b6f88de231b4654b05edfdb130fad4f",
            "08da508d9f81432db80100284aa70458",
            "1d1bf13f2a0d421e94264a12bf929fe8",
            "35e33eb3b6a44209ac0666969eae3a45",
            "f258b91beea8430cb9e6b049dcc47f38",
            "a7248a0e035141d583d8c2f4d6ee3fb3",
            "06d5e1ac77714b18ae83d4bec1a05e5a",
            "f8a071aa21e44e0489a4a029a2c80b7c",
            "3b38e7cc109043979e36cbab3619bc21",
            "451d689d1f8147adbbd86898731d9d13",
            "8ea3b51fcb4343e884a62923b536bc16",
            "b67e165b8cbc420baf9a1b8abe254c18",
            "b4c800f65fa946f19ff14b58de78e679",
            "8e02d63a72fe41e4bd29eee42dbe0c99",
            "a23f9339e35949e0a24d6b4e2d9d61c9",
            "1cd7e8af37ae498e845e7cb2590a9d0d",
            "2adab8d0ec6a4a2c992522f2df2a0dbc",
            "896a323644f3465783edc17e9c81a2de",
            "04c339783d824654bf0d02cb147f28c4",
            "fbc5446a4f99482994cf1d7ac0f0c557",
            "e4ccac0de45f4ddc8fae611282dcc586",
            "b6b9ee5c23ea4dab92cc571a365a9190",
            "3017dc6b80224f02a32fb38295986c0f",
            "773cd8b9d0a84f72a6e99685a25f2413",
            "72e49d6960764440a275ecade3de75eb",
            "c497f3e8752a4e24be765bb10b449a79",
            "f5b32fab8e1946a4b9ffe4cb9ba7815c",
            "74299ea8f9744da48d7d130b497aae39",
            "20953dd81e6d412296b2c6e4cad7d421",
            "5ba1c328c5db4665b7263b234479ae1e",
            "71be9bd220164e7491e69c20420d708f",
            "1ba27cb439904fedacb36011a29ced07",
            "6e14cd92a5e047ec94576466e1708d36",
            "e136b2b3c2d14355ad4a3839b392a473",
            "4285098c275f41cc83044eddffcdc883",
            "5a87a1ae71644fe29ce9bd9d92d68831",
            "b961fcbd3fd540a4a41465718c13c832",
            "bdfaa26cdb3647d2b916be41736ed5cb",
            "3737fd87cad5412ea0750c09dd4c3bfe",
            "fbaef5ca2aa94e14af167f05917f5a58",
            "8abf535dd56546d488a01c4e7b3ac5fb",
            "1a46cd15d4e1476594bc92f3c0bc6e3d",
            "54d8843147384a75abb5ef7293f8fa8e",
            "02692b74f76a49ab80f5021dfbb98c5c"
          ]
        },
        "id": "E22ApzGJ-Ok6",
        "outputId": "8b2aa3a6-df20-43e9-918f-552b43dd8493"
      },
      "execution_count": null,
      "outputs": [
        {
          "output_type": "display_data",
          "data": {
            "text/plain": [
              "<IPython.core.display.HTML object>"
            ],
            "text/html": [
              "\n",
              "            <style>\n",
              "                .geemap-dark {\n",
              "                    --jp-widgets-color: white;\n",
              "                    --jp-widgets-label-color: white;\n",
              "                    --jp-ui-font-color1: white;\n",
              "                    --jp-layout-color2: #454545;\n",
              "                    background-color: #383838;\n",
              "                }\n",
              "\n",
              "                .geemap-dark .jupyter-button {\n",
              "                    --jp-layout-color3: #383838;\n",
              "                }\n",
              "\n",
              "                .geemap-colab {\n",
              "                    background-color: var(--colab-primary-surface-color, white);\n",
              "                }\n",
              "\n",
              "                .geemap-colab .jupyter-button {\n",
              "                    --jp-layout-color3: var(--colab-primary-surface-color, white);\n",
              "                }\n",
              "            </style>\n",
              "            "
            ]
          },
          "metadata": {}
        },
        {
          "output_type": "display_data",
          "data": {
            "text/plain": [
              "Map(center=[-36.68817951291026, 174.66389329965313], controls=(WidgetControl(options=['position', 'transparent…"
            ],
            "application/vnd.jupyter.widget-view+json": {
              "version_major": 2,
              "version_minor": 0,
              "model_id": "a4edeea81ec34640b37ce014e8d3db45"
            }
          },
          "metadata": {
            "application/vnd.jupyter.widget-view+json": {
              "colab": {
                "custom_widget_manager": {
                  "url": "https://ssl.gstatic.com/colaboratory-static/widgets/colab-cdn-widget-manager/2b70e893a8ba7c0f/manager.min.js"
                }
              }
            }
          }
        }
      ]
    },
    {
      "cell_type": "code",
      "source": [
        "# Sentinel-2 Level-2A (Surface Reflectance)\n",
        "collection = (ee.ImageCollection('COPERNICUS/S2_SR_HARMONIZED')\n",
        "              .filterDate('2022-01-01', '2022-12-31')\n",
        "              .filter(ee.Filter.lt('CLOUDY_PIXEL_PERCENTAGE', 10)))\n",
        "\n",
        "median_image = collection.median().select(['B2','B3','B4','B8','B11','B12'])  # Blue, Green, Red, NIR\n",
        "\n",
        "median_image = median_image.unmask(0)"
      ],
      "metadata": {
        "id": "WBpbnCzyxWcv"
      },
      "execution_count": null,
      "outputs": []
    },
    {
      "cell_type": "markdown",
      "source": [
        "Calculate area needed by taking the mean maximum area from all of the landslides"
      ],
      "metadata": {
        "id": "_LY8E4keIwf_"
      }
    },
    {
      "cell_type": "code",
      "source": [
        "import numpy as np\n",
        "\n",
        "# Define patch size\n",
        "df['Area Maximum'] = pd.to_numeric(df['Area Maximum'], errors='coerce')\n",
        "patch_size_m = np.sqrt(df['Area Maximum'].mean(skipna=True) * 10_000)\n",
        "half_width = patch_size_m / 2\n",
        "print(f\"Suggested patch width: {patch_size_m:.0f} meters\")"
      ],
      "metadata": {
        "id": "XN5U5fmv3rTk",
        "colab": {
          "base_uri": "https://localhost:8080/"
        },
        "outputId": "c7e61cad-7a97-4ac7-b096-2ed3395cce37"
      },
      "execution_count": null,
      "outputs": [
        {
          "output_type": "stream",
          "name": "stdout",
          "text": [
            "Suggested patch width: 928 meters\n"
          ]
        }
      ]
    },
    {
      "cell_type": "code",
      "source": [
        "# Define the number of samples to take from each class\n",
        "sample_size = 1250\n",
        "\n",
        "# Filter the collection for each class\n",
        "positives = fc.filter(ee.Filter.eq('label', 1)).limit(sample_size)\n",
        "negatives = fc.filter(ee.Filter.eq('label', 0)).limit(sample_size)\n",
        "\n",
        "# Merge the two limited collections into one\n",
        "fc_limited = positives.merge(negatives)\n",
        "\n",
        "# Shuffle the collection to mix the positive and negative samples\n",
        "fc_limited = fc_limited.randomColumn()\n",
        "fc_limited = fc_limited.sort('random')\n",
        "print(f\"Limited feature collection to {fc_limited.size().getInfo()} points.\")\n",
        "\n",
        "def create_and_tag_patch(feature):\n",
        "    \"\"\"Extracts a patch and sets its ID and label as properties.\"\"\"\n",
        "\n",
        "    # DEFINE THE APPROXIMATE AREA (in meters)\n",
        "    patch_geometry = feature.geometry().buffer(half_width).bounds()\n",
        "\n",
        "    # Store that area as metadata\n",
        "    return median_image.set({\n",
        "        'id': feature.get('id'),\n",
        "        'label': feature.get('label'),\n",
        "        'patch_geometry': patch_geometry\n",
        "    })\n",
        "\n",
        "tagged_image_patches = fc_limited.map(create_and_tag_patch)\n",
        "\n",
        "print(f\"Created a collection of {tagged_image_patches.size().getInfo()} tagged patches.\")"
      ],
      "metadata": {
        "id": "exfKjFNlxx3h",
        "colab": {
          "base_uri": "https://localhost:8080/"
        },
        "outputId": "4c00c261-cbd1-4636-c6c1-81e5f2a047c0"
      },
      "execution_count": null,
      "outputs": [
        {
          "output_type": "stream",
          "name": "stdout",
          "text": [
            "Limited feature collection to 2500 points.\n",
            "Created a collection of 2500 tagged patches.\n"
          ]
        }
      ]
    },
    {
      "cell_type": "code",
      "source": [
        "# Making sure that the patches have their labels\n",
        "\n",
        "print(\"Labels of first 5 patches:\", tagged_image_patches.limit(5).aggregate_array('label').getInfo())\n",
        "print(\"Nr of negative and positive samples:\", tagged_image_patches.aggregate_histogram('label').getInfo())"
      ],
      "metadata": {
        "id": "lsi5AjPd2Ynr",
        "colab": {
          "base_uri": "https://localhost:8080/"
        },
        "outputId": "e0f2688e-aae2-435d-9e6c-09bc346a2afa"
      },
      "execution_count": null,
      "outputs": [
        {
          "output_type": "stream",
          "name": "stdout",
          "text": [
            "Labels of first 5 patches: [1, 0, 1, 1, 1]\n",
            "Nr of negative and positive samples: {'0': 1250, '1': 1250}\n"
          ]
        }
      ]
    },
    {
      "cell_type": "markdown",
      "source": [
        "Now we will create these patches in GEE.\n"
      ],
      "metadata": {
        "id": "ntSAW7rDBnjg"
      }
    },
    {
      "cell_type": "code",
      "source": [
        "# GET THE SIZE (from the ImageCollection)\n",
        "num_patches = tagged_image_patches.size().getInfo()\n",
        "\n",
        "# BATCH-FETCH METADATA (from the ImageCollection)\n",
        "print(f\"Fetching metadata for {num_patches} patches...\")\n",
        "\n",
        "# Aggregate directly from the ImageCollection\n",
        "all_ids_client = tagged_image_patches.aggregate_array('id').getInfo()\n",
        "all_labels_client = tagged_image_patches.aggregate_array('label').getInfo()\n",
        "all_geoms_client = tagged_image_patches.aggregate_array('patch_geometry').getInfo()\n",
        "\n",
        "print(\"...Metadata fetched. Starting high-speed task submission.\")"
      ],
      "metadata": {
        "id": "E1PM-PlDQ_Is",
        "colab": {
          "base_uri": "https://localhost:8080/"
        },
        "outputId": "fcb64e9e-fb33-4240-f844-1c598203546c"
      },
      "execution_count": null,
      "outputs": [
        {
          "output_type": "stream",
          "name": "stdout",
          "text": [
            "Fetching metadata for 2500 patches...\n",
            "...Metadata fetched. Starting high-speed task submission.\n"
          ]
        }
      ]
    },
    {
      "cell_type": "code",
      "source": [
        "for i in range(num_patches):\n",
        "\n",
        "    # Get metadata from your local Python lists\n",
        "    patch_id = all_ids_client[i]\n",
        "    patch_label = all_labels_client[i]\n",
        "    patch_geom = all_geoms_client[i]\n",
        "\n",
        "\n",
        "    # Assuming the geometry is a Polygon\n",
        "    clean_geom = ee.Geometry.Polygon(patch_geom['coordinates'])\n",
        "\n",
        "    # Create the filename\n",
        "    filename = f\"patch_id_{patch_id}_label_{patch_label}\"\n",
        "\n",
        "    # Define the export task\n",
        "    task = ee.batch.Export.image.toDrive(\n",
        "        image=median_image,\n",
        "        description=f'Export_Patch_id_{patch_id}_index_{i}',\n",
        "        folder='GEE_Landslide_Patches_2',\n",
        "        fileNamePrefix=filename,\n",
        "        region=clean_geom,\n",
        "        dimensions='100x100',\n",
        "        fileFormat='GeoTIFF'\n",
        "    )\n",
        "\n",
        "\n",
        "    if i%25 == 0:\n",
        "      print(f\"Exporting patch {i+1}/{num_patches}...\")\n",
        "\n",
        "    # Start the task\n",
        "    task.start()\n",
        "\n",
        "print(f\"All {num_patches} tasks have been submitted.\")\n",
        "print(\"Monitor their progress in the 'Tasks' tab of the GEE Code Editor.\")"
      ],
      "metadata": {
        "colab": {
          "base_uri": "https://localhost:8080/"
        },
        "id": "cAAY0akfRFGg",
        "outputId": "195b9285-e372-41a3-e814-5bf1593c1c3f"
      },
      "execution_count": null,
      "outputs": [
        {
          "output_type": "stream",
          "name": "stdout",
          "text": [
            "Exporting patch 1/2500...\n",
            "Exporting patch 26/2500...\n",
            "Exporting patch 51/2500...\n",
            "Exporting patch 76/2500...\n",
            "Exporting patch 101/2500...\n",
            "Exporting patch 126/2500...\n",
            "Exporting patch 151/2500...\n",
            "Exporting patch 176/2500...\n",
            "Exporting patch 201/2500...\n",
            "Exporting patch 226/2500...\n",
            "Exporting patch 251/2500...\n",
            "Exporting patch 276/2500...\n",
            "Exporting patch 301/2500...\n",
            "Exporting patch 326/2500...\n",
            "Exporting patch 351/2500...\n",
            "Exporting patch 376/2500...\n",
            "Exporting patch 401/2500...\n",
            "Exporting patch 426/2500...\n",
            "Exporting patch 451/2500...\n",
            "Exporting patch 476/2500...\n",
            "Exporting patch 501/2500...\n",
            "Exporting patch 526/2500...\n",
            "Exporting patch 551/2500...\n",
            "Exporting patch 576/2500...\n",
            "Exporting patch 601/2500...\n",
            "Exporting patch 626/2500...\n",
            "Exporting patch 651/2500...\n",
            "Exporting patch 676/2500...\n",
            "Exporting patch 701/2500...\n",
            "Exporting patch 726/2500...\n",
            "Exporting patch 751/2500...\n",
            "Exporting patch 776/2500...\n",
            "Exporting patch 801/2500...\n",
            "Exporting patch 826/2500...\n",
            "Exporting patch 851/2500...\n",
            "Exporting patch 876/2500...\n",
            "Exporting patch 901/2500...\n",
            "Exporting patch 926/2500...\n",
            "Exporting patch 951/2500...\n",
            "Exporting patch 976/2500...\n",
            "Exporting patch 1001/2500...\n",
            "Exporting patch 1026/2500...\n",
            "Exporting patch 1051/2500...\n",
            "Exporting patch 1076/2500...\n",
            "Exporting patch 1101/2500...\n",
            "Exporting patch 1126/2500...\n",
            "Exporting patch 1151/2500...\n",
            "Exporting patch 1176/2500...\n",
            "Exporting patch 1201/2500...\n",
            "Exporting patch 1226/2500...\n",
            "Exporting patch 1251/2500...\n",
            "Exporting patch 1276/2500...\n",
            "Exporting patch 1301/2500...\n",
            "Exporting patch 1326/2500...\n",
            "Exporting patch 1351/2500...\n",
            "Exporting patch 1376/2500...\n",
            "Exporting patch 1401/2500...\n",
            "Exporting patch 1426/2500...\n",
            "Exporting patch 1451/2500...\n",
            "Exporting patch 1476/2500...\n",
            "Exporting patch 1501/2500...\n",
            "Exporting patch 1526/2500...\n",
            "Exporting patch 1551/2500...\n",
            "Exporting patch 1576/2500...\n",
            "Exporting patch 1601/2500...\n",
            "Exporting patch 1626/2500...\n",
            "Exporting patch 1651/2500...\n",
            "Exporting patch 1676/2500...\n",
            "Exporting patch 1701/2500...\n",
            "Exporting patch 1726/2500...\n",
            "Exporting patch 1751/2500...\n",
            "Exporting patch 1776/2500...\n",
            "Exporting patch 1801/2500...\n",
            "Exporting patch 1826/2500...\n",
            "Exporting patch 1851/2500...\n",
            "Exporting patch 1876/2500...\n",
            "Exporting patch 1901/2500...\n",
            "Exporting patch 1926/2500...\n",
            "Exporting patch 1951/2500...\n",
            "Exporting patch 1976/2500...\n",
            "Exporting patch 2001/2500...\n",
            "Exporting patch 2026/2500...\n",
            "Exporting patch 2051/2500...\n",
            "Exporting patch 2076/2500...\n",
            "Exporting patch 2101/2500...\n",
            "Exporting patch 2126/2500...\n",
            "Exporting patch 2151/2500...\n",
            "Exporting patch 2176/2500...\n",
            "Exporting patch 2201/2500...\n",
            "Exporting patch 2226/2500...\n",
            "Exporting patch 2251/2500...\n",
            "Exporting patch 2276/2500...\n",
            "Exporting patch 2301/2500...\n",
            "Exporting patch 2326/2500...\n",
            "Exporting patch 2351/2500...\n",
            "Exporting patch 2376/2500...\n",
            "Exporting patch 2401/2500...\n",
            "Exporting patch 2426/2500...\n",
            "Exporting patch 2451/2500...\n",
            "Exporting patch 2476/2500...\n",
            "All 2500 tasks have been submitted.\n",
            "Monitor their progress in the 'Tasks' tab of the GEE Code Editor.\n"
          ]
        }
      ]
    },
    {
      "cell_type": "code",
      "source": [
        "# Visualizing one patch\n",
        "\n",
        "import rasterio\n",
        "from rasterio.plot import show\n",
        "import matplotlib.pyplot as plt\n",
        "import numpy as np\n",
        "\n",
        "filepath = '/content/drive/MyDrive/GEE_Landslide_Patches/patch_id_1171_label_1.tif'\n",
        "\n",
        "with rasterio.open(filepath) as src:\n",
        "    # Read the red, green, and blue bands into a 3D array\n",
        "    # Note: Sentinel-2 band numbers might be different, e.g., B4, B3, B2 are often bands 4, 3, 2.\n",
        "    # We'll assume the first three bands are the ones we want for simplicity here.\n",
        "    # You may need to adjust the numbers in read([1, 2, 3])\n",
        "    rgb = src.read([1, 2, 3])\n",
        "\n",
        "    # Function to normalize bands for display\n",
        "    def normalize(array):\n",
        "        array_min, array_max = array.min(), array.max()\n",
        "        return ((array - array_min) / (array_max - array_min))\n",
        "\n",
        "    # Normalize each band to the 0-1 range for proper RGB display\n",
        "    red_normalized = normalize(rgb[0])\n",
        "    green_normalized = normalize(rgb[1])\n",
        "    blue_normalized = normalize(rgb[2])\n",
        "\n",
        "    # Stack the bands back together\n",
        "    rgb_normalized = np.dstack((red_normalized, green_normalized, blue_normalized))\n",
        "\n",
        "    # Display the true-color image\n",
        "    plt.imshow(rgb_normalized)\n",
        "    plt.show()"
      ],
      "metadata": {
        "id": "Ym4rv8DT6566"
      },
      "execution_count": null,
      "outputs": []
    },
    {
      "cell_type": "markdown",
      "source": [
        "--------\n",
        "# The next two big portions is just me playing around and understanding what the fuck I have to do. For the actual ensemble model jump to \"Ensemble model: Random Forest - CNN\"\n",
        "\n",
        "### (I suggest collapsing the titles \"CNN\" and \"Now we try to give our brain a body\" in order not having to scroll too much)\n",
        "----"
      ],
      "metadata": {
        "id": "CtkGBgGFE7TB"
      }
    },
    {
      "cell_type": "markdown",
      "source": [
        "# CNN"
      ],
      "metadata": {
        "id": "wCDAwwdjFkWq"
      }
    },
    {
      "cell_type": "markdown",
      "source": [
        "## Step 1: Access data in google drive"
      ],
      "metadata": {
        "id": "Oa0nNbU3Fohk"
      }
    },
    {
      "cell_type": "code",
      "source": [
        "!pip install rasterio"
      ],
      "metadata": {
        "colab": {
          "base_uri": "https://localhost:8080/"
        },
        "id": "ykZTfXX-rYO1",
        "outputId": "27c5b641-4d77-4503-e957-e1792cebdd38"
      },
      "execution_count": null,
      "outputs": [
        {
          "output_type": "stream",
          "name": "stdout",
          "text": [
            "Collecting rasterio\n",
            "  Downloading rasterio-1.4.3-cp312-cp312-manylinux_2_17_x86_64.manylinux2014_x86_64.whl.metadata (9.1 kB)\n",
            "Collecting affine (from rasterio)\n",
            "  Downloading affine-2.4.0-py3-none-any.whl.metadata (4.0 kB)\n",
            "Requirement already satisfied: attrs in /usr/local/lib/python3.12/dist-packages (from rasterio) (25.4.0)\n",
            "Requirement already satisfied: certifi in /usr/local/lib/python3.12/dist-packages (from rasterio) (2025.10.5)\n",
            "Requirement already satisfied: click>=4.0 in /usr/local/lib/python3.12/dist-packages (from rasterio) (8.3.0)\n",
            "Collecting cligj>=0.5 (from rasterio)\n",
            "  Downloading cligj-0.7.2-py3-none-any.whl.metadata (5.0 kB)\n",
            "Requirement already satisfied: numpy>=1.24 in /usr/local/lib/python3.12/dist-packages (from rasterio) (2.0.2)\n",
            "Collecting click-plugins (from rasterio)\n",
            "  Downloading click_plugins-1.1.1.2-py2.py3-none-any.whl.metadata (6.5 kB)\n",
            "Requirement already satisfied: pyparsing in /usr/local/lib/python3.12/dist-packages (from rasterio) (3.2.5)\n",
            "Downloading rasterio-1.4.3-cp312-cp312-manylinux_2_17_x86_64.manylinux2014_x86_64.whl (22.3 MB)\n",
            "\u001b[2K   \u001b[90m━━━━━━━━━━━━━━━━━━━━━━━━━━━━━━━━━━━━━━━━\u001b[0m \u001b[32m22.3/22.3 MB\u001b[0m \u001b[31m59.6 MB/s\u001b[0m eta \u001b[36m0:00:00\u001b[0m\n",
            "\u001b[?25hDownloading cligj-0.7.2-py3-none-any.whl (7.1 kB)\n",
            "Downloading affine-2.4.0-py3-none-any.whl (15 kB)\n",
            "Downloading click_plugins-1.1.1.2-py2.py3-none-any.whl (11 kB)\n",
            "Installing collected packages: cligj, click-plugins, affine, rasterio\n",
            "Successfully installed affine-2.4.0 click-plugins-1.1.1.2 cligj-0.7.2 rasterio-1.4.3\n"
          ]
        }
      ]
    },
    {
      "cell_type": "code",
      "source": [
        "import os\n",
        "import glob\n",
        "import rasterio\n",
        "import numpy as np\n",
        "\n",
        "folder_path = '/content/drive/MyDrive/GEE_Landslide_Patches_2'\n",
        "\n",
        "file_pattern = os.path.join(folder_path, \"*.tif\")\n",
        "patch_files = glob.glob(file_pattern)\n",
        "\n",
        "print(f\"Found {len(patch_files)} patch files.\")\n",
        "if patch_files:\n",
        "    print(f\"Example file: {patch_files[0]}\")"
      ],
      "metadata": {
        "id": "wiwFZcH_FtDy",
        "colab": {
          "base_uri": "https://localhost:8080/"
        },
        "outputId": "744024e6-e43c-4f56-b491-4deafe735724"
      },
      "execution_count": 136,
      "outputs": [
        {
          "output_type": "stream",
          "name": "stdout",
          "text": [
            "Found 398 patch files.\n",
            "Example file: /content/drive/MyDrive/GEE_Landslide_Patches_2/patch_id_89_label_1.tif\n"
          ]
        }
      ]
    },
    {
      "cell_type": "markdown",
      "source": [
        "Now we'll create the training data by assigning the image data of each tiff file to our X and the label (which is found in the end of each patch's name, e.g., 'patch_id_123_label_1.tif') to our y."
      ],
      "metadata": {
        "id": "1iGC8LzDsEL3"
      }
    },
    {
      "cell_type": "code",
      "source": [
        "X_data = []  # features\n",
        "y_data = []  # targets\n",
        "skipped_count = 0\n",
        "\n",
        "with rasterio.open(patch_files[5]) as src:\n",
        "    target_shape = src.read().shape\n",
        "print(f\"All patches will be validated against this shape: {target_shape}\")\n",
        "\n",
        "for file_path in patch_files:\n",
        "  try:\n",
        "    # --- Read the image data ---\n",
        "    with rasterio.open(file_path) as src:\n",
        "        image_data = src.read()\n",
        "\n",
        "    # --- FIX 2: Check if this patch matches the target shape ---\n",
        "    if image_data.shape == target_shape:\n",
        "        X_data.append(image_data)\n",
        "\n",
        "        # --- Get the label (only if the data is added) ---\n",
        "        filename = os.path.basename(file_path)\n",
        "        label_str = filename.split('_label_')[1].split('.tif')[0]\n",
        "        y_data.append(int(label_str))\n",
        "    else:\n",
        "        # Skip this file as its shape is different\n",
        "        print(f\"Skipping {file_path}: Shape was {image_data.shape}, expected {target_shape}\")\n",
        "        skipped_count += 1\n",
        "\n",
        "  except Exception as e:\n",
        "    print(f\"Error reading {file_path}: {e}\")\n",
        "    skipped_count += 1\n",
        "\n",
        "# Convert the lists into NumPy arrays for machine learning\n",
        "X_train = np.array(X_data)\n",
        "y_train = np.array(y_data)\n",
        "\n",
        "print(f\"\\nSuccessfully loaded {len(X_train)} patches.\")\n",
        "print(f\"Skipped {skipped_count} patches due to shape mismatch or errors.\")\n",
        "print(f\"Loaded X_train data with shape: {X_train.shape}\")\n",
        "print(f\"Loaded y_train data with shape: {y_train.shape}\")"
      ],
      "metadata": {
        "colab": {
          "base_uri": "https://localhost:8080/"
        },
        "id": "QrF3jKpbr92-",
        "outputId": "72a8ed3d-715f-4d1d-9f6c-9ec537bf1de2"
      },
      "execution_count": 137,
      "outputs": [
        {
          "output_type": "stream",
          "name": "stdout",
          "text": [
            "All patches will be validated against this shape: (6, 100, 100)\n",
            "\n",
            "Successfully loaded 398 patches.\n",
            "Skipped 0 patches due to shape mismatch or errors.\n",
            "Loaded X_train data with shape: (398, 6, 100, 100)\n",
            "Loaded y_train data with shape: (398,)\n"
          ]
        }
      ]
    },
    {
      "cell_type": "code",
      "source": [
        "y_train"
      ],
      "metadata": {
        "colab": {
          "base_uri": "https://localhost:8080/"
        },
        "id": "N9rWV9QYxOBH",
        "outputId": "284b6ced-df8e-4485-df4d-4c989744d15a"
      },
      "execution_count": null,
      "outputs": [
        {
          "output_type": "execute_result",
          "data": {
            "text/plain": [
              "array([1, 0, 1, 0, 1, 0, 1, 1, 0, 1, 1, 0, 0, 0, 1, 1, 1, 1, 1, 1, 0, 0,\n",
              "       0, 1, 0, 1, 1, 1, 0, 0, 1, 0, 0, 0, 0])"
            ]
          },
          "metadata": {},
          "execution_count": 102
        }
      ]
    },
    {
      "cell_type": "code",
      "source": [
        "# Creating train and test data\n",
        "\n",
        "from sklearn.model_selection import train_test_split\n",
        "\n",
        "X_train, X_test, y_train, y_test = train_test_split(X_train, y_train, test_size=0.2, random_state=42, stratify=y_train)\n",
        "\n",
        "print(f\"X_train shape: {X_train.shape}\")\n",
        "print(f\"y_train shape: {y_train.shape}\")\n",
        "print(f\"X_test shape: {X_test.shape}\")\n",
        "print(f\"y_test shape: {y_test.shape}\")"
      ],
      "metadata": {
        "colab": {
          "base_uri": "https://localhost:8080/"
        },
        "id": "Y0wHeLkGxXA7",
        "outputId": "25bb330c-943d-4d52-b3f7-60b209a292a1"
      },
      "execution_count": 138,
      "outputs": [
        {
          "output_type": "stream",
          "name": "stdout",
          "text": [
            "X_train shape: (318, 6, 100, 100)\n",
            "y_train shape: (318,)\n",
            "X_test shape: (80, 6, 100, 100)\n",
            "y_test shape: (80,)\n"
          ]
        }
      ]
    },
    {
      "cell_type": "code",
      "source": [
        "# prepare the data for the CNN\n",
        "\n",
        "import numpy as np\n",
        "import tensorflow as tf\n",
        "from tensorflow import keras\n",
        "from tensorflow.keras import layers\n",
        "\n",
        "# Your data shape is (samples, bands, height, width), e.g., (2000, 6, 100, 100)\n",
        "# Keras's default format is (samples, height, width, bands)\n",
        "# We need to re-order the dimensions.\n",
        "\n",
        "print(f\"Original X_train shape: {X_train.shape}\")\n",
        "X_train_reshaped = np.transpose(X_train, (0, 2, 3, 1))\n",
        "X_test_reshaped = np.transpose(X_test, (0, 2, 3, 1))\n",
        "print(f\"Reshaped X_train shape: {X_train_reshaped.shape}\")\n",
        "\n",
        "# Normalize pixel values to be between 0 and 1\n",
        "# This is crucial for neural network performance\n",
        "max_pixel_value = np.max(X_train_reshaped)\n",
        "print(f\"Max pixel value found: {max_pixel_value}\")\n",
        "\n",
        "X_train_norm = X_train_reshaped.astype('float32') / max_pixel_value\n",
        "X_test_norm = X_test_reshaped.astype('float32') / max_pixel_value\n",
        "\n",
        "# Get the input shape for the model (height, width, bands)\n",
        "input_shape = X_train_norm.shape[1:]\n",
        "print(f\"Model input shape will be: {input_shape}\")"
      ],
      "metadata": {
        "colab": {
          "base_uri": "https://localhost:8080/"
        },
        "id": "nkC_VcaNypoX",
        "outputId": "fb665e30-4c8b-4f91-ec9b-7c7ab3c20822"
      },
      "execution_count": 139,
      "outputs": [
        {
          "output_type": "stream",
          "name": "stdout",
          "text": [
            "Original X_train shape: (318, 6, 100, 100)\n",
            "Reshaped X_train shape: (318, 100, 100, 6)\n",
            "Max pixel value found: 8704.0\n",
            "Model input shape will be: (100, 100, 6)\n"
          ]
        }
      ]
    },
    {
      "cell_type": "code",
      "source": [
        "# Build the CNN\n",
        "\n",
        "model = keras.Sequential([\n",
        "    # Input Layer\n",
        "    keras.Input(shape=input_shape),\n",
        "\n",
        "    # Convolutional Block 1\n",
        "    # 32 filters, 3x3 kernel size\n",
        "    layers.Conv2D(32, kernel_size=(3, 3), activation=\"relu\"),\n",
        "    layers.MaxPooling2D(pool_size=(2, 2)),\n",
        "\n",
        "    # Convolutional Block 2\n",
        "    # 64 filters, 3x3 kernel size\n",
        "    layers.Conv2D(64, kernel_size=(3, 3), activation=\"relu\"),\n",
        "    layers.MaxPooling2D(pool_size=(2, 2)),\n",
        "\n",
        "    # Classifier Head\n",
        "    layers.Flatten(), # Flattens the 3D map to a 1D vector\n",
        "    layers.Dense(64, activation=\"relu\"),\n",
        "    layers.Dropout(0.5), # Helps prevent overfitting\n",
        "\n",
        "    # Output Layer\n",
        "    # 1 neuron with 'sigmoid' activation for a 0-to-1 probability\n",
        "    layers.Dense(1, activation=\"sigmoid\")\n",
        "])"
      ],
      "metadata": {
        "id": "8gv76174yzpj"
      },
      "execution_count": 140,
      "outputs": []
    },
    {
      "cell_type": "code",
      "source": [
        "# Compiling the model\n",
        "\n",
        "from tensorflow.keras.optimizers import Adam\n",
        "\n",
        "# FIX: Use a much smaller learning rate to prevent 'nan'\n",
        "optimizer = Adam(learning_rate=0.0001)  # Default is 0.001\n",
        "\n",
        "# We use 'binary_crossentropy' because this is a 2-class (0 or 1) problem\n",
        "model.compile(\n",
        "    loss=\"binary_crossentropy\",\n",
        "    optimizer=optimizer,\n",
        "    metrics=[\"accuracy\"]\n",
        ")\n",
        "\n",
        "# Print a summary of the model\n",
        "model.summary()"
      ],
      "metadata": {
        "colab": {
          "base_uri": "https://localhost:8080/",
          "height": 408
        },
        "id": "fx-C6r6Fy6Xw",
        "outputId": "1d9bc4ec-6835-4e85-8202-516b234c6240"
      },
      "execution_count": 141,
      "outputs": [
        {
          "output_type": "display_data",
          "data": {
            "text/plain": [
              "\u001b[1mModel: \"sequential_8\"\u001b[0m\n"
            ],
            "text/html": [
              "<pre style=\"white-space:pre;overflow-x:auto;line-height:normal;font-family:Menlo,'DejaVu Sans Mono',consolas,'Courier New',monospace\"><span style=\"font-weight: bold\">Model: \"sequential_8\"</span>\n",
              "</pre>\n"
            ]
          },
          "metadata": {}
        },
        {
          "output_type": "display_data",
          "data": {
            "text/plain": [
              "┏━━━━━━━━━━━━━━━━━━━━━━━━━━━━━━━━━┳━━━━━━━━━━━━━━━━━━━━━━━━┳━━━━━━━━━━━━━━━┓\n",
              "┃\u001b[1m \u001b[0m\u001b[1mLayer (type)                   \u001b[0m\u001b[1m \u001b[0m┃\u001b[1m \u001b[0m\u001b[1mOutput Shape          \u001b[0m\u001b[1m \u001b[0m┃\u001b[1m \u001b[0m\u001b[1m      Param #\u001b[0m\u001b[1m \u001b[0m┃\n",
              "┡━━━━━━━━━━━━━━━━━━━━━━━━━━━━━━━━━╇━━━━━━━━━━━━━━━━━━━━━━━━╇━━━━━━━━━━━━━━━┩\n",
              "│ conv2d_16 (\u001b[38;5;33mConv2D\u001b[0m)              │ (\u001b[38;5;45mNone\u001b[0m, \u001b[38;5;34m98\u001b[0m, \u001b[38;5;34m98\u001b[0m, \u001b[38;5;34m32\u001b[0m)     │         \u001b[38;5;34m1,760\u001b[0m │\n",
              "├─────────────────────────────────┼────────────────────────┼───────────────┤\n",
              "│ max_pooling2d_16 (\u001b[38;5;33mMaxPooling2D\u001b[0m) │ (\u001b[38;5;45mNone\u001b[0m, \u001b[38;5;34m49\u001b[0m, \u001b[38;5;34m49\u001b[0m, \u001b[38;5;34m32\u001b[0m)     │             \u001b[38;5;34m0\u001b[0m │\n",
              "├─────────────────────────────────┼────────────────────────┼───────────────┤\n",
              "│ conv2d_17 (\u001b[38;5;33mConv2D\u001b[0m)              │ (\u001b[38;5;45mNone\u001b[0m, \u001b[38;5;34m47\u001b[0m, \u001b[38;5;34m47\u001b[0m, \u001b[38;5;34m64\u001b[0m)     │        \u001b[38;5;34m18,496\u001b[0m │\n",
              "├─────────────────────────────────┼────────────────────────┼───────────────┤\n",
              "│ max_pooling2d_17 (\u001b[38;5;33mMaxPooling2D\u001b[0m) │ (\u001b[38;5;45mNone\u001b[0m, \u001b[38;5;34m23\u001b[0m, \u001b[38;5;34m23\u001b[0m, \u001b[38;5;34m64\u001b[0m)     │             \u001b[38;5;34m0\u001b[0m │\n",
              "├─────────────────────────────────┼────────────────────────┼───────────────┤\n",
              "│ flatten_8 (\u001b[38;5;33mFlatten\u001b[0m)             │ (\u001b[38;5;45mNone\u001b[0m, \u001b[38;5;34m33856\u001b[0m)          │             \u001b[38;5;34m0\u001b[0m │\n",
              "├─────────────────────────────────┼────────────────────────┼───────────────┤\n",
              "│ dense_16 (\u001b[38;5;33mDense\u001b[0m)                │ (\u001b[38;5;45mNone\u001b[0m, \u001b[38;5;34m64\u001b[0m)             │     \u001b[38;5;34m2,166,848\u001b[0m │\n",
              "├─────────────────────────────────┼────────────────────────┼───────────────┤\n",
              "│ dropout_8 (\u001b[38;5;33mDropout\u001b[0m)             │ (\u001b[38;5;45mNone\u001b[0m, \u001b[38;5;34m64\u001b[0m)             │             \u001b[38;5;34m0\u001b[0m │\n",
              "├─────────────────────────────────┼────────────────────────┼───────────────┤\n",
              "│ dense_17 (\u001b[38;5;33mDense\u001b[0m)                │ (\u001b[38;5;45mNone\u001b[0m, \u001b[38;5;34m1\u001b[0m)              │            \u001b[38;5;34m65\u001b[0m │\n",
              "└─────────────────────────────────┴────────────────────────┴───────────────┘\n"
            ],
            "text/html": [
              "<pre style=\"white-space:pre;overflow-x:auto;line-height:normal;font-family:Menlo,'DejaVu Sans Mono',consolas,'Courier New',monospace\">┏━━━━━━━━━━━━━━━━━━━━━━━━━━━━━━━━━┳━━━━━━━━━━━━━━━━━━━━━━━━┳━━━━━━━━━━━━━━━┓\n",
              "┃<span style=\"font-weight: bold\"> Layer (type)                    </span>┃<span style=\"font-weight: bold\"> Output Shape           </span>┃<span style=\"font-weight: bold\">       Param # </span>┃\n",
              "┡━━━━━━━━━━━━━━━━━━━━━━━━━━━━━━━━━╇━━━━━━━━━━━━━━━━━━━━━━━━╇━━━━━━━━━━━━━━━┩\n",
              "│ conv2d_16 (<span style=\"color: #0087ff; text-decoration-color: #0087ff\">Conv2D</span>)              │ (<span style=\"color: #00d7ff; text-decoration-color: #00d7ff\">None</span>, <span style=\"color: #00af00; text-decoration-color: #00af00\">98</span>, <span style=\"color: #00af00; text-decoration-color: #00af00\">98</span>, <span style=\"color: #00af00; text-decoration-color: #00af00\">32</span>)     │         <span style=\"color: #00af00; text-decoration-color: #00af00\">1,760</span> │\n",
              "├─────────────────────────────────┼────────────────────────┼───────────────┤\n",
              "│ max_pooling2d_16 (<span style=\"color: #0087ff; text-decoration-color: #0087ff\">MaxPooling2D</span>) │ (<span style=\"color: #00d7ff; text-decoration-color: #00d7ff\">None</span>, <span style=\"color: #00af00; text-decoration-color: #00af00\">49</span>, <span style=\"color: #00af00; text-decoration-color: #00af00\">49</span>, <span style=\"color: #00af00; text-decoration-color: #00af00\">32</span>)     │             <span style=\"color: #00af00; text-decoration-color: #00af00\">0</span> │\n",
              "├─────────────────────────────────┼────────────────────────┼───────────────┤\n",
              "│ conv2d_17 (<span style=\"color: #0087ff; text-decoration-color: #0087ff\">Conv2D</span>)              │ (<span style=\"color: #00d7ff; text-decoration-color: #00d7ff\">None</span>, <span style=\"color: #00af00; text-decoration-color: #00af00\">47</span>, <span style=\"color: #00af00; text-decoration-color: #00af00\">47</span>, <span style=\"color: #00af00; text-decoration-color: #00af00\">64</span>)     │        <span style=\"color: #00af00; text-decoration-color: #00af00\">18,496</span> │\n",
              "├─────────────────────────────────┼────────────────────────┼───────────────┤\n",
              "│ max_pooling2d_17 (<span style=\"color: #0087ff; text-decoration-color: #0087ff\">MaxPooling2D</span>) │ (<span style=\"color: #00d7ff; text-decoration-color: #00d7ff\">None</span>, <span style=\"color: #00af00; text-decoration-color: #00af00\">23</span>, <span style=\"color: #00af00; text-decoration-color: #00af00\">23</span>, <span style=\"color: #00af00; text-decoration-color: #00af00\">64</span>)     │             <span style=\"color: #00af00; text-decoration-color: #00af00\">0</span> │\n",
              "├─────────────────────────────────┼────────────────────────┼───────────────┤\n",
              "│ flatten_8 (<span style=\"color: #0087ff; text-decoration-color: #0087ff\">Flatten</span>)             │ (<span style=\"color: #00d7ff; text-decoration-color: #00d7ff\">None</span>, <span style=\"color: #00af00; text-decoration-color: #00af00\">33856</span>)          │             <span style=\"color: #00af00; text-decoration-color: #00af00\">0</span> │\n",
              "├─────────────────────────────────┼────────────────────────┼───────────────┤\n",
              "│ dense_16 (<span style=\"color: #0087ff; text-decoration-color: #0087ff\">Dense</span>)                │ (<span style=\"color: #00d7ff; text-decoration-color: #00d7ff\">None</span>, <span style=\"color: #00af00; text-decoration-color: #00af00\">64</span>)             │     <span style=\"color: #00af00; text-decoration-color: #00af00\">2,166,848</span> │\n",
              "├─────────────────────────────────┼────────────────────────┼───────────────┤\n",
              "│ dropout_8 (<span style=\"color: #0087ff; text-decoration-color: #0087ff\">Dropout</span>)             │ (<span style=\"color: #00d7ff; text-decoration-color: #00d7ff\">None</span>, <span style=\"color: #00af00; text-decoration-color: #00af00\">64</span>)             │             <span style=\"color: #00af00; text-decoration-color: #00af00\">0</span> │\n",
              "├─────────────────────────────────┼────────────────────────┼───────────────┤\n",
              "│ dense_17 (<span style=\"color: #0087ff; text-decoration-color: #0087ff\">Dense</span>)                │ (<span style=\"color: #00d7ff; text-decoration-color: #00d7ff\">None</span>, <span style=\"color: #00af00; text-decoration-color: #00af00\">1</span>)              │            <span style=\"color: #00af00; text-decoration-color: #00af00\">65</span> │\n",
              "└─────────────────────────────────┴────────────────────────┴───────────────┘\n",
              "</pre>\n"
            ]
          },
          "metadata": {}
        },
        {
          "output_type": "display_data",
          "data": {
            "text/plain": [
              "\u001b[1m Total params: \u001b[0m\u001b[38;5;34m2,187,169\u001b[0m (8.34 MB)\n"
            ],
            "text/html": [
              "<pre style=\"white-space:pre;overflow-x:auto;line-height:normal;font-family:Menlo,'DejaVu Sans Mono',consolas,'Courier New',monospace\"><span style=\"font-weight: bold\"> Total params: </span><span style=\"color: #00af00; text-decoration-color: #00af00\">2,187,169</span> (8.34 MB)\n",
              "</pre>\n"
            ]
          },
          "metadata": {}
        },
        {
          "output_type": "display_data",
          "data": {
            "text/plain": [
              "\u001b[1m Trainable params: \u001b[0m\u001b[38;5;34m2,187,169\u001b[0m (8.34 MB)\n"
            ],
            "text/html": [
              "<pre style=\"white-space:pre;overflow-x:auto;line-height:normal;font-family:Menlo,'DejaVu Sans Mono',consolas,'Courier New',monospace\"><span style=\"font-weight: bold\"> Trainable params: </span><span style=\"color: #00af00; text-decoration-color: #00af00\">2,187,169</span> (8.34 MB)\n",
              "</pre>\n"
            ]
          },
          "metadata": {}
        },
        {
          "output_type": "display_data",
          "data": {
            "text/plain": [
              "\u001b[1m Non-trainable params: \u001b[0m\u001b[38;5;34m0\u001b[0m (0.00 B)\n"
            ],
            "text/html": [
              "<pre style=\"white-space:pre;overflow-x:auto;line-height:normal;font-family:Menlo,'DejaVu Sans Mono',consolas,'Courier New',monospace\"><span style=\"font-weight: bold\"> Non-trainable params: </span><span style=\"color: #00af00; text-decoration-color: #00af00\">0</span> (0.00 B)\n",
              "</pre>\n"
            ]
          },
          "metadata": {}
        }
      ]
    },
    {
      "cell_type": "code",
      "source": [
        "# Training the model\n",
        "\n",
        "print(\"\\nStarting model training...\")\n",
        "history = model.fit(\n",
        "    X_train_norm,          # Use normalized, reshaped training data\n",
        "    y_train,               # Training labels\n",
        "    batch_size=32,\n",
        "    epochs=15,             # You can increase this if needed\n",
        "    validation_split=0.2\n",
        ")\n",
        "\n",
        "print(\"Training finished.\")"
      ],
      "metadata": {
        "colab": {
          "base_uri": "https://localhost:8080/"
        },
        "id": "mWi2xFAky_d5",
        "outputId": "582eccda-872f-4b4f-b553-d2175588656e"
      },
      "execution_count": 142,
      "outputs": [
        {
          "output_type": "stream",
          "name": "stdout",
          "text": [
            "\n",
            "Starting model training...\n",
            "Epoch 1/15\n",
            "\u001b[1m8/8\u001b[0m \u001b[32m━━━━━━━━━━━━━━━━━━━━\u001b[0m\u001b[37m\u001b[0m \u001b[1m11s\u001b[0m 723ms/step - accuracy: 0.6213 - loss: 0.6498 - val_accuracy: 0.9219 - val_loss: 0.5168\n",
            "Epoch 2/15\n",
            "\u001b[1m8/8\u001b[0m \u001b[32m━━━━━━━━━━━━━━━━━━━━\u001b[0m\u001b[37m\u001b[0m \u001b[1m7s\u001b[0m 474ms/step - accuracy: 0.9137 - loss: 0.4970 - val_accuracy: 0.9375 - val_loss: 0.3586\n",
            "Epoch 3/15\n",
            "\u001b[1m8/8\u001b[0m \u001b[32m━━━━━━━━━━━━━━━━━━━━\u001b[0m\u001b[37m\u001b[0m \u001b[1m6s\u001b[0m 575ms/step - accuracy: 0.9141 - loss: 0.3700 - val_accuracy: 0.9531 - val_loss: 0.2623\n",
            "Epoch 4/15\n",
            "\u001b[1m8/8\u001b[0m \u001b[32m━━━━━━━━━━━━━━━━━━━━\u001b[0m\u001b[37m\u001b[0m \u001b[1m5s\u001b[0m 594ms/step - accuracy: 0.8777 - loss: 0.3435 - val_accuracy: 0.9375 - val_loss: 0.2209\n",
            "Epoch 5/15\n",
            "\u001b[1m8/8\u001b[0m \u001b[32m━━━━━━━━━━━━━━━━━━━━\u001b[0m\u001b[37m\u001b[0m \u001b[1m4s\u001b[0m 468ms/step - accuracy: 0.9006 - loss: 0.2752 - val_accuracy: 0.9531 - val_loss: 0.2002\n",
            "Epoch 6/15\n",
            "\u001b[1m8/8\u001b[0m \u001b[32m━━━━━━━━━━━━━━━━━━━━\u001b[0m\u001b[37m\u001b[0m \u001b[1m6s\u001b[0m 539ms/step - accuracy: 0.8793 - loss: 0.2941 - val_accuracy: 0.9219 - val_loss: 0.1879\n",
            "Epoch 7/15\n",
            "\u001b[1m8/8\u001b[0m \u001b[32m━━━━━━━━━━━━━━━━━━━━\u001b[0m\u001b[37m\u001b[0m \u001b[1m5s\u001b[0m 556ms/step - accuracy: 0.9211 - loss: 0.2100 - val_accuracy: 0.9531 - val_loss: 0.1812\n",
            "Epoch 8/15\n",
            "\u001b[1m8/8\u001b[0m \u001b[32m━━━━━━━━━━━━━━━━━━━━\u001b[0m\u001b[37m\u001b[0m \u001b[1m4s\u001b[0m 472ms/step - accuracy: 0.9030 - loss: 0.2505 - val_accuracy: 0.9219 - val_loss: 0.1779\n",
            "Epoch 9/15\n",
            "\u001b[1m8/8\u001b[0m \u001b[32m━━━━━━━━━━━━━━━━━━━━\u001b[0m\u001b[37m\u001b[0m \u001b[1m4s\u001b[0m 473ms/step - accuracy: 0.9010 - loss: 0.2376 - val_accuracy: 0.9531 - val_loss: 0.1729\n",
            "Epoch 10/15\n",
            "\u001b[1m8/8\u001b[0m \u001b[32m━━━━━━━━━━━━━━━━━━━━\u001b[0m\u001b[37m\u001b[0m \u001b[1m6s\u001b[0m 727ms/step - accuracy: 0.9335 - loss: 0.1772 - val_accuracy: 0.9531 - val_loss: 0.1701\n",
            "Epoch 11/15\n",
            "\u001b[1m8/8\u001b[0m \u001b[32m━━━━━━━━━━━━━━━━━━━━\u001b[0m\u001b[37m\u001b[0m \u001b[1m8s\u001b[0m 472ms/step - accuracy: 0.9258 - loss: 0.1926 - val_accuracy: 0.9375 - val_loss: 0.1644\n",
            "Epoch 12/15\n",
            "\u001b[1m8/8\u001b[0m \u001b[32m━━━━━━━━━━━━━━━━━━━━\u001b[0m\u001b[37m\u001b[0m \u001b[1m7s\u001b[0m 715ms/step - accuracy: 0.9334 - loss: 0.1902 - val_accuracy: 0.9531 - val_loss: 0.1594\n",
            "Epoch 13/15\n",
            "\u001b[1m8/8\u001b[0m \u001b[32m━━━━━━━━━━━━━━━━━━━━\u001b[0m\u001b[37m\u001b[0m \u001b[1m4s\u001b[0m 470ms/step - accuracy: 0.9433 - loss: 0.1699 - val_accuracy: 0.9688 - val_loss: 0.1561\n",
            "Epoch 14/15\n",
            "\u001b[1m8/8\u001b[0m \u001b[32m━━━━━━━━━━━━━━━━━━━━\u001b[0m\u001b[37m\u001b[0m \u001b[1m4s\u001b[0m 472ms/step - accuracy: 0.9318 - loss: 0.1620 - val_accuracy: 0.9688 - val_loss: 0.1513\n",
            "Epoch 15/15\n",
            "\u001b[1m8/8\u001b[0m \u001b[32m━━━━━━━━━━━━━━━━━━━━\u001b[0m\u001b[37m\u001b[0m \u001b[1m6s\u001b[0m 722ms/step - accuracy: 0.9336 - loss: 0.1519 - val_accuracy: 0.9688 - val_loss: 0.1480\n",
            "Training finished.\n"
          ]
        }
      ]
    },
    {
      "cell_type": "code",
      "source": [
        "import matplotlib.pyplot as plt\n",
        "\n",
        "# --- 1. Plot Training & Validation Accuracy ---\n",
        "plt.figure(figsize=(12, 5))\n",
        "plt.subplot(1, 2, 1) # (1 row, 2 columns, plot 1)\n",
        "plt.plot(history.history['accuracy'], label='Training Accuracy')\n",
        "plt.plot(history.history['val_accuracy'], label='Validation Accuracy')\n",
        "plt.title('Model Accuracy')\n",
        "plt.xlabel('Epoch')\n",
        "plt.ylabel('Accuracy')\n",
        "plt.legend(loc='lower right')\n",
        "\n",
        "# --- 2. Plot Training & Validation Loss ---\n",
        "plt.subplot(1, 2, 2) # (1 row, 2 columns, plot 2)\n",
        "plt.plot(history.history['loss'], label='Training Loss')\n",
        "plt.plot(history.history['val_loss'], label='Validation Loss')\n",
        "plt.title('Model Loss')\n",
        "plt.xlabel('Epoch')\n",
        "plt.ylabel('Loss')\n",
        "plt.legend(loc='upper right')\n",
        "\n",
        "# --- 3. Show the plots ---\n",
        "plt.tight_layout() # Adjusts plots to prevent overlap\n",
        "plt.show()"
      ],
      "metadata": {
        "colab": {
          "base_uri": "https://localhost:8080/",
          "height": 464
        },
        "id": "atj5wbZEzl2r",
        "outputId": "7393845c-2d7a-4b8e-c8cc-dd4f42ef3ade"
      },
      "execution_count": 143,
      "outputs": [
        {
          "output_type": "display_data",
          "data": {
            "text/plain": [
              "<Figure size 1200x500 with 2 Axes>"
            ],
            "image/png": "[encoded data removed]"
          },
          "metadata": {}
        }
      ]
    },
    {
      "cell_type": "code",
      "source": [
        "import numpy as np\n",
        "from sklearn.metrics import classification_report\n",
        "\n",
        "# --- 1. Get the model's predictions for the entire test set ---\n",
        "# The output is a list of raw probabilities (e.g., 0.05, 0.92, etc.)\n",
        "y_pred_proba = model.predict(X_test_norm)\n",
        "\n",
        "print(\"--- Evaluating Model on Unseen Test Data ---\\n\")\n",
        "print(f\"Displaying predictions for the first 20 patches:\\n\")\n",
        "\n",
        "# --- 2. Loop through a sample of predictions and display them ---\n",
        "for i in range(min(20, len(y_test))): # Show up to 20 predictions\n",
        "\n",
        "    # Get the raw probability from the model's output\n",
        "    probability = y_pred_proba[i][0]\n",
        "\n",
        "    # Convert to a percentage\n",
        "    susceptibility_percent = probability * 100\n",
        "\n",
        "    # Get the actual, correct label\n",
        "    actual_label = y_test[i]\n",
        "\n",
        "    # Print a clear, formatted result\n",
        "    print(f\"Patch {i+1}: Susceptibility = {susceptibility_percent:.2f}%  (Actual Label: {actual_label})\")\n",
        "\n",
        "\n",
        "# --- 3. Get the final, overall accuracy on the test set ---\n",
        "final_loss, final_accuracy = model.evaluate(X_test_norm, y_test, verbose=0)\n",
        "print(f\"\\n-------------------------------------------------\")\n",
        "print(f\"Final Model Accuracy on Test Set: {final_accuracy * 100:.2f}%\")\n",
        "print(f\"-------------------------------------------------\")\n",
        "\n",
        "\n",
        "# --- 4. (Optional) Show a more detailed performance report ---\n",
        "# We convert probabilities to binary predictions (0 or 1) using a 0.5 threshold\n",
        "y_pred_binary = (y_pred_proba > 0.5).astype(int)\n",
        "\n",
        "print(\"\\nDetailed Classification Report:\\n\")\n",
        "# This shows precision, recall, and f1-score for both classes (0 and 1)\n",
        "print(classification_report(y_test, y_pred_binary, target_names=['No Landslide (0)', 'Landslide (1)']))"
      ],
      "metadata": {
        "colab": {
          "base_uri": "https://localhost:8080/"
        },
        "id": "AzK7b9dMlGzC",
        "outputId": "46acf122-6a6a-4f36-9708-0b164aae9dd4"
      },
      "execution_count": 144,
      "outputs": [
        {
          "output_type": "stream",
          "name": "stderr",
          "text": [
            "WARNING:tensorflow:5 out of the last 5 calls to <function TensorFlowTrainer.make_predict_function.<locals>.one_step_on_data_distributed at 0x7cd002a46a20> triggered tf.function retracing. Tracing is expensive and the excessive number of tracings could be due to (1) creating @tf.function repeatedly in a loop, (2) passing tensors with different shapes, (3) passing Python objects instead of tensors. For (1), please define your @tf.function outside of the loop. For (2), @tf.function has reduce_retracing=True option that can avoid unnecessary retracing. For (3), please refer to https://www.tensorflow.org/guide/function#controlling_retracing and https://www.tensorflow.org/api_docs/python/tf/function for  more details.\n"
          ]
        },
        {
          "output_type": "stream",
          "name": "stdout",
          "text": [
            "\u001b[1m2/3\u001b[0m \u001b[32m━━━━━━━━━━━━━\u001b[0m\u001b[37m━━━━━━━\u001b[0m \u001b[1m0s\u001b[0m 226ms/step"
          ]
        },
        {
          "output_type": "stream",
          "name": "stderr",
          "text": [
            "WARNING:tensorflow:6 out of the last 7 calls to <function TensorFlowTrainer.make_predict_function.<locals>.one_step_on_data_distributed at 0x7cd002a46a20> triggered tf.function retracing. Tracing is expensive and the excessive number of tracings could be due to (1) creating @tf.function repeatedly in a loop, (2) passing tensors with different shapes, (3) passing Python objects instead of tensors. For (1), please define your @tf.function outside of the loop. For (2), @tf.function has reduce_retracing=True option that can avoid unnecessary retracing. For (3), please refer to https://www.tensorflow.org/guide/function#controlling_retracing and https://www.tensorflow.org/api_docs/python/tf/function for  more details.\n"
          ]
        },
        {
          "output_type": "stream",
          "name": "stdout",
          "text": [
            "\u001b[1m3/3\u001b[0m \u001b[32m━━━━━━━━━━━━━━━━━━━━\u001b[0m\u001b[37m\u001b[0m \u001b[1m1s\u001b[0m 219ms/step\n",
            "--- Evaluating Model on Unseen Test Data ---\n",
            "\n",
            "Displaying predictions for the first 20 patches:\n",
            "\n",
            "Patch 1: Susceptibility = 93.41%  (Actual Label: 1)\n",
            "Patch 2: Susceptibility = 20.13%  (Actual Label: 0)\n",
            "Patch 3: Susceptibility = 11.37%  (Actual Label: 0)\n",
            "Patch 4: Susceptibility = 99.89%  (Actual Label: 1)\n",
            "Patch 5: Susceptibility = 98.42%  (Actual Label: 1)\n",
            "Patch 6: Susceptibility = 18.41%  (Actual Label: 0)\n",
            "Patch 7: Susceptibility = 99.87%  (Actual Label: 1)\n",
            "Patch 8: Susceptibility = 99.85%  (Actual Label: 1)\n",
            "Patch 9: Susceptibility = 7.81%  (Actual Label: 0)\n",
            "Patch 10: Susceptibility = 0.02%  (Actual Label: 0)\n",
            "Patch 11: Susceptibility = 88.21%  (Actual Label: 1)\n",
            "Patch 12: Susceptibility = 99.61%  (Actual Label: 1)\n",
            "Patch 13: Susceptibility = 82.04%  (Actual Label: 1)\n",
            "Patch 14: Susceptibility = 99.15%  (Actual Label: 1)\n",
            "Patch 15: Susceptibility = 8.84%  (Actual Label: 0)\n",
            "Patch 16: Susceptibility = 99.71%  (Actual Label: 1)\n",
            "Patch 17: Susceptibility = 5.39%  (Actual Label: 0)\n",
            "Patch 18: Susceptibility = 99.25%  (Actual Label: 1)\n",
            "Patch 19: Susceptibility = 97.81%  (Actual Label: 1)\n",
            "Patch 20: Susceptibility = 99.78%  (Actual Label: 1)\n",
            "\n",
            "-------------------------------------------------\n",
            "Final Model Accuracy on Test Set: 91.25%\n",
            "-------------------------------------------------\n",
            "\n",
            "Detailed Classification Report:\n",
            "\n",
            "                  precision    recall  f1-score   support\n",
            "\n",
            "No Landslide (0)       0.92      0.90      0.91        39\n",
            "   Landslide (1)       0.90      0.93      0.92        41\n",
            "\n",
            "        accuracy                           0.91        80\n",
            "       macro avg       0.91      0.91      0.91        80\n",
            "    weighted avg       0.91      0.91      0.91        80\n",
            "\n"
          ]
        }
      ]
    },
    {
      "cell_type": "markdown",
      "source": [
        "# Now we try to give our brain a body"
      ],
      "metadata": {
        "id": "UvZ-oyvnlrOK"
      }
    },
    {
      "cell_type": "code",
      "source": [
        "# Save model\n",
        "model.save('landslide_susceptibility_model.keras')"
      ],
      "metadata": {
        "id": "PqJhGLf6lgCi"
      },
      "execution_count": 145,
      "outputs": []
    },
    {
      "cell_type": "markdown",
      "source": [
        "The following code takes in a really small patch, just like the ones in our dataset, and makes a prediction. I will later create code that caan take in a larger area and make a susceptibility map out of it. This larger image needs to have the exaact same bands, needs to be noralized the exact same way, the only thing that can ddiffer is the overall size, i.e. it could be 5000x5000 instead of 1000x1000 like our patches."
      ],
      "metadata": {
        "id": "VU6ri3zNo-rB"
      }
    },
    {
      "cell_type": "code",
      "source": [
        "import tensorflow as tf\n",
        "from tensorflow import keras\n",
        "import rasterio\n",
        "import numpy as np\n",
        "import matplotlib.pyplot as plt # <-- Make sure this is imported\n",
        "\n",
        "# --- 1. CONFIGURATION ---\n",
        "MODEL_FILE = 'landslide_susceptibility_model.keras'\n",
        "PATCH_FILE = '/content/drive/MyDrive/GEE_Landslide_Patches_2/patch_id_913_label_1.tif'\n",
        "\n",
        "# --- You MUST get this value from your training script ---\n",
        "MAX_PIXEL_VALUE = 8704.0\n",
        "\n",
        "PATCH_SIZE = 100\n",
        "\n",
        "# --- 2. LOAD MODEL ---\n",
        "print(\"Loading model...\")\n",
        "model = keras.models.load_model(MODEL_FILE)\n",
        "\n",
        "print(f\"Loading patch: {PATCH_FILE}\")\n",
        "with rasterio.open(PATCH_FILE) as src:\n",
        "    # Read all band data\n",
        "    patch_data = src.read() # Shape (bands, 100, 100)\n",
        "\n",
        "    # Check if patch is the correct size\n",
        "    if patch_data.shape[1] != PATCH_SIZE or patch_data.shape[2] != PATCH_SIZE:\n",
        "        print(f\"Error: Patch is not {PATCH_SIZE}x{PATCH_SIZE}. Shape: {patch_data.shape}\")\n",
        "    else:\n",
        "\n",
        "        # --- 3. PRE-PROCESS THE PATCH (for the model) ---\n",
        "\n",
        "        # (bands, h, w) -> (h, w, bands)\n",
        "        patch_transposed = np.transpose(patch_data, (1, 2, 0))\n",
        "        # Normalize\n",
        "        patch_norm = patch_transposed.astype('float32') / MAX_PIXEL_VALUE\n",
        "        # Add batch dimension: (h, w, bands) -> (1, h, w, bands)\n",
        "        patch_batch = np.expand_dims(patch_norm, axis=0)\n",
        "\n",
        "        # --- 4. PREDICT ---\n",
        "        # Get the raw probability (0.0 to 1.0)\n",
        "        probability = model.predict(patch_batch, verbose=0)[0][0]\n",
        "        susceptibility_percent = probability * 100\n",
        "\n",
        "        print(f\"Model Prediction: {susceptibility_percent:.2f}% Susceptible\")\n",
        "\n",
        "        # --- 5. VISUALIZE THE PATCH (True Color) ---\n",
        "\n",
        "        # Helper function to normalize bands for 0-1 display\n",
        "        def normalize(array):\n",
        "            array_min, array_max = np.nanmin(array), np.nanmax(array)\n",
        "            return ((array - array_min) / (array_max - array_min))\n",
        "\n",
        "        # Normalize the first 3 bands (assuming Blue, Green, Red)\n",
        "        blue_norm = normalize(patch_data[0])\n",
        "        green_norm = normalize(patch_data[1])\n",
        "        red_norm = normalize(patch_data[2])\n",
        "\n",
        "        # Stack for plotting: (h, w, channels)\n",
        "        rgb_image = np.dstack((red_norm, green_norm, blue_norm))\n",
        "\n",
        "        # --- 6. PLOT THE IMAGE WITH THE PREDICTION ---\n",
        "        plt.figure(figsize=(7, 7))\n",
        "        plt.imshow(rgb_image)\n",
        "        plt.title(f\"Prediction: {susceptibility_percent:.2f}% Susceptible\", fontsize=16)\n",
        "        plt.axis('off')\n",
        "        plt.show()"
      ],
      "metadata": {
        "colab": {
          "base_uri": "https://localhost:8080/",
          "height": 652
        },
        "id": "TphrP1D_nzUx",
        "outputId": "67b8a420-020d-4fb3-d524-0edef26f8165"
      },
      "execution_count": null,
      "outputs": [
        {
          "output_type": "stream",
          "name": "stdout",
          "text": [
            "Loading model...\n",
            "Loading patch: /content/drive/MyDrive/GEE_Landslide_Patches_2/patch_id_913_label_1.tif\n",
            "Model Prediction: 53.00% Susceptible\n"
          ]
        },
        {
          "output_type": "display_data",
          "data": {
            "text/plain": [
              "<Figure size 700x700 with 1 Axes>"
            ],
            "image/png": "[encoded data removed]"
          },
          "metadata": {}
        }
      ]
    },
    {
      "cell_type": "markdown",
      "source": [
        "The following is the code for the susceptibility map, I did not yet try it out on a larger area."
      ],
      "metadata": {
        "id": "Saml4RP3pgua"
      }
    },
    {
      "cell_type": "code",
      "source": [
        "import tensorflow as tf\n",
        "from tensorflow import keras\n",
        "import rasterio\n",
        "import numpy as np\n",
        "import math\n",
        "\n",
        "# --- 1. CONFIGURATION ---\n",
        "MODEL_FILE = 'landslide_susceptibility_model.keras'\n",
        "NEW_IMAGE_FILE = '/content/drive/MyDrive/GEE_Landslide_Patches_2/patch_id_913_label_1.tif'\n",
        "OUTPUT_MAP_FILE = 'susceptibility_map.tif'\n",
        "\n",
        "# --- You MUST get this value from your training script ---\n",
        "# This is the max value you used to normalize your data\n",
        "MAX_PIXEL_VALUE = 8704.0  # Example value, REPLACE THIS\n",
        "\n",
        "PATCH_SIZE = 100\n",
        "\n",
        "# --- 2. LOAD MODEL AND DATA ---\n",
        "print(\"Loading model...\")\n",
        "model = keras.models.load_model(MODEL_FILE)\n",
        "\n",
        "print(f\"Loading new image: {NEW_IMAGE_FILE}\")\n",
        "with rasterio.open(NEW_IMAGE_FILE) as src:\n",
        "    # Read all band data\n",
        "    image_data = src.read()\n",
        "    # Get the geospatial metadata\n",
        "    profile = src.profile\n",
        "\n",
        "    # Create an empty array to store the susceptibility \"heat map\"\n",
        "    # We use float32 to store probabilities (e.g., 0.92)\n",
        "    susceptibility_map = np.zeros((src.height, src.width), dtype='float32')\n",
        "\n",
        "    print(\"Running susceptibility scan...\")\n",
        "    # --- 3. \"SLIDING WINDOW\" PREDICTION ---\n",
        "    # We loop over the image in 100x100 blocks\n",
        "\n",
        "    # Calculate how many steps we need in each direction\n",
        "    steps_y = math.ceil(src.height / PATCH_SIZE)\n",
        "    steps_x = math.ceil(src.width / PATCH_SIZE)\n",
        "\n",
        "    for y in range(steps_y):\n",
        "        for x in range(steps_x):\n",
        "            # Define the window\n",
        "            y_start = y * PATCH_SIZE\n",
        "            x_start = x * PATCH_SIZE\n",
        "\n",
        "            # Ensure the patch doesn't go out of bounds\n",
        "            y_end = min(y_start + PATCH_SIZE, src.height)\n",
        "            x_end = min(x_start + PATCH_SIZE, src.width)\n",
        "\n",
        "            # Extract the patch\n",
        "            patch = image_data[:, y_start:y_end, x_start:x_end]\n",
        "\n",
        "            # Skip if patch is not the full 100x100 size (e.g., at the image edge)\n",
        "            if patch.shape[1] != PATCH_SIZE or patch.shape[2] != PATCH_SIZE:\n",
        "                continue\n",
        "\n",
        "            # --- 4. PRE-PROCESS THE PATCH (CRITICAL) ---\n",
        "            # This must exactly match your training code\n",
        "\n",
        "            # (bands, h, w) -> (h, w, bands)\n",
        "            patch_transposed = np.transpose(patch, (1, 2, 0))\n",
        "            # Normalize\n",
        "            patch_norm = patch_transposed.astype('float32') / MAX_PIXEL_VALUE\n",
        "            # Add batch dimension: (h, w, bands) -> (1, h, w, bands)\n",
        "            patch_batch = np.expand_dims(patch_norm, axis=0)\n",
        "\n",
        "            # --- 5. PREDICT ---\n",
        "            # Get the raw probability (0.0 to 1.0)\n",
        "            probability = model.predict(patch_batch, verbose=0)[0][0]\n",
        "\n",
        "            # --- 6. FILL THE MAP ---\n",
        "            # \"Paint\" this probability onto the output map\n",
        "            susceptibility_map[y_start:y_end, x_start:x_end] = probability\n",
        "\n",
        "    print(\"Scan complete. Saving map...\")\n",
        "\n",
        "# --- 7. SAVE THE FINAL \"HEAT MAP\" ---\n",
        "# We update the metadata to save a 1-band (float) image\n",
        "profile.update(\n",
        "    dtype='float32',\n",
        "    count=1,  # We are saving 1 band (the probability)\n",
        "    driver='GTiff'\n",
        ")\n",
        "\n",
        "with rasterio.open(OUTPUT_MAP_FILE, 'w', **profile) as dst:\n",
        "    dst.write(susceptibility_map, 1) # Write the map to the first band\n",
        "\n",
        "print(f\"Success! Susceptibility map saved to: {OUTPUT_MAP_FILE}\")"
      ],
      "metadata": {
        "colab": {
          "base_uri": "https://localhost:8080/"
        },
        "id": "ETN8yh7blg1i",
        "outputId": "9ad9d0bf-d692-4fab-c35f-9d07b0b1efc2"
      },
      "execution_count": null,
      "outputs": [
        {
          "output_type": "stream",
          "name": "stdout",
          "text": [
            "Loading model...\n",
            "Loading new image: /content/drive/MyDrive/GEE_Landslide_Patches_2/patch_id_913_label_1.tif\n",
            "Running susceptibility scan...\n",
            "Scan complete. Saving map...\n",
            "Success! Susceptibility map saved to: susceptibility_map.tif\n"
          ]
        }
      ]
    },
    {
      "cell_type": "code",
      "source": [
        "import rasterio\n",
        "import matplotlib.pyplot as plt\n",
        "import numpy as np\n",
        "\n",
        "OUTPUT_MAP_FILE = 'susceptibility_map.tif'\n",
        "\n",
        "print(f\"Loading map: {OUTPUT_MAP_FILE}\")\n",
        "\n",
        "with rasterio.open(OUTPUT_MAP_FILE) as src:\n",
        "    # Read the first (and only) band\n",
        "    susceptibility_data = src.read(1)\n",
        "\n",
        "    # Replace 0 values (no data/padding) with 'nan' so they are transparent\n",
        "    susceptibility_data[susceptibility_data == 0] = np.nan\n",
        "\n",
        "    print(\"Displaying map...\")\n",
        "\n",
        "    plt.figure(figsize=(10, 10))\n",
        "\n",
        "    # Use 'imshow' to display the 2D array as an image\n",
        "    # We use a color map ('RdYlGn_r') where Red = High, Green = Low\n",
        "    img = plt.imshow(susceptibility_data, cmap='RdYlGn_r',\n",
        "                     vmin=0.0, vmax=1.0)\n",
        "\n",
        "    plt.title(\"Landslide Susceptibility Map\")\n",
        "    plt.xlabel(\"X Pixels\")\n",
        "    plt.ylabel(\"Y Pixels\")\n",
        "\n",
        "    # Add a color bar to show what the values mean\n",
        "    cbar = plt.colorbar(img, fraction=0.046, pad=0.04)\n",
        "    cbar.set_label('Susceptibility (0.0 = Low, 1.0 = High)')\n",
        "\n",
        "    plt.show()"
      ],
      "metadata": {
        "colab": {
          "base_uri": "https://localhost:8080/",
          "height": 845
        },
        "id": "4ZMkVFgMmX36",
        "outputId": "babbcb7e-197e-4916-b8ad-9a950941fd37"
      },
      "execution_count": null,
      "outputs": [
        {
          "output_type": "stream",
          "name": "stdout",
          "text": [
            "Loading map: susceptibility_map.tif\n",
            "Displaying map...\n"
          ]
        },
        {
          "output_type": "display_data",
          "data": {
            "text/plain": [
              "<Figure size 1000x1000 with 2 Axes>"
            ],
            "image/png": "[encoded data removed]"
          },
          "metadata": {}
        }
      ]
    },
    {
      "cell_type": "markdown",
      "source": [
        "# Ensemble model: Random forest - CNN\n",
        "This part of the code creates a multi-modal model that is able to take in patches and numerical data like slop, landcover etc."
      ],
      "metadata": {
        "id": "x-tJI7Nppxx_"
      }
    },
    {
      "cell_type": "markdown",
      "source": [
        "1. Loading the data"
      ],
      "metadata": {
        "id": "hdajkRfyrEQh"
      }
    },
    {
      "cell_type": "markdown",
      "source": [
        "This code loads two types of data: .tif files which are patches created around the long-lat points in our numerical datasets, and some geological and topographical data for each point. In the end, we align these two types of data to be able to feed it into the model. We create the following data:\n",
        "- X_images_list: All the pixel data from the patches.\n",
        "\n",
        "- X_numerical_list: All the corresponding numerical features (slope, curvature, etc.) from the CSV.\n",
        "\n",
        "- y_labels_list: The labels (0 or 1) that align with both.\n",
        "\n",
        "Then we convert these lists into numpy arrays and normalize them for the machine learning model by transposing them to (samples, h, w, bands) and dividing them by MAX_PIXEL_VALUE.\n",
        "\n",
        "In the end, we create the train-test split already."
      ],
      "metadata": {
        "id": "zeuQgzgy9NV4"
      }
    },
    {
      "cell_type": "code",
      "source": [
        "import pandas as pd\n",
        "import glob\n",
        "import rasterio\n",
        "import numpy as np\n",
        "from sklearn.preprocessing import StandardScaler\n",
        "\n",
        "# Load the Numerical Data\n",
        "csv_path = '/content/drive/MyDrive/GEOG761 Machine Learning for Remote Sensing/Group project landslide susceptibility/landslides_with_variables_fixed1.csv'\n",
        "df = pd.read_csv(csv_path)\n",
        "\n",
        "# Load Image Patches and Align\n",
        "folder_path = '/content/drive/MyDrive/GEE_Landslide_Patches_2'\n",
        "patch_files = glob.glob(folder_path + \"/*.tif\")\n",
        "\n",
        "X_images_list = []\n",
        "X_numerical_list = []\n",
        "y_labels_list = []\n",
        "\n",
        "print(f\"Found {len(patch_files)} files. Aligning with CSV...\")\n",
        "\n",
        "for file_path in patch_files:\n",
        "    filename = os.path.basename(file_path)\n",
        "\n",
        "    #  Extract ID and Label from filename\n",
        "    # e.g., 'patch_id_89_label_1.tif'\n",
        "    parts = filename.split('_')\n",
        "    patch_id = int(parts[2]) # Get the '89'\n",
        "    patch_label = int(parts[4].split('.tif')[0]) # Get the '1'\n",
        "\n",
        "    # Find the matching row in the CSV\n",
        "    row = df[df['ID'] == patch_id]\n",
        "\n",
        "    if not row.empty:\n",
        "        # Add the numerical data\n",
        "        numerical_features = row[['CURVATURE', 'TWI', 'SLOPE_deg', 'DEM', 'LANDCOVER_CODE', 'ASPECT_sin', 'ASPECT_cos']].values[0]\n",
        "        X_numerical_list.append(numerical_features)\n",
        "\n",
        "        # Add the label\n",
        "        y_labels_list.append(patch_label)\n",
        "\n",
        "        # Add the image data\n",
        "        with rasterio.open(file_path) as src:\n",
        "            X_images_list.append(src.read())\n",
        "\n",
        "# Convert to NumPy Arrays\n",
        "X_images = np.array(X_images_list)\n",
        "X_numerical = np.array(X_numerical_list)\n",
        "y = np.array(y_labels_list)\n",
        "\n",
        "# -- Pre-process --\n",
        "# Images: Transpose and normalize as before\n",
        "X_images_norm = np.transpose(X_images, (0, 2, 3, 1)) / MAX_PIXEL_VALUE\n",
        "\n",
        "# Numerical: Scale the data\n",
        "# This scales numbers (like slope) to be in a similar range (e.g., -1 to 1)\n",
        "scaler = StandardScaler()\n",
        "X_numerical_norm = scaler.fit_transform(X_numerical)\n",
        "\n",
        "print(f\"Image data shape: {X_images_norm.shape}\")\n",
        "print(f\"Numerical data shape: {X_numerical_norm.shape}\")\n",
        "print(f\"Label data shape: {y.shape}\")\n",
        "\n",
        "# Split all three datasets together\n",
        "# We need to split twice to explicitely define the validation set because a random forest model,\n",
        "# as opposed to a CNN, does not have a built-in validation split\n",
        "\n",
        "# First split: (Train + Val) and Test (80% / 20%)\n",
        "X_img_train_val, X_img_test, y_train_val, y_test = train_test_split(\n",
        "    X_images_norm, y, test_size=0.2, random_state=42, stratify=y\n",
        ")\n",
        "X_num_train_val, X_num_test, _, _ = train_test_split(\n",
        "    X_numerical_norm, y, test_size=0.2, random_state=42, stratify=y\n",
        ")\n",
        "\n",
        "# Second split: (Train) and (Val) (75% of 80% = 60% / 25% of 80% = 20%)\n",
        "X_img_train, X_img_val, y_train, y_val = train_test_split(\n",
        "    X_img_train_val, y_train_val, test_size=0.25, random_state=42, stratify=y_train_val\n",
        ")\n",
        "X_num_train, X_num_val, _, _ = train_test_split(\n",
        "    X_num_train_val, y_train_val, test_size=0.25, random_state=42, stratify=y_train_val\n",
        ")\n",
        "\n",
        "print(f\"Train shapes: {X_img_train.shape}, {X_num_train.shape}, {y_train.shape}\")\n",
        "print(f\"Val shapes:   {X_img_val.shape}, {X_num_val.shape}, {y_val.shape}\")\n",
        "print(f\"Test shapes:  {X_img_test.shape}, {X_num_test.shape}, {y_test.shape}\")"
      ],
      "metadata": {
        "colab": {
          "base_uri": "https://localhost:8080/"
        },
        "id": "-aiD85FfrDB5",
        "outputId": "3d848e6b-59b1-45a6-bcfb-72e40a04228c"
      },
      "execution_count": 150,
      "outputs": [
        {
          "output_type": "stream",
          "name": "stdout",
          "text": [
            "Found 465 files. Aligning with CSV...\n",
            "Image data shape: (465, 100, 100, 6)\n",
            "Numerical data shape: (465, 7)\n",
            "Label data shape: (465,)\n",
            "Train shapes: (279, 100, 100, 6), (279, 7), (279,)\n",
            "Val shapes:   (93, 100, 100, 6), (93, 7), (93,)\n",
            "Test shapes:  (93, 100, 100, 6), (93, 7), (93,)\n"
          ]
        }
      ]
    },
    {
      "cell_type": "markdown",
      "source": [
        "Now we build and train the CNN first."
      ],
      "metadata": {
        "id": "XfDIrKcW-kSv"
      }
    },
    {
      "cell_type": "code",
      "source": [
        "import tensorflow as tf\n",
        "from tensorflow import keras\n",
        "from tensorflow.keras import layers\n",
        "\n",
        "image_input_shape = X_img_train.shape[1:]\n",
        "input_image = keras.Input(shape=image_input_shape)\n",
        "cnn_branch = layers.Conv2D(32, (3, 3), activation='relu')(input_image)\n",
        "cnn_branch = layers.MaxPooling2D((2, 2))(cnn_branch)\n",
        "cnn_branch = layers.Conv2D(64, (3, 3), activation='relu')(cnn_branch)\n",
        "cnn_branch = layers.MaxPooling2D((2, 2))(cnn_branch)\n",
        "cnn_branch = layers.Flatten()(cnn_branch)\n",
        "cnn_branch = layers.Dense(64, activation='relu')(cnn_branch)\n",
        "cnn_output = layers.Dense(1, activation='sigmoid')(cnn_branch)\n",
        "\n",
        "cnn_model = keras.Model(inputs=input_image, outputs=cnn_output)\n",
        "\n",
        "cnn_model.compile(\n",
        "    optimizer=keras.optimizers.Adam(learning_rate=0.0001),\n",
        "    loss='binary_crossentropy',\n",
        "    metrics=['accuracy']\n",
        ")\n",
        "\n",
        "print(\"\\n--- Training CNN Model ---\")\n",
        "cnn_model.fit(\n",
        "    X_img_train, y_train,\n",
        "    epochs=20,\n",
        "    batch_size=32,\n",
        "    validation_data=(X_img_val, y_val)\n",
        ")"
      ],
      "metadata": {
        "colab": {
          "base_uri": "https://localhost:8080/"
        },
        "id": "ldAtMVhW-eZD",
        "outputId": "f15e632e-a9fe-4977-e168-a107951eb60e"
      },
      "execution_count": 151,
      "outputs": [
        {
          "output_type": "stream",
          "name": "stdout",
          "text": [
            "\n",
            "--- Training CNN Model ---\n",
            "Epoch 1/20\n",
            "\u001b[1m9/9\u001b[0m \u001b[32m━━━━━━━━━━━━━━━━━━━━\u001b[0m\u001b[37m\u001b[0m \u001b[1m7s\u001b[0m 536ms/step - accuracy: 0.5589 - loss: 0.6640 - val_accuracy: 0.8925 - val_loss: 0.5474\n",
            "Epoch 2/20\n",
            "\u001b[1m9/9\u001b[0m \u001b[32m━━━━━━━━━━━━━━━━━━━━\u001b[0m\u001b[37m\u001b[0m \u001b[1m7s\u001b[0m 746ms/step - accuracy: 0.8587 - loss: 0.5110 - val_accuracy: 0.9355 - val_loss: 0.3964\n",
            "Epoch 3/20\n",
            "\u001b[1m9/9\u001b[0m \u001b[32m━━━━━━━━━━━━━━━━━━━━\u001b[0m\u001b[37m\u001b[0m \u001b[1m6s\u001b[0m 646ms/step - accuracy: 0.9139 - loss: 0.3767 - val_accuracy: 0.9247 - val_loss: 0.2882\n",
            "Epoch 4/20\n",
            "\u001b[1m9/9\u001b[0m \u001b[32m━━━━━━━━━━━━━━━━━━━━\u001b[0m\u001b[37m\u001b[0m \u001b[1m4s\u001b[0m 455ms/step - accuracy: 0.9127 - loss: 0.2968 - val_accuracy: 0.9355 - val_loss: 0.2255\n",
            "Epoch 5/20\n",
            "\u001b[1m9/9\u001b[0m \u001b[32m━━━━━━━━━━━━━━━━━━━━\u001b[0m\u001b[37m\u001b[0m \u001b[1m8s\u001b[0m 929ms/step - accuracy: 0.9128 - loss: 0.2213 - val_accuracy: 0.9355 - val_loss: 0.1950\n",
            "Epoch 6/20\n",
            "\u001b[1m9/9\u001b[0m \u001b[32m━━━━━━━━━━━━━━━━━━━━\u001b[0m\u001b[37m\u001b[0m \u001b[1m6s\u001b[0m 666ms/step - accuracy: 0.8852 - loss: 0.2551 - val_accuracy: 0.9355 - val_loss: 0.1866\n",
            "Epoch 7/20\n",
            "\u001b[1m9/9\u001b[0m \u001b[32m━━━━━━━━━━━━━━━━━━━━\u001b[0m\u001b[37m\u001b[0m \u001b[1m9s\u001b[0m 462ms/step - accuracy: 0.9038 - loss: 0.2409 - val_accuracy: 0.9355 - val_loss: 0.1761\n",
            "Epoch 8/20\n",
            "\u001b[1m9/9\u001b[0m \u001b[32m━━━━━━━━━━━━━━━━━━━━\u001b[0m\u001b[37m\u001b[0m \u001b[1m5s\u001b[0m 584ms/step - accuracy: 0.9356 - loss: 0.1748 - val_accuracy: 0.9355 - val_loss: 0.1682\n",
            "Epoch 9/20\n",
            "\u001b[1m9/9\u001b[0m \u001b[32m━━━━━━━━━━━━━━━━━━━━\u001b[0m\u001b[37m\u001b[0m \u001b[1m9s\u001b[0m 486ms/step - accuracy: 0.9196 - loss: 0.1792 - val_accuracy: 0.9355 - val_loss: 0.1650\n",
            "Epoch 10/20\n",
            "\u001b[1m9/9\u001b[0m \u001b[32m━━━━━━━━━━━━━━━━━━━━\u001b[0m\u001b[37m\u001b[0m \u001b[1m4s\u001b[0m 492ms/step - accuracy: 0.9336 - loss: 0.1745 - val_accuracy: 0.9247 - val_loss: 0.1632\n",
            "Epoch 11/20\n",
            "\u001b[1m9/9\u001b[0m \u001b[32m━━━━━━━━━━━━━━━━━━━━\u001b[0m\u001b[37m\u001b[0m \u001b[1m6s\u001b[0m 697ms/step - accuracy: 0.9368 - loss: 0.1523 - val_accuracy: 0.9355 - val_loss: 0.1568\n",
            "Epoch 12/20\n",
            "\u001b[1m9/9\u001b[0m \u001b[32m━━━━━━━━━━━━━━━━━━━━\u001b[0m\u001b[37m\u001b[0m \u001b[1m4s\u001b[0m 486ms/step - accuracy: 0.9517 - loss: 0.1296 - val_accuracy: 0.9355 - val_loss: 0.1494\n",
            "Epoch 13/20\n",
            "\u001b[1m9/9\u001b[0m \u001b[32m━━━━━━━━━━━━━━━━━━━━\u001b[0m\u001b[37m\u001b[0m \u001b[1m5s\u001b[0m 455ms/step - accuracy: 0.9276 - loss: 0.1478 - val_accuracy: 0.9355 - val_loss: 0.1444\n",
            "Epoch 14/20\n",
            "\u001b[1m9/9\u001b[0m \u001b[32m━━━━━━━━━━━━━━━━━━━━\u001b[0m\u001b[37m\u001b[0m \u001b[1m6s\u001b[0m 735ms/step - accuracy: 0.9609 - loss: 0.1192 - val_accuracy: 0.9355 - val_loss: 0.1456\n",
            "Epoch 15/20\n",
            "\u001b[1m9/9\u001b[0m \u001b[32m━━━━━━━━━━━━━━━━━━━━\u001b[0m\u001b[37m\u001b[0m \u001b[1m4s\u001b[0m 456ms/step - accuracy: 0.9431 - loss: 0.1263 - val_accuracy: 0.9355 - val_loss: 0.1395\n",
            "Epoch 16/20\n",
            "\u001b[1m9/9\u001b[0m \u001b[32m━━━━━━━━━━━━━━━━━━━━\u001b[0m\u001b[37m\u001b[0m \u001b[1m4s\u001b[0m 456ms/step - accuracy: 0.9663 - loss: 0.0905 - val_accuracy: 0.9355 - val_loss: 0.1329\n",
            "Epoch 17/20\n",
            "\u001b[1m9/9\u001b[0m \u001b[32m━━━━━━━━━━━━━━━━━━━━\u001b[0m\u001b[37m\u001b[0m \u001b[1m7s\u001b[0m 627ms/step - accuracy: 0.9677 - loss: 0.0956 - val_accuracy: 0.9355 - val_loss: 0.1315\n",
            "Epoch 18/20\n",
            "\u001b[1m9/9\u001b[0m \u001b[32m━━━━━━━━━━━━━━━━━━━━\u001b[0m\u001b[37m\u001b[0m \u001b[1m4s\u001b[0m 459ms/step - accuracy: 0.9608 - loss: 0.0879 - val_accuracy: 0.9355 - val_loss: 0.1336\n",
            "Epoch 19/20\n",
            "\u001b[1m9/9\u001b[0m \u001b[32m━━━━━━━━━━━━━━━━━━━━\u001b[0m\u001b[37m\u001b[0m \u001b[1m4s\u001b[0m 461ms/step - accuracy: 0.9796 - loss: 0.0763 - val_accuracy: 0.9462 - val_loss: 0.1257\n",
            "Epoch 20/20\n",
            "\u001b[1m9/9\u001b[0m \u001b[32m━━━━━━━━━━━━━━━━━━━━\u001b[0m\u001b[37m\u001b[0m \u001b[1m7s\u001b[0m 607ms/step - accuracy: 0.9863 - loss: 0.0701 - val_accuracy: 0.9462 - val_loss: 0.1253\n"
          ]
        },
        {
          "output_type": "execute_result",
          "data": {
            "text/plain": [
              "<keras.src.callbacks.history.History at 0x7ccffde34e00>"
            ]
          },
          "metadata": {},
          "execution_count": 151
        }
      ]
    },
    {
      "cell_type": "markdown",
      "source": [
        "Now the simple random forest."
      ],
      "metadata": {
        "id": "oilLK-TE-zYd"
      }
    },
    {
      "cell_type": "code",
      "source": [
        "from sklearn.ensemble import RandomForestClassifier\n",
        "\n",
        "print(\"\\n--- Training Random Forest Model ---\")\n",
        "rf_model = RandomForestClassifier(n_estimators=100, random_state=42, n_jobs=-1)\n",
        "rf_model.fit(X_num_train, y_train)\n",
        "\n",
        "# Check validation accuracy\n",
        "val_accuracy = rf_model.score(X_num_train, y_train)\n",
        "print(f\"Random Forest Validation Accuracy: {val_accuracy:.4f}\")"
      ],
      "metadata": {
        "colab": {
          "base_uri": "https://localhost:8080/"
        },
        "id": "vb1sK6wL-xa2",
        "outputId": "40aff105-3595-4d69-ba26-e33b16bbdc10"
      },
      "execution_count": 152,
      "outputs": [
        {
          "output_type": "stream",
          "name": "stdout",
          "text": [
            "\n",
            "--- Training Random Forest Model ---\n",
            "Random Forest Validation Accuracy: 0.9964\n"
          ]
        }
      ]
    },
    {
      "cell_type": "markdown",
      "source": [
        "## Ensemble model combined by logistic regression"
      ],
      "metadata": {
        "id": "XZ_SrX8JBjEU"
      }
    },
    {
      "cell_type": "markdown",
      "source": [
        "In the next step, we will stack both of the models. We will use the validation set to train a *new* very simple model (I chose logistic regression, it just needs to learn how to best combine the predictions from the two base models). The logistic regression model learns how much to trust each base model's prediction.\n",
        "\n",
        "It looks like this:\n",
        "\n",
        "It gets the inputs from both models:\n",
        "\n",
        "- The CNN: \"Based on the image, I'm 90% sure this is a landslide.\"\n",
        "\n",
        "- The Random Forest: \"Based on the numbers, I'm only 60% sure.\"\n",
        "\n",
        "The logistic regression model's job is to take those two inputs (90% and 60%) and make the final decision. By training it on the validation data, it learns which model is more reliable in which situations.\n",
        "\n",
        "For example, it might learn: \"The CNN is usually overconfident, so I'll trust the Random Forest more.\" Or it might learn: \"When both models agree, they are almost always right, but when they disagree, I should trust the CNN.\"\n",
        "\n",
        "It learns the optimal weights or rules to combine the two predictions into a single, more accurate final prediction."
      ],
      "metadata": {
        "id": "bHkScjwt-7dr"
      }
    },
    {
      "cell_type": "code",
      "source": [
        "from sklearn.linear_model import LogisticRegression\n",
        "from sklearn.metrics import accuracy_score, classification_report\n",
        "\n",
        "# 1. Get predictions from base models on the VALIDATION set\n",
        "print(\"\\n--- Training Meta-Model ---\")\n",
        "cnn_val_probs = cnn_model.predict(X_img_val)\n",
        "rf_val_probs = rf_model.predict_proba(X_num_val)[:, 1] # Get prob of class '1'\n",
        "\n",
        "# 2. Stack these predictions into a new feature array\n",
        "# Shape will be (num_val_samples, 2)\n",
        "X_val_stacked = np.c_[cnn_val_probs, rf_val_probs]\n",
        "\n",
        "# 3. Train the meta-model (Logistic Regression is perfect for this)\n",
        "# It learns the best \"weight\" for the CNN prob vs. the RF prob\n",
        "meta_model = LogisticRegression()\n",
        "meta_model.fit(X_val_stacked, y_val)\n",
        "\n",
        "print(\"Meta-Model trained.\")"
      ],
      "metadata": {
        "colab": {
          "base_uri": "https://localhost:8080/"
        },
        "id": "HYGElKNH_-Dz",
        "outputId": "5d98d702-71e8-4b80-dbd9-882a23be38e3"
      },
      "execution_count": 153,
      "outputs": [
        {
          "output_type": "stream",
          "name": "stdout",
          "text": [
            "\n",
            "--- Training Meta-Model ---\n",
            "\u001b[1m3/3\u001b[0m \u001b[32m━━━━━━━━━━━━━━━━━━━━\u001b[0m\u001b[37m\u001b[0m \u001b[1m1s\u001b[0m 279ms/step\n",
            "Meta-Model trained.\n"
          ]
        }
      ]
    },
    {
      "cell_type": "markdown",
      "source": [
        "And finally, we will evaluate the final hybrid model on the test set."
      ],
      "metadata": {
        "id": "wEHFR8ouAEVA"
      }
    },
    {
      "cell_type": "code",
      "source": [
        "# 1. Get predictions from base models on the TEST set\n",
        "print(\"\\n--- Final Evaluation on Test Set ---\")\n",
        "cnn_test_probs = cnn_model.predict(X_img_test)\n",
        "rf_test_probs = rf_model.predict_proba(X_num_test)[:, 1]\n",
        "\n",
        "# 2. Stack them just like before\n",
        "X_test_stacked = np.c_[cnn_test_probs, rf_test_probs]\n",
        "\n",
        "# 3. Get the final hybrid prediction from the meta-model\n",
        "hybrid_predictions = meta_model.predict(X_test_stacked)\n",
        "\n",
        "# 4. Report the results\n",
        "final_accuracy = accuracy_score(y_test, hybrid_predictions)\n",
        "print(f\"\\nFinal HYBRID Model Accuracy: {final_accuracy * 100:.2f}%\")\n",
        "print(\"\\nHybrid Model Classification Report:\")\n",
        "print(classification_report(y_test, hybrid_predictions))"
      ],
      "metadata": {
        "colab": {
          "base_uri": "https://localhost:8080/"
        },
        "id": "4r1v1riZADru",
        "outputId": "ad55d698-eba9-41e8-c47e-82031df41d9d"
      },
      "execution_count": 154,
      "outputs": [
        {
          "output_type": "stream",
          "name": "stdout",
          "text": [
            "\n",
            "--- Final Evaluation on Test Set ---\n",
            "\u001b[1m3/3\u001b[0m \u001b[32m━━━━━━━━━━━━━━━━━━━━\u001b[0m\u001b[37m\u001b[0m \u001b[1m0s\u001b[0m 125ms/step\n",
            "\n",
            "Final HYBRID Model Accuracy: 96.77%\n",
            "\n",
            "Hybrid Model Classification Report:\n",
            "              precision    recall  f1-score   support\n",
            "\n",
            "           0       0.96      0.98      0.97        44\n",
            "           1       0.98      0.96      0.97        49\n",
            "\n",
            "    accuracy                           0.97        93\n",
            "   macro avg       0.97      0.97      0.97        93\n",
            "weighted avg       0.97      0.97      0.97        93\n",
            "\n"
          ]
        }
      ]
    }
  ]
}